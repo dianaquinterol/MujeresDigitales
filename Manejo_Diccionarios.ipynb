{
  "nbformat": 4,
  "nbformat_minor": 0,
  "metadata": {
    "colab": {
      "name": "Manejo_Diccionarios.ipynb",
      "provenance": [],
      "include_colab_link": true
    },
    "kernelspec": {
      "name": "python3",
      "display_name": "Python 3"
    },
    "language_info": {
      "name": "python"
    }
  },
  "cells": [
    {
      "cell_type": "markdown",
      "metadata": {
        "id": "view-in-github",
        "colab_type": "text"
      },
      "source": [
        "<a href=\"https://colab.research.google.com/github/dianaquinterol/MujeresDigitales/blob/main/Manejo_Diccionarios.ipynb\" target=\"_parent\"><img src=\"https://colab.research.google.com/assets/colab-badge.svg\" alt=\"Open In Colab\"/></a>"
      ]
    },
    {
      "cell_type": "code",
      "metadata": {
        "id": "SpNW2wZIYTVy"
      },
      "source": [
        ""
      ],
      "execution_count": null,
      "outputs": []
    },
    {
      "cell_type": "markdown",
      "metadata": {
        "id": "Ot2Wza8yYWSv"
      },
      "source": [
        "# Ejemplos listas"
      ]
    },
    {
      "cell_type": "code",
      "metadata": {
        "colab": {
          "base_uri": "https://localhost:8080/"
        },
        "id": "n_fADb27YbFB",
        "outputId": "ed9df085-e799-4d9d-f6e5-75d09cf11425"
      },
      "source": [
        "a = [\"luisa\", 5,True, \"abogada\"]\n",
        "print(a,type(a))\n",
        "print(a[0])"
      ],
      "execution_count": 8,
      "outputs": [
        {
          "output_type": "stream",
          "text": [
            "['luisa', 5, True, 'abogada'] <class 'list'>\n",
            "luisa\n"
          ],
          "name": "stdout"
        }
      ]
    },
    {
      "cell_type": "markdown",
      "metadata": {
        "id": "vLZCWqH2ZXvI"
      },
      "source": [
        "# Ejemplos tuplas"
      ]
    },
    {
      "cell_type": "code",
      "metadata": {
        "colab": {
          "base_uri": "https://localhost:8080/"
        },
        "id": "NC2vqMOeZemm",
        "outputId": "4d5fc701-1638-4d59-e997-67cf6a762115"
      },
      "source": [
        "b= (\"Gabriela\", -1, \"flor\", 6)\n",
        "print(b)\n",
        "a =(\"Juana\",17 , \"estudiante\")\n",
        "print(a, b)\n",
        "print(a, b[0])\n",
        "print(a[1],b[2])"
      ],
      "execution_count": 13,
      "outputs": [
        {
          "output_type": "stream",
          "text": [
            "('Gabriela', -1, 'flor', 6)\n",
            "('Juana', 17, 'estudiante') ('Gabriela', -1, 'flor', 6)\n",
            "('Juana', 17, 'estudiante') Gabriela\n",
            "17 flor\n"
          ],
          "name": "stdout"
        }
      ]
    },
    {
      "cell_type": "markdown",
      "metadata": {
        "id": "4HMdmsAaa7KY"
      },
      "source": [
        "# ejemplos diccionarios"
      ]
    },
    {
      "cell_type": "code",
      "metadata": {
        "colab": {
          "base_uri": "https://localhost:8080/"
        },
        "id": "PKfLQTZBa-vE",
        "outputId": "ce6e41b1-9b0b-4bf6-e070-3b504ea3b884"
      },
      "source": [
        "diccionario = {\n",
        "  \"clave1\":234,\n",
        "  \"clave2\":True,\n",
        "  \"clave3\":\"Valor 1\",\n",
        "  \"clave4\":[1,2,3,4]}\n",
        "print(diccionario, type(diccionario))\n",
        "print(diccionario.values())\n",
        "print(diccionario.keys())\n",
        "print(diccionario.items())\n",
        "\n"
      ],
      "execution_count": 55,
      "outputs": [
        {
          "output_type": "stream",
          "text": [
            "{'clave1': 234, 'clave2': True, 'clave3': 'Valor 1', 'clave4': [1, 2, 3, 4]} <class 'dict'>\n",
            "dict_values([234, True, 'Valor 1', [1, 2, 3, 4]])\n",
            "dict_keys(['clave1', 'clave2', 'clave3', 'clave4'])\n",
            "dict_items([('clave1', 234), ('clave2', True), ('clave3', 'Valor 1'), ('clave4', [1, 2, 3, 4])])\n"
          ],
          "name": "stdout"
        }
      ]
    },
    {
      "cell_type": "code",
      "metadata": {
        "id": "8TpQYhEmtTBM"
      },
      "source": [
        ""
      ],
      "execution_count": null,
      "outputs": []
    },
    {
      "cell_type": "markdown",
      "metadata": {
        "id": "5swkhiyqvJMC"
      },
      "source": [
        "# Operadores aritmeticos"
      ]
    },
    {
      "cell_type": "markdown",
      "metadata": {
        "id": "PfIrc-NNvcjo"
      },
      "source": [
        "## suma y resta"
      ]
    },
    {
      "cell_type": "markdown",
      "metadata": {
        "id": "heM7VpbUwL2r"
      },
      "source": [
        ""
      ]
    },
    {
      "cell_type": "markdown",
      "metadata": {
        "id": "0bMW5n8OwIql"
      },
      "source": [
        ""
      ]
    },
    {
      "cell_type": "code",
      "metadata": {
        "id": "WbvEyGxYveS3",
        "outputId": "8cedf980-d1cc-4648-d0ad-458128587c6a",
        "colab": {
          "base_uri": "https://localhost:8080/"
        }
      },
      "source": [
        "print(10+300)\n",
        "a = 20\n",
        "b = 35\n",
        "print(a+b)\n",
        "\n",
        "#resta\n",
        "print(10-300)\n",
        "a = 20\n",
        "b = 35\n",
        "print(a-b)\n"
      ],
      "execution_count": 59,
      "outputs": [
        {
          "output_type": "stream",
          "text": [
            "310\n",
            "55\n",
            "-290\n",
            "-15\n"
          ],
          "name": "stdout"
        }
      ]
    },
    {
      "cell_type": "code",
      "metadata": {
        "id": "B8wIr-6zwf-g",
        "outputId": "71d9bdd3-15e8-4c20-bc95-57e7c73ac829",
        "colab": {
          "base_uri": "https://localhost:8080/"
        }
      },
      "source": [
        "numero_botellas = 12\n",
        "numero_botellas = numero_botellas +8\n",
        "print(numero_botellas)\n",
        "print(numero_botellas + 8)"
      ],
      "execution_count": 62,
      "outputs": [
        {
          "output_type": "stream",
          "text": [
            "20\n",
            "28\n"
          ],
          "name": "stdout"
        }
      ]
    },
    {
      "cell_type": "markdown",
      "metadata": {
        "id": "qg8hvUBJxCMG"
      },
      "source": [
        "# Sumas entre los diferentes tipos de variables"
      ]
    },
    {
      "cell_type": "code",
      "metadata": {
        "id": "tj7XwB2cxStW",
        "outputId": "2cf843de-54ea-49bf-97a9-8f319d3ca015",
        "colab": {
          "base_uri": "https://localhost:8080/"
        }
      },
      "source": [
        "q1 = 100\n",
        "q2 = 24.5\n",
        "print(type(q1 + q2))"
      ],
      "execution_count": 65,
      "outputs": [
        {
          "output_type": "stream",
          "text": [
            "<class 'float'>\n"
          ],
          "name": "stdout"
        }
      ]
    },
    {
      "cell_type": "code",
      "metadata": {
        "id": "5NuCVjMPxymA",
        "outputId": "ab51e20c-9b8d-4663-b29c-773b3d2138dc",
        "colab": {
          "base_uri": "https://localhost:8080/"
        }
      },
      "source": [
        "v1 = \" quiero \"\n",
        "v2 = \"un celular\"\n",
        "v3 = v1 + v2\n",
        "print(v3)\n",
        "\n"
      ],
      "execution_count": 67,
      "outputs": [
        {
          "output_type": "stream",
          "text": [
            " quiero un celular\n"
          ],
          "name": "stdout"
        }
      ]
    },
    {
      "cell_type": "code",
      "metadata": {
        "id": "99zZmgnvyW-S",
        "outputId": "1128967f-14b8-4890-aa2d-c34789fb10b2",
        "colab": {
          "base_uri": "https://localhost:8080/"
        }
      },
      "source": [
        "xq2 = 235\n",
        "xq3 = 400\n",
        "print(xq2-xq3)\n",
        "\n",
        "xq2 = 24.66\n",
        "xq3 = 4\n",
        "print(type(xq2-xq3))\n",
        "print(xq2-xq3)\n"
      ],
      "execution_count": 71,
      "outputs": [
        {
          "output_type": "stream",
          "text": [
            "-165\n",
            "<class 'float'>\n",
            "20.66\n"
          ],
          "name": "stdout"
        }
      ]
    },
    {
      "cell_type": "code",
      "metadata": {
        "id": "8JS53UbZy2Mo"
      },
      "source": [
        ""
      ],
      "execution_count": null,
      "outputs": []
    },
    {
      "cell_type": "markdown",
      "metadata": {
        "id": "3g7T2hj-0eCU"
      },
      "source": [
        "# Multiplicacion"
      ]
    },
    {
      "cell_type": "code",
      "metadata": {
        "id": "XQ-fWjWR0hDe",
        "outputId": "df80c087-7741-42df-a457-ca801742bd9e",
        "colab": {
          "base_uri": "https://localhost:8080/"
        }
      },
      "source": [
        "cali = 5\n",
        "palmira = 6\n",
        "print(cali * palmira)\n",
        "\n",
        "cali = 5\n",
        "palmira = 6\n",
        "print(palmira * cali)"
      ],
      "execution_count": 74,
      "outputs": [
        {
          "output_type": "stream",
          "text": [
            "30\n",
            "30\n"
          ],
          "name": "stdout"
        }
      ]
    },
    {
      "cell_type": "code",
      "metadata": {
        "id": "uERcntkX14ax"
      },
      "source": [
        ""
      ],
      "execution_count": null,
      "outputs": []
    },
    {
      "cell_type": "markdown",
      "metadata": {
        "id": "wCTDHTC42F_U"
      },
      "source": [
        "# Division"
      ]
    },
    {
      "cell_type": "code",
      "metadata": {
        "id": "iNenGnq92JO3",
        "outputId": "699203d7-8e86-4ca6-b180-85f3a671ae7a",
        "colab": {
          "base_uri": "https://localhost:8080/"
        }
      },
      "source": [
        "a = 20\n",
        "b = 4\n",
        "print(a/b,\" \" ,b/a, \" \",a+b,\" \" ,a-b)"
      ],
      "execution_count": 77,
      "outputs": [
        {
          "output_type": "stream",
          "text": [
            "5.0   0.2   24   16\n"
          ],
          "name": "stdout"
        }
      ]
    },
    {
      "cell_type": "markdown",
      "metadata": {
        "id": "QV1aLSLQ2r2K"
      },
      "source": [
        "# Tipos de division"
      ]
    },
    {
      "cell_type": "code",
      "metadata": {
        "id": "y-LaShg52wpY",
        "outputId": "57e34454-3c40-4b54-d076-d7aa318f0e2f",
        "colab": {
          "base_uri": "https://localhost:8080/"
        }
      },
      "source": [
        "print(15//3)# division exacta\n",
        "print(15/4) # division inexacta"
      ],
      "execution_count": 82,
      "outputs": [
        {
          "output_type": "stream",
          "text": [
            "5\n",
            "3.75\n"
          ],
          "name": "stdout"
        }
      ]
    },
    {
      "cell_type": "markdown",
      "metadata": {
        "id": "-5mVQkdG38Kf"
      },
      "source": [
        "# Modulo y potenciacion"
      ]
    },
    {
      "cell_type": "code",
      "metadata": {
        "id": "MwJ2Xg124Do2",
        "outputId": "158152f6-056e-44c1-8b10-bd74f10dc3c4",
        "colab": {
          "base_uri": "https://localhost:8080/"
        }
      },
      "source": [
        "print(2**4) # el primer valor es la base y el segundo es la potencia\n",
        "print(3**3)"
      ],
      "execution_count": 83,
      "outputs": [
        {
          "output_type": "stream",
          "text": [
            "16\n"
          ],
          "name": "stdout"
        }
      ]
    },
    {
      "cell_type": "code",
      "metadata": {
        "id": "OkF2XqhP5FEC",
        "outputId": "2aeb62cc-7698-4b64-e937-1543864e2e66",
        "colab": {
          "base_uri": "https://localhost:8080/"
        }
      },
      "source": [
        "print(88%9) # el primer valor es el dividendo y el segundo el divisor\n",
        "print(81%9)"
      ],
      "execution_count": 85,
      "outputs": [
        {
          "output_type": "stream",
          "text": [
            "7\n",
            "0\n"
          ],
          "name": "stdout"
        }
      ]
    },
    {
      "cell_type": "code",
      "metadata": {
        "id": "eaGE9csF81ES",
        "outputId": "67118af2-7575-4738-d9d6-3c0961b79ea2",
        "colab": {
          "base_uri": "https://localhost:8080/"
        }
      },
      "source": [
        "x = 30\n",
        "z = 31\n",
        "print(x==z)"
      ],
      "execution_count": 86,
      "outputs": [
        {
          "output_type": "stream",
          "text": [
            "False\n"
          ],
          "name": "stdout"
        }
      ]
    },
    {
      "cell_type": "code",
      "metadata": {
        "id": "M58_-UEwxHfe",
        "outputId": "f48286d0-e137-43ce-da7e-9885d5834b33",
        "colab": {
          "base_uri": "https://localhost:8080/"
        }
      },
      "source": [
        "x = \"casa\"\n",
        "z = \"casa\"\n",
        "print(x==z)\n",
        "\n",
        "x = \"casa\"\n",
        "z = \"caza\"\n",
        "print(x==z)"
      ],
      "execution_count": 88,
      "outputs": [
        {
          "output_type": "stream",
          "text": [
            "True\n",
            "False\n"
          ],
          "name": "stdout"
        }
      ]
    },
    {
      "cell_type": "code",
      "metadata": {
        "id": "s5tbAe7__if-",
        "outputId": "5805a56f-6222-4110-9df9-82e540a9363c",
        "colab": {
          "base_uri": "https://localhost:8080/"
        }
      },
      "source": [
        "x = \"casa\"\n",
        "z = \"caza\"\n",
        "print(x != z)\n",
        "\n",
        "print(30>29.8)\n",
        "print(20>10)"
      ],
      "execution_count": 93,
      "outputs": [
        {
          "output_type": "stream",
          "text": [
            "True\n",
            "True\n",
            "True\n"
          ],
          "name": "stdout"
        }
      ]
    },
    {
      "cell_type": "code",
      "metadata": {
        "id": "x11GldJfBNZ2",
        "outputId": "82257e86-3af6-4564-ac3e-b07cfd143fcf",
        "colab": {
          "base_uri": "https://localhost:8080/"
        }
      },
      "source": [
        "x = 10 # mayor que >\n",
        "y = 5\n",
        "print(x > y)"
      ],
      "execution_count": 94,
      "outputs": [
        {
          "output_type": "stream",
          "text": [
            "True\n"
          ],
          "name": "stdout"
        }
      ]
    },
    {
      "cell_type": "code",
      "metadata": {
        "id": "Ss4XE1zIBadh",
        "outputId": "ec4ac04e-5a28-455c-dbf0-6e78f4b55dff",
        "colab": {
          "base_uri": "https://localhost:8080/"
        }
      },
      "source": [
        "#menor que <\n",
        "c = 45\n",
        "print(c<26)\n"
      ],
      "execution_count": 95,
      "outputs": [
        {
          "output_type": "stream",
          "text": [
            "False\n"
          ],
          "name": "stdout"
        }
      ]
    },
    {
      "cell_type": "code",
      "metadata": {
        "id": "YlZFQK7RDblT",
        "outputId": "39a2453a-6be0-4fbf-e2b8-f6bd2fd63d99",
        "colab": {
          "base_uri": "https://localhost:8080/"
        }
      },
      "source": [
        "a = 3\n",
        "b = 2\n",
        "print(a>4 or a == 4)\n",
        "print(b == b and a>= b)"
      ],
      "execution_count": 98,
      "outputs": [
        {
          "output_type": "stream",
          "text": [
            "False\n",
            "True\n"
          ],
          "name": "stdout"
        }
      ]
    },
    {
      "cell_type": "code",
      "metadata": {
        "id": "nHY0YuOgGG-R",
        "outputId": "127961ed-ba63-4f85-b001-3def6408b19d",
        "colab": {
          "base_uri": "https://localhost:8080/"
        }
      },
      "source": [
        "print(not False)\n",
        "print(not True)"
      ],
      "execution_count": 99,
      "outputs": [
        {
          "output_type": "stream",
          "text": [
            "True\n",
            "False\n"
          ],
          "name": "stdout"
        }
      ]
    },
    {
      "cell_type": "code",
      "metadata": {
        "id": "prmFYuYtIFKU",
        "outputId": "159cfe9a-a046-437d-f5b1-f5e2b6e25edb",
        "colab": {
          "base_uri": "https://localhost:8080/"
        }
      },
      "source": [
        "a = False\n",
        "b = True\n",
        "c = True\n",
        "\n",
        "print(not c and (a or b ))"
      ],
      "execution_count": 101,
      "outputs": [
        {
          "output_type": "stream",
          "text": [
            "False\n"
          ],
          "name": "stdout"
        }
      ]
    },
    {
      "cell_type": "code",
      "metadata": {
        "id": "BM8BDsjeIuup",
        "outputId": "8a08f83f-2302-4563-849e-0aa6f2e56420",
        "colab": {
          "base_uri": "https://localhost:8080/"
        }
      },
      "source": [
        "print(3-2 * (13-5))"
      ],
      "execution_count": 102,
      "outputs": [
        {
          "output_type": "stream",
          "text": [
            "-13\n"
          ],
          "name": "stdout"
        }
      ]
    },
    {
      "cell_type": "code",
      "metadata": {
        "id": "aE04twbuE5LO"
      },
      "source": [
        ""
      ],
      "execution_count": null,
      "outputs": []
    },
    {
      "cell_type": "code",
      "metadata": {
        "id": "yVZDriZyvNSO"
      },
      "source": [
        ""
      ],
      "execution_count": null,
      "outputs": []
    }
  ]
}