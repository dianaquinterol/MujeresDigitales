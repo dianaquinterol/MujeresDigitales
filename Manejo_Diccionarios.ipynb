{
  "nbformat": 4,
  "nbformat_minor": 0,
  "metadata": {
    "colab": {
      "name": "Manejo_Diccionarios.ipynb",
      "provenance": [],
      "include_colab_link": true
    },
    "kernelspec": {
      "name": "python3",
      "display_name": "Python 3"
    },
    "language_info": {
      "name": "python"
    }
  },
  "cells": [
    {
      "cell_type": "markdown",
      "metadata": {
        "id": "view-in-github",
        "colab_type": "text"
      },
      "source": [
        "<a href=\"https://colab.research.google.com/github/dianaquinterol/MujeresDigitales/blob/main/Manejo_Diccionarios.ipynb\" target=\"_parent\"><img src=\"https://colab.research.google.com/assets/colab-badge.svg\" alt=\"Open In Colab\"/></a>"
      ]
    },
    {
      "cell_type": "code",
      "metadata": {
        "id": "SpNW2wZIYTVy"
      },
      "source": [
        ""
      ],
      "execution_count": null,
      "outputs": []
    },
    {
      "cell_type": "markdown",
      "metadata": {
        "id": "Ot2Wza8yYWSv"
      },
      "source": [
        "# Ejemplos listas"
      ]
    },
    {
      "cell_type": "code",
      "metadata": {
        "id": "n_fADb27YbFB",
        "outputId": "ed9df085-e799-4d9d-f6e5-75d09cf11425",
        "colab": {
          "base_uri": "https://localhost:8080/"
        }
      },
      "source": [
        "a = [\"luisa\", 5,True, \"abogada\"]\n",
        "print(a,type(a))\n",
        "print(a[0])"
      ],
      "execution_count": 8,
      "outputs": [
        {
          "output_type": "stream",
          "text": [
            "['luisa', 5, True, 'abogada'] <class 'list'>\n",
            "luisa\n"
          ],
          "name": "stdout"
        }
      ]
    },
    {
      "cell_type": "markdown",
      "metadata": {
        "id": "vLZCWqH2ZXvI"
      },
      "source": [
        "# Ejemplos tuplas"
      ]
    },
    {
      "cell_type": "code",
      "metadata": {
        "id": "NC2vqMOeZemm",
        "outputId": "4d5fc701-1638-4d59-e997-67cf6a762115",
        "colab": {
          "base_uri": "https://localhost:8080/"
        }
      },
      "source": [
        "b= (\"Gabriela\", -1, \"flor\", 6)\n",
        "print(b)\n",
        "a =(\"Juana\",17 , \"estudiante\")\n",
        "print(a, b)\n",
        "print(a, b[0])\n",
        "print(a[1],b[2])"
      ],
      "execution_count": 13,
      "outputs": [
        {
          "output_type": "stream",
          "text": [
            "('Gabriela', -1, 'flor', 6)\n",
            "('Juana', 17, 'estudiante') ('Gabriela', -1, 'flor', 6)\n",
            "('Juana', 17, 'estudiante') Gabriela\n",
            "17 flor\n"
          ],
          "name": "stdout"
        }
      ]
    },
    {
      "cell_type": "markdown",
      "metadata": {
        "id": "4HMdmsAaa7KY"
      },
      "source": [
        "# ejemplos diccionarios"
      ]
    },
    {
      "cell_type": "code",
      "metadata": {
        "id": "PKfLQTZBa-vE",
        "outputId": "ce6e41b1-9b0b-4bf6-e070-3b504ea3b884",
        "colab": {
          "base_uri": "https://localhost:8080/"
        }
      },
      "source": [
        "diccionario = {\n",
        "  \"clave1\":234,\n",
        "  \"clave2\":True,\n",
        "  \"clave3\":\"Valor 1\",\n",
        "  \"clave4\":[1,2,3,4]}\n",
        "print(diccionario, type(diccionario))\n",
        "print(diccionario.values())\n",
        "print(diccionario.keys())\n",
        "print(diccionario.items())\n",
        "\n"
      ],
      "execution_count": 55,
      "outputs": [
        {
          "output_type": "stream",
          "text": [
            "{'clave1': 234, 'clave2': True, 'clave3': 'Valor 1', 'clave4': [1, 2, 3, 4]} <class 'dict'>\n",
            "dict_values([234, True, 'Valor 1', [1, 2, 3, 4]])\n",
            "dict_keys(['clave1', 'clave2', 'clave3', 'clave4'])\n",
            "dict_items([('clave1', 234), ('clave2', True), ('clave3', 'Valor 1'), ('clave4', [1, 2, 3, 4])])\n"
          ],
          "name": "stdout"
        }
      ]
    }
  ]
}