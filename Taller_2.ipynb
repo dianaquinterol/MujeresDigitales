{
  "nbformat": 4,
  "nbformat_minor": 0,
  "metadata": {
    "colab": {
      "provenance": [],
      "authorship_tag": "ABX9TyM46YVvNVAs9L80y2mrycAD",
      "include_colab_link": true
    },
    "kernelspec": {
      "name": "python3",
      "display_name": "Python 3"
    },
    "language_info": {
      "name": "python"
    }
  },
  "cells": [
    {
      "cell_type": "markdown",
      "metadata": {
        "id": "view-in-github",
        "colab_type": "text"
      },
      "source": [
        "<a href=\"https://colab.research.google.com/github/dianaquinterol/MujeresDigitales/blob/main/Taller_2.ipynb\" target=\"_parent\"><img src=\"https://colab.research.google.com/assets/colab-badge.svg\" alt=\"Open In Colab\"/></a>"
      ]
    },
    {
      "cell_type": "markdown",
      "source": [
        "Haciendo uso de diccionarios, tuplas, sets  y listas realizar un programa python que permita el cambio de divisas\n",
        "Se recomienda al menos 5 tipos de divisas\n",
        "Se debe informar la ganancia para el comprador y para el vendedor"
      ],
      "metadata": {
        "id": "8d7xAaOLN9zJ"
      }
    },
    {
      "cell_type": "code",
      "execution_count": null,
      "metadata": {
        "id": "lPiIvlM74QnU"
      },
      "outputs": [],
      "source": [
        "import requests\n",
        "from bs4 import BeautifulSoup as bs\n",
        "from dateutil.parser import parse\n",
        "from pprint import pprint\n",
        "import pandas as pd\n",
        "\n"
      ]
    },
    {
      "cell_type": "code",
      "source": [
        "<a href=\"https://www.x-rates.com/graph/?from=USD&amp;to=COP\">4768.345542</a>\n",
        "<a class=\"sister\" href=\"http://example.com/elsie\" id=\"link1\">Elsie</a>\n",
        "def obtener_Vdivisa(currency, amount=1):\n",
        "    #hago un request a la pagina de divisas actualizadas\n",
        "    content = requests.get(f\"https://www.x-rates.com/table/?from={currency}&amount={amount}\").content\n",
        "    #uso de libreria 'Beautifulsoup'.\n",
        "    soup = bs(content, \"html.parser\")\n",
        "    #vamos a obtener el listado de cambios para la divisa\n",
        "    precio_actual = parse(soup.find_all(\"span\", attrs={\"class\": \"ratesTimestamp\"})[1].text)\n",
        "    #encontrar la consulta en forma de tabla\n",
        "    tabla = soup.find_all(\"table\")\n",
        "    tasa_cambios = {}\n",
        "    for cambio_table in tabla:\n",
        "        for tr in cambio_table.find_all(\"tr\"):\n",
        "            vmoneda = tr.find_all(\"td\")\n",
        "            if vmoneda:\n",
        "                currency = vmoneda[0].text\n",
        "                tasa_cambio = float(vmoneda[1].text)\n",
        "                tasa_cambios[currency] = tasa_cambio        \n",
        "    return precio_actual, tasa_cambios\n",
        "    \n",
        "#obtener listado\n",
        "if __name__ == \"__main__\":\n",
        "    import sys\n",
        "    n_divisa = 'EUR'\n",
        "    amount = 1\n",
        "    precio_actual, tasa_cambios = obtener_Vdivisa(n_divisa, amount)\n",
        "    print(\"VALOR DE DIVISA\", precio_actual)\n",
        "    pprint(tasa_cambios)\n",
        "   "
      ],
      "metadata": {
        "colab": {
          "base_uri": "https://localhost:8080/"
        },
        "id": "PDkionny4V4g",
        "outputId": "bd562f0e-7ebf-41ca-a5f5-ba85c5b6f1ce"
      },
      "execution_count": null,
      "outputs": [
        {
          "output_type": "stream",
          "name": "stdout",
          "text": [
            "VALOR DE DIVISA 2022-12-03 04:17:00+00:00\n",
            "{'Argentine Peso': 177.199903,\n",
            " 'Australian Dollar': 1.550936,\n",
            " 'Bahraini Dinar': 0.396297,\n",
            " 'Botswana Pula': 13.661192,\n",
            " 'Brazilian Real': 5.500953,\n",
            " 'British Pound': 0.85737,\n",
            " 'Bruneian Dollar': 1.425298,\n",
            " 'Bulgarian Lev': 1.95583,\n",
            " 'Canadian Dollar': 1.419832,\n",
            " 'Chilean Peso': 931.18804,\n",
            " 'Chinese Yuan Renminbi': 7.402869,\n",
            " 'Colombian Peso': 5025.733734,\n",
            " 'Croatian Kuna': 7.550713,\n",
            " 'Czech Koruna': 24.364331,\n",
            " 'Danish Krone': 7.436675,\n",
            " 'Emirati Dirham': 3.870744,\n",
            " 'Hong Kong Dollar': 8.20826,\n",
            " 'Hungarian Forint': 409.939588,\n",
            " 'Icelandic Krona': 148.694889,\n",
            " 'Indian Rupee': 85.778145,\n",
            " 'Indonesian Rupiah': 16200.747647,\n",
            " 'Iranian Rial': 44644.512708,\n",
            " 'Israeli Shekel': 3.586344,\n",
            " 'Japanese Yen': 141.562802,\n",
            " 'Kazakhstani Tenge': 495.864198,\n",
            " 'Kuwaiti Dinar': 0.323054,\n",
            " 'Libyan Dinar': 5.12213,\n",
            " 'Malaysian Ringgit': 4.628548,\n",
            " 'Mauritian Rupee': 45.967455,\n",
            " 'Mexican Peso': 20.438286,\n",
            " 'Nepalese Rupee': 137.309365,\n",
            " 'New Zealand Dollar': 1.643262,\n",
            " 'Norwegian Krone': 10.258045,\n",
            " 'Omani Rial': 0.406015,\n",
            " 'Pakistani Rupee': 236.432807,\n",
            " 'Philippine Peso': 58.585694,\n",
            " 'Polish Zloty': 4.676455,\n",
            " 'Qatari Riyal': 3.836489,\n",
            " 'Romanian New Leu': 4.923344,\n",
            " 'Russian Ruble': 65.893155,\n",
            " 'Saudi Arabian Riyal': 3.952427,\n",
            " 'Singapore Dollar': 1.425298,\n",
            " 'South African Rand': 18.451835,\n",
            " 'South Korean Won': 1359.923614,\n",
            " 'Sri Lankan Rupee': 388.072178,\n",
            " 'Swedish Krona': 10.889243,\n",
            " 'Swiss Franc': 0.98646,\n",
            " 'Taiwan New Dollar': 32.20481,\n",
            " 'Thai Baht': 36.584656,\n",
            " 'Trinidadian Dollar': 7.145233,\n",
            " 'Turkish Lira': 19.640126,\n",
            " 'US Dollar': 1.053981,\n",
            " 'Venezuelan Bolivar': 1188777.188648}\n"
          ]
        }
      ]
    },
    {
      "cell_type": "code",
      "source": [],
      "metadata": {
        "id": "D4twp3toQ-cY"
      },
      "execution_count": null,
      "outputs": []
    }
  ]
}