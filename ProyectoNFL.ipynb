{
  "nbformat": 4,
  "nbformat_minor": 0,
  "metadata": {
    "colab": {
      "name": "ProyectoNFL.ipynb",
      "provenance": [],
      "include_colab_link": true
    },
    "kernelspec": {
      "name": "python3",
      "display_name": "Python 3"
    },
    "language_info": {
      "name": "python"
    }
  },
  "cells": [
    {
      "cell_type": "markdown",
      "metadata": {
        "id": "view-in-github",
        "colab_type": "text"
      },
      "source": [
        "<a href=\"https://colab.research.google.com/github/dianaquinterol/MujeresDigitales/blob/main/ProyectoNFL.ipynb\" target=\"_parent\"><img src=\"https://colab.research.google.com/assets/colab-badge.svg\" alt=\"Open In Colab\"/></a>"
      ]
    },
    {
      "cell_type": "code",
      "metadata": {
        "id": "TWdfxqWa_qFp"
      },
      "source": [
        "import os\n",
        "import pandas as pd\n",
        "import numpy as np\n",
        "import seaborn as sns\n",
        "import matplotlib.pyplot as plt\n",
        "import statsmodels.api as sm\n",
        "import statsmodels.formula.api as sfm\n",
        "from matplotlib.widgets import Slider, Button, RadioButtons\n",
        "from scipy import interp\n",
        "from scipy.optimize import fsolve\n",
        "from scipy.stats import chi2_contingency, ttest_ind\n",
        "from sklearn.metrics import roc_curve, auc\n",
        "from sklearn.model_selection import StratifiedKFold\n",
        "from statsmodels.formula.api import ols"
      ],
      "execution_count": null,
      "outputs": []
    },
    {
      "cell_type": "code",
      "metadata": {
        "id": "m90BH171CNQg"
      },
      "source": [
        "df= pd.read_csv(\"pbp-2021.csv\")"
      ],
      "execution_count": null,
      "outputs": []
    },
    {
      "cell_type": "code",
      "metadata": {
        "colab": {
          "base_uri": "https://localhost:8080/"
        },
        "id": "YJyDiw9MFo7X",
        "outputId": "a290b598-c93f-484c-b857-33baedc81041"
      },
      "source": [
        "df.describe"
      ],
      "execution_count": null,
      "outputs": [
        {
          "output_type": "execute_result",
          "data": {
            "text/plain": [
              "<bound method NDFrame.describe of            GameId    GameDate  Quarter  ...  IsNoPlay  PenaltyType PenaltyYards\n",
              "0      2021103112  2021-10-31        3  ...         0          NaN            0\n",
              "1      2021103112  2021-10-31        3  ...         0          NaN            0\n",
              "2      2021103112  2021-10-31        3  ...         0          NaN            0\n",
              "3      2021103112  2021-10-31        3  ...         0          NaN            0\n",
              "4      2021103112  2021-10-31        3  ...         0          NaN            0\n",
              "...           ...         ...      ...  ...       ...          ...          ...\n",
              "21878  2021091204  2021-09-12        4  ...         0          NaN            0\n",
              "21879  2021091202  2021-09-12        1  ...         0          NaN            0\n",
              "21880  2021090900  2021-09-09        3  ...         0          NaN            0\n",
              "21881  2021090900  2021-09-09        2  ...         0          NaN            0\n",
              "21882  2021090900  2021-09-09        1  ...         0          NaN            0\n",
              "\n",
              "[21883 rows x 45 columns]>"
            ]
          },
          "metadata": {},
          "execution_count": 47
        }
      ]
    },
    {
      "cell_type": "code",
      "metadata": {
        "colab": {
          "base_uri": "https://localhost:8080/"
        },
        "id": "wUykhqmcCvFz",
        "outputId": "9bba9f12-83a0-4cc8-d019-04af38408fff"
      },
      "source": [
        "df.shape"
      ],
      "execution_count": null,
      "outputs": [
        {
          "output_type": "execute_result",
          "data": {
            "text/plain": [
              "(21883, 45)"
            ]
          },
          "metadata": {},
          "execution_count": 48
        }
      ]
    },
    {
      "cell_type": "code",
      "metadata": {
        "colab": {
          "base_uri": "https://localhost:8080/"
        },
        "id": "uAwcA-RvC1OZ",
        "outputId": "0011c642-e8de-40b9-c32c-703ad0ddfe7c"
      },
      "source": [
        "df[\"GameId\"].unique().shape"
      ],
      "execution_count": null,
      "outputs": [
        {
          "output_type": "execute_result",
          "data": {
            "text/plain": [
              "(122,)"
            ]
          },
          "metadata": {},
          "execution_count": 49
        }
      ]
    },
    {
      "cell_type": "code",
      "metadata": {
        "colab": {
          "base_uri": "https://localhost:8080/"
        },
        "id": "sHU9jo4otSdn",
        "outputId": "df9e3620-bdde-4887-882e-196c3ecbf86c"
      },
      "source": [
        "print(df.info())"
      ],
      "execution_count": null,
      "outputs": [
        {
          "output_type": "stream",
          "name": "stdout",
          "text": [
            "<class 'pandas.core.frame.DataFrame'>\n",
            "RangeIndex: 21883 entries, 0 to 21882\n",
            "Data columns (total 45 columns):\n",
            " #   Column                          Non-Null Count  Dtype  \n",
            "---  ------                          --------------  -----  \n",
            " 0   GameId                          21883 non-null  int64  \n",
            " 1   GameDate                        21883 non-null  object \n",
            " 2   Quarter                         21883 non-null  int64  \n",
            " 3   Minute                          21883 non-null  int64  \n",
            " 4   Second                          21883 non-null  int64  \n",
            " 5   OffenseTeam                     19965 non-null  object \n",
            " 6   DefenseTeam                     19965 non-null  object \n",
            " 7   Down                            21883 non-null  int64  \n",
            " 8   ToGo                            21883 non-null  int64  \n",
            " 9   YardLine                        21883 non-null  int64  \n",
            " 10  Unnamed: 10                     0 non-null      float64\n",
            " 11  SeriesFirstDown                 21883 non-null  int64  \n",
            " 12  Unnamed: 12                     0 non-null      float64\n",
            " 13  NextScore                       21883 non-null  int64  \n",
            " 14  Description                     21883 non-null  object \n",
            " 15  TeamWin                         21883 non-null  int64  \n",
            " 16  Unnamed: 16                     0 non-null      float64\n",
            " 17  Unnamed: 17                     0 non-null      float64\n",
            " 18  SeasonYear                      21883 non-null  int64  \n",
            " 19  Yards                           21883 non-null  int64  \n",
            " 20  Formation                       21383 non-null  object \n",
            " 21  PlayType                        20871 non-null  object \n",
            " 22  IsRush                          21883 non-null  int64  \n",
            " 23  IsPass                          21883 non-null  int64  \n",
            " 24  IsIncomplete                    21883 non-null  int64  \n",
            " 25  IsTouchdown                     21883 non-null  int64  \n",
            " 26  PassType                        9078 non-null   object \n",
            " 27  IsSack                          21883 non-null  int64  \n",
            " 28  IsChallenge                     21883 non-null  int64  \n",
            " 29  IsChallengeReversed             21883 non-null  int64  \n",
            " 30  Challenger                      0 non-null      float64\n",
            " 31  IsMeasurement                   21883 non-null  int64  \n",
            " 32  IsInterception                  21883 non-null  int64  \n",
            " 33  IsFumble                        21883 non-null  int64  \n",
            " 34  IsPenalty                       21883 non-null  int64  \n",
            " 35  IsTwoPointConversion            21883 non-null  int64  \n",
            " 36  IsTwoPointConversionSuccessful  21883 non-null  int64  \n",
            " 37  RushDirection                   5832 non-null   object \n",
            " 38  YardLineFixed                   21883 non-null  int64  \n",
            " 39  YardLineDirection               21883 non-null  object \n",
            " 40  IsPenaltyAccepted               21883 non-null  int64  \n",
            " 41  PenaltyTeam                     1729 non-null   object \n",
            " 42  IsNoPlay                        21883 non-null  int64  \n",
            " 43  PenaltyType                     1729 non-null   object \n",
            " 44  PenaltyYards                    21883 non-null  int64  \n",
            "dtypes: float64(5), int64(29), object(11)\n",
            "memory usage: 7.5+ MB\n",
            "None\n"
          ]
        }
      ]
    },
    {
      "cell_type": "code",
      "metadata": {
        "id": "THltSHnyEIaF",
        "colab": {
          "base_uri": "https://localhost:8080/"
        },
        "outputId": "b9eaa4e6-3bef-45b0-ce72-6f84a13f84fb"
      },
      "source": [
        "df[\"OffenseTeam\"].unique()"
      ],
      "execution_count": null,
      "outputs": [
        {
          "output_type": "execute_result",
          "data": {
            "text/plain": [
              "array(['MIN', 'DAL', nan, 'KC', 'NYG', 'JAX', 'SEA', 'NE', 'LAC', 'NO',\n",
              "       'CIN', 'NYJ', 'WAS', 'DEN', 'TB', 'LA', 'HOU', 'PIT', 'CLE', 'IND',\n",
              "       'TEN', 'DET', 'PHI', 'MIA', 'SF', 'BUF', 'CHI', 'GB', 'ARI', 'LV',\n",
              "       'CAR', 'ATL', 'BAL'], dtype=object)"
            ]
          },
          "metadata": {},
          "execution_count": 51
        }
      ]
    },
    {
      "cell_type": "code",
      "metadata": {
        "id": "UO1StdfPDKGW"
      },
      "source": [
        "df1 = [\"OffenseTeamn\"] ==\"MIN\""
      ],
      "execution_count": null,
      "outputs": []
    }
  ]
}