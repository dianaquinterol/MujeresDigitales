{
  "nbformat": 4,
  "nbformat_minor": 0,
  "metadata": {
    "colab": {
      "name": "ProyectoNFL.ipynb",
      "provenance": [],
      "include_colab_link": true
    },
    "kernelspec": {
      "name": "python3",
      "display_name": "Python 3"
    },
    "language_info": {
      "name": "python"
    }
  },
  "cells": [
    {
      "cell_type": "markdown",
      "metadata": {
        "id": "view-in-github",
        "colab_type": "text"
      },
      "source": [
        "<a href=\"https://colab.research.google.com/github/dianaquinterol/MujeresDigitales/blob/main/ProyectoNFL.ipynb\" target=\"_parent\"><img src=\"https://colab.research.google.com/assets/colab-badge.svg\" alt=\"Open In Colab\"/></a>"
      ]
    },
    {
      "cell_type": "markdown",
      "metadata": {
        "id": "2NpRkXN73LUA"
      },
      "source": [
        "# Diana Soraya Quintero Lopez"
      ]
    },
    {
      "cell_type": "code",
      "metadata": {
        "id": "TWdfxqWa_qFp"
      },
      "source": [
        "import os\n",
        "import pandas as pd\n",
        "import numpy as np\n",
        "import seaborn as sns\n",
        "import matplotlib.pyplot as plt\n",
        "import statsmodels\n",
        "from scipy import stats\n",
        "import statsmodels.api as sm\n",
        "import statsmodels.formula.api as sfm\n",
        "from matplotlib.widgets import Slider, Button, RadioButtons\n",
        "from scipy import interp\n",
        "from scipy.optimize import fsolve\n",
        "from scipy.stats import chi2_contingency, ttest_ind\n",
        "from sklearn.metrics import roc_curve, auc\n",
        "from sklearn.model_selection import StratifiedKFold\n",
        "from statsmodels.formula.api import ols\n",
        "from sklearn.linear_model import LogisticRegression\n",
        "from sklearn.ensemble import RandomForestClassifier\n",
        "from sklearn.neighbors import KNeighborsClassifier\n",
        "from sklearn.model_selection import train_test_split\n",
        "from sklearn.metrics import precision_score\n",
        "from sklearn.model_selection import RandomizedSearchCV\n",
        "from sklearn.preprocessing import StandardScaler"
      ],
      "execution_count": 15,
      "outputs": []
    },
    {
      "cell_type": "code",
      "metadata": {
        "id": "m90BH171CNQg"
      },
      "source": [
        "df= pd.read_csv(\"pbp-2021.csv\")"
      ],
      "execution_count": 3,
      "outputs": []
    },
    {
      "cell_type": "code",
      "metadata": {
        "colab": {
          "base_uri": "https://localhost:8080/"
        },
        "id": "YJyDiw9MFo7X",
        "outputId": "cbe6500f-a1b6-4b0a-8c58-b9ba3bef5ccf"
      },
      "source": [
        "df.describe"
      ],
      "execution_count": 4,
      "outputs": [
        {
          "output_type": "execute_result",
          "data": {
            "text/plain": [
              "<bound method NDFrame.describe of            GameId    GameDate  Quarter  ...  IsNoPlay  PenaltyType PenaltyYards\n",
              "0      2021103112  2021-10-31        3  ...         0          NaN            0\n",
              "1      2021103112  2021-10-31        3  ...         0          NaN            0\n",
              "2      2021103112  2021-10-31        3  ...         0          NaN            0\n",
              "3      2021103112  2021-10-31        3  ...         0          NaN            0\n",
              "4      2021103112  2021-10-31        3  ...         0          NaN            0\n",
              "...           ...         ...      ...  ...       ...          ...          ...\n",
              "21878  2021091204  2021-09-12        4  ...         0          NaN            0\n",
              "21879  2021091202  2021-09-12        1  ...         0          NaN            0\n",
              "21880  2021090900  2021-09-09        3  ...         0          NaN            0\n",
              "21881  2021090900  2021-09-09        2  ...         0          NaN            0\n",
              "21882  2021090900  2021-09-09        1  ...         0          NaN            0\n",
              "\n",
              "[21883 rows x 45 columns]>"
            ]
          },
          "metadata": {},
          "execution_count": 4
        }
      ]
    },
    {
      "cell_type": "code",
      "metadata": {
        "colab": {
          "base_uri": "https://localhost:8080/"
        },
        "id": "wUykhqmcCvFz",
        "outputId": "c7d540a4-cf8d-45e0-9015-f490b65dc47b"
      },
      "source": [
        "df.shape"
      ],
      "execution_count": 5,
      "outputs": [
        {
          "output_type": "execute_result",
          "data": {
            "text/plain": [
              "(21883, 45)"
            ]
          },
          "metadata": {},
          "execution_count": 5
        }
      ]
    },
    {
      "cell_type": "code",
      "metadata": {
        "colab": {
          "base_uri": "https://localhost:8080/"
        },
        "id": "uAwcA-RvC1OZ",
        "outputId": "91cce698-0841-4971-9781-18c9b8a35cc2"
      },
      "source": [
        "df[\"GameId\"].unique().shape"
      ],
      "execution_count": 6,
      "outputs": [
        {
          "output_type": "execute_result",
          "data": {
            "text/plain": [
              "(122,)"
            ]
          },
          "metadata": {},
          "execution_count": 6
        }
      ]
    },
    {
      "cell_type": "code",
      "metadata": {
        "id": "zVhuXTd6ZSyw",
        "colab": {
          "base_uri": "https://localhost:8080/"
        },
        "outputId": "a7e6c308-b4d0-429d-f7a6-54509f0ad1ec"
      },
      "source": [
        "df.describe"
      ],
      "execution_count": 7,
      "outputs": [
        {
          "output_type": "execute_result",
          "data": {
            "text/plain": [
              "<bound method NDFrame.describe of            GameId    GameDate  Quarter  ...  IsNoPlay  PenaltyType PenaltyYards\n",
              "0      2021103112  2021-10-31        3  ...         0          NaN            0\n",
              "1      2021103112  2021-10-31        3  ...         0          NaN            0\n",
              "2      2021103112  2021-10-31        3  ...         0          NaN            0\n",
              "3      2021103112  2021-10-31        3  ...         0          NaN            0\n",
              "4      2021103112  2021-10-31        3  ...         0          NaN            0\n",
              "...           ...         ...      ...  ...       ...          ...          ...\n",
              "21878  2021091204  2021-09-12        4  ...         0          NaN            0\n",
              "21879  2021091202  2021-09-12        1  ...         0          NaN            0\n",
              "21880  2021090900  2021-09-09        3  ...         0          NaN            0\n",
              "21881  2021090900  2021-09-09        2  ...         0          NaN            0\n",
              "21882  2021090900  2021-09-09        1  ...         0          NaN            0\n",
              "\n",
              "[21883 rows x 45 columns]>"
            ]
          },
          "metadata": {},
          "execution_count": 7
        }
      ]
    },
    {
      "cell_type": "code",
      "metadata": {
        "colab": {
          "base_uri": "https://localhost:8080/"
        },
        "id": "sHU9jo4otSdn",
        "outputId": "076a897c-1bc9-4656-827b-532f84ee258e"
      },
      "source": [
        "print(df.info())"
      ],
      "execution_count": 8,
      "outputs": [
        {
          "output_type": "stream",
          "name": "stdout",
          "text": [
            "<class 'pandas.core.frame.DataFrame'>\n",
            "RangeIndex: 21883 entries, 0 to 21882\n",
            "Data columns (total 45 columns):\n",
            " #   Column                          Non-Null Count  Dtype  \n",
            "---  ------                          --------------  -----  \n",
            " 0   GameId                          21883 non-null  int64  \n",
            " 1   GameDate                        21883 non-null  object \n",
            " 2   Quarter                         21883 non-null  int64  \n",
            " 3   Minute                          21883 non-null  int64  \n",
            " 4   Second                          21883 non-null  int64  \n",
            " 5   OffenseTeam                     19965 non-null  object \n",
            " 6   DefenseTeam                     19965 non-null  object \n",
            " 7   Down                            21883 non-null  int64  \n",
            " 8   ToGo                            21883 non-null  int64  \n",
            " 9   YardLine                        21883 non-null  int64  \n",
            " 10  Unnamed: 10                     0 non-null      float64\n",
            " 11  SeriesFirstDown                 21883 non-null  int64  \n",
            " 12  Unnamed: 12                     0 non-null      float64\n",
            " 13  NextScore                       21883 non-null  int64  \n",
            " 14  Description                     21883 non-null  object \n",
            " 15  TeamWin                         21883 non-null  int64  \n",
            " 16  Unnamed: 16                     0 non-null      float64\n",
            " 17  Unnamed: 17                     0 non-null      float64\n",
            " 18  SeasonYear                      21883 non-null  int64  \n",
            " 19  Yards                           21883 non-null  int64  \n",
            " 20  Formation                       21383 non-null  object \n",
            " 21  PlayType                        20871 non-null  object \n",
            " 22  IsRush                          21883 non-null  int64  \n",
            " 23  IsPass                          21883 non-null  int64  \n",
            " 24  IsIncomplete                    21883 non-null  int64  \n",
            " 25  IsTouchdown                     21883 non-null  int64  \n",
            " 26  PassType                        9078 non-null   object \n",
            " 27  IsSack                          21883 non-null  int64  \n",
            " 28  IsChallenge                     21883 non-null  int64  \n",
            " 29  IsChallengeReversed             21883 non-null  int64  \n",
            " 30  Challenger                      0 non-null      float64\n",
            " 31  IsMeasurement                   21883 non-null  int64  \n",
            " 32  IsInterception                  21883 non-null  int64  \n",
            " 33  IsFumble                        21883 non-null  int64  \n",
            " 34  IsPenalty                       21883 non-null  int64  \n",
            " 35  IsTwoPointConversion            21883 non-null  int64  \n",
            " 36  IsTwoPointConversionSuccessful  21883 non-null  int64  \n",
            " 37  RushDirection                   5832 non-null   object \n",
            " 38  YardLineFixed                   21883 non-null  int64  \n",
            " 39  YardLineDirection               21883 non-null  object \n",
            " 40  IsPenaltyAccepted               21883 non-null  int64  \n",
            " 41  PenaltyTeam                     1729 non-null   object \n",
            " 42  IsNoPlay                        21883 non-null  int64  \n",
            " 43  PenaltyType                     1729 non-null   object \n",
            " 44  PenaltyYards                    21883 non-null  int64  \n",
            "dtypes: float64(5), int64(29), object(11)\n",
            "memory usage: 7.5+ MB\n",
            "None\n"
          ]
        }
      ]
    },
    {
      "cell_type": "code",
      "metadata": {
        "id": "THltSHnyEIaF",
        "colab": {
          "base_uri": "https://localhost:8080/"
        },
        "outputId": "9949a01f-fcc6-46d6-fdee-e1ea43ff526c"
      },
      "source": [
        "df[\"OffenseTeam\"].unique()"
      ],
      "execution_count": 9,
      "outputs": [
        {
          "output_type": "execute_result",
          "data": {
            "text/plain": [
              "array(['MIN', 'DAL', nan, 'KC', 'NYG', 'JAX', 'SEA', 'NE', 'LAC', 'NO',\n",
              "       'CIN', 'NYJ', 'WAS', 'DEN', 'TB', 'LA', 'HOU', 'PIT', 'CLE', 'IND',\n",
              "       'TEN', 'DET', 'PHI', 'MIA', 'SF', 'BUF', 'CHI', 'GB', 'ARI', 'LV',\n",
              "       'CAR', 'ATL', 'BAL'], dtype=object)"
            ]
          },
          "metadata": {},
          "execution_count": 9
        }
      ]
    },
    {
      "cell_type": "code",
      "metadata": {
        "id": "UO1StdfPDKGW",
        "colab": {
          "base_uri": "https://localhost:8080/"
        },
        "outputId": "ec122a2c-a0be-4188-ae40-bbaa21ed34f9"
      },
      "source": [
        "df[\"DefenseTeam\"].unique()"
      ],
      "execution_count": 10,
      "outputs": [
        {
          "output_type": "execute_result",
          "data": {
            "text/plain": [
              "array(['DAL', 'MIN', nan, 'NYG', 'KC', 'SEA', 'JAX', 'LAC', 'NE', 'TB',\n",
              "       'NYJ', 'CIN', 'DEN', 'WAS', 'NO', 'HOU', 'LA', 'CLE', 'PIT', 'TEN',\n",
              "       'IND', 'PHI', 'DET', 'BUF', 'CHI', 'MIA', 'SF', 'ARI', 'GB', 'LV',\n",
              "       'ATL', 'CAR', 'BAL'], dtype=object)"
            ]
          },
          "metadata": {},
          "execution_count": 10
        }
      ]
    },
    {
      "cell_type": "code",
      "metadata": {
        "colab": {
          "base_uri": "https://localhost:8080/",
          "height": 701
        },
        "id": "F6AmrRU-R8Dy",
        "outputId": "c2195f6c-9954-474c-f8ae-3aa2198bd4f6"
      },
      "source": [
        "game=df.iloc[ :, [0,1,5,6,14,21,25,36,42]]\n",
        "game"
      ],
      "execution_count": 160,
      "outputs": [
        {
          "output_type": "execute_result",
          "data": {
            "text/html": [
              "<div>\n",
              "<style scoped>\n",
              "    .dataframe tbody tr th:only-of-type {\n",
              "        vertical-align: middle;\n",
              "    }\n",
              "\n",
              "    .dataframe tbody tr th {\n",
              "        vertical-align: top;\n",
              "    }\n",
              "\n",
              "    .dataframe thead th {\n",
              "        text-align: right;\n",
              "    }\n",
              "</style>\n",
              "<table border=\"1\" class=\"dataframe\">\n",
              "  <thead>\n",
              "    <tr style=\"text-align: right;\">\n",
              "      <th></th>\n",
              "      <th>GameId</th>\n",
              "      <th>GameDate</th>\n",
              "      <th>OffenseTeam</th>\n",
              "      <th>DefenseTeam</th>\n",
              "      <th>Description</th>\n",
              "      <th>PlayType</th>\n",
              "      <th>IsTouchdown</th>\n",
              "      <th>IsTwoPointConversionSuccessful</th>\n",
              "      <th>IsNoPlay</th>\n",
              "    </tr>\n",
              "  </thead>\n",
              "  <tbody>\n",
              "    <tr>\n",
              "      <th>0</th>\n",
              "      <td>2021103112</td>\n",
              "      <td>2021-10-31</td>\n",
              "      <td>MIN</td>\n",
              "      <td>DAL</td>\n",
              "      <td>(6:36) 1-G.JOSEPH 40 YARD FIELD GOAL IS GOOD, ...</td>\n",
              "      <td>FIELD GOAL</td>\n",
              "      <td>0</td>\n",
              "      <td>0</td>\n",
              "      <td>0</td>\n",
              "    </tr>\n",
              "    <tr>\n",
              "      <th>1</th>\n",
              "      <td>2021103112</td>\n",
              "      <td>2021-10-31</td>\n",
              "      <td>MIN</td>\n",
              "      <td>DAL</td>\n",
              "      <td>(7:18) (SHOTGUN) 8-K.COUSINS PASS SHORT RIGHT ...</td>\n",
              "      <td>PASS</td>\n",
              "      <td>0</td>\n",
              "      <td>0</td>\n",
              "      <td>0</td>\n",
              "    </tr>\n",
              "    <tr>\n",
              "      <th>2</th>\n",
              "      <td>2021103112</td>\n",
              "      <td>2021-10-31</td>\n",
              "      <td>MIN</td>\n",
              "      <td>DAL</td>\n",
              "      <td>(7:23) 8-K.COUSINS PASS INCOMPLETE DEEP RIGHT ...</td>\n",
              "      <td>PASS</td>\n",
              "      <td>0</td>\n",
              "      <td>0</td>\n",
              "      <td>0</td>\n",
              "    </tr>\n",
              "    <tr>\n",
              "      <th>3</th>\n",
              "      <td>2021103112</td>\n",
              "      <td>2021-10-31</td>\n",
              "      <td>MIN</td>\n",
              "      <td>DAL</td>\n",
              "      <td>(7:59) 33-D.COOK RIGHT TACKLE TO DAL 29 FOR -2...</td>\n",
              "      <td>RUSH</td>\n",
              "      <td>0</td>\n",
              "      <td>0</td>\n",
              "      <td>0</td>\n",
              "    </tr>\n",
              "    <tr>\n",
              "      <th>4</th>\n",
              "      <td>2021103112</td>\n",
              "      <td>2021-10-31</td>\n",
              "      <td>MIN</td>\n",
              "      <td>DAL</td>\n",
              "      <td>(8:29) 8-K.COUSINS PASS SHORT RIGHT TO 89-C.HE...</td>\n",
              "      <td>PASS</td>\n",
              "      <td>0</td>\n",
              "      <td>0</td>\n",
              "      <td>0</td>\n",
              "    </tr>\n",
              "    <tr>\n",
              "      <th>...</th>\n",
              "      <td>...</td>\n",
              "      <td>...</td>\n",
              "      <td>...</td>\n",
              "      <td>...</td>\n",
              "      <td>...</td>\n",
              "      <td>...</td>\n",
              "      <td>...</td>\n",
              "      <td>...</td>\n",
              "      <td>...</td>\n",
              "    </tr>\n",
              "    <tr>\n",
              "      <th>21878</th>\n",
              "      <td>2021091204</td>\n",
              "      <td>2021-09-12</td>\n",
              "      <td>NaN</td>\n",
              "      <td>NaN</td>\n",
              "      <td>TIMEOUT #2 BY DET AT 00:58.</td>\n",
              "      <td>TIMEOUT</td>\n",
              "      <td>0</td>\n",
              "      <td>0</td>\n",
              "      <td>0</td>\n",
              "    </tr>\n",
              "    <tr>\n",
              "      <th>21879</th>\n",
              "      <td>2021091202</td>\n",
              "      <td>2021-09-12</td>\n",
              "      <td>NaN</td>\n",
              "      <td>NaN</td>\n",
              "      <td>END QUARTER 1</td>\n",
              "      <td>NaN</td>\n",
              "      <td>0</td>\n",
              "      <td>0</td>\n",
              "      <td>0</td>\n",
              "    </tr>\n",
              "    <tr>\n",
              "      <th>21880</th>\n",
              "      <td>2021090900</td>\n",
              "      <td>2021-09-09</td>\n",
              "      <td>NaN</td>\n",
              "      <td>NaN</td>\n",
              "      <td>END QUARTER 3</td>\n",
              "      <td>NaN</td>\n",
              "      <td>0</td>\n",
              "      <td>0</td>\n",
              "      <td>0</td>\n",
              "    </tr>\n",
              "    <tr>\n",
              "      <th>21881</th>\n",
              "      <td>2021090900</td>\n",
              "      <td>2021-09-09</td>\n",
              "      <td>NaN</td>\n",
              "      <td>NaN</td>\n",
              "      <td>END QUARTER 2</td>\n",
              "      <td>NaN</td>\n",
              "      <td>0</td>\n",
              "      <td>0</td>\n",
              "      <td>0</td>\n",
              "    </tr>\n",
              "    <tr>\n",
              "      <th>21882</th>\n",
              "      <td>2021090900</td>\n",
              "      <td>2021-09-09</td>\n",
              "      <td>DAL</td>\n",
              "      <td>TB</td>\n",
              "      <td>2-G.ZUERLEIN KICKS 65 YARDS FROM DAL 35 TO END...</td>\n",
              "      <td>KICK OFF</td>\n",
              "      <td>0</td>\n",
              "      <td>0</td>\n",
              "      <td>0</td>\n",
              "    </tr>\n",
              "  </tbody>\n",
              "</table>\n",
              "<p>21883 rows × 9 columns</p>\n",
              "</div>"
            ],
            "text/plain": [
              "           GameId    GameDate  ... IsTwoPointConversionSuccessful IsNoPlay\n",
              "0      2021103112  2021-10-31  ...                              0        0\n",
              "1      2021103112  2021-10-31  ...                              0        0\n",
              "2      2021103112  2021-10-31  ...                              0        0\n",
              "3      2021103112  2021-10-31  ...                              0        0\n",
              "4      2021103112  2021-10-31  ...                              0        0\n",
              "...           ...         ...  ...                            ...      ...\n",
              "21878  2021091204  2021-09-12  ...                              0        0\n",
              "21879  2021091202  2021-09-12  ...                              0        0\n",
              "21880  2021090900  2021-09-09  ...                              0        0\n",
              "21881  2021090900  2021-09-09  ...                              0        0\n",
              "21882  2021090900  2021-09-09  ...                              0        0\n",
              "\n",
              "[21883 rows x 9 columns]"
            ]
          },
          "metadata": {},
          "execution_count": 160
        }
      ]
    },
    {
      "cell_type": "code",
      "metadata": {
        "id": "sS8wA8KN3kjL",
        "outputId": "859563e6-efae-49f5-e1b3-0ce1ba3c95c1",
        "colab": {
          "base_uri": "https://localhost:8080/"
        }
      },
      "source": [
        "game.info()"
      ],
      "execution_count": 80,
      "outputs": [
        {
          "output_type": "stream",
          "name": "stdout",
          "text": [
            "<class 'pandas.core.frame.DataFrame'>\n",
            "RangeIndex: 21883 entries, 0 to 21882\n",
            "Data columns (total 9 columns):\n",
            " #   Column                          Non-Null Count  Dtype \n",
            "---  ------                          --------------  ----- \n",
            " 0   GameId                          21883 non-null  int64 \n",
            " 1   GameDate                        21883 non-null  object\n",
            " 2   OffenseTeam                     19965 non-null  object\n",
            " 3   DefenseTeam                     19965 non-null  object\n",
            " 4   Description                     21883 non-null  object\n",
            " 5   PlayType                        20871 non-null  object\n",
            " 6   IsTouchdown                     21883 non-null  int64 \n",
            " 7   IsTwoPointConversionSuccessful  21883 non-null  int64 \n",
            " 8   IsNoPlay                        21883 non-null  int64 \n",
            "dtypes: int64(4), object(5)\n",
            "memory usage: 1.5+ MB\n"
          ]
        }
      ]
    },
    {
      "cell_type": "code",
      "metadata": {
        "id": "GDtRdkycUA7m",
        "outputId": "919ca398-9889-4c8f-979e-af4e5edd1567",
        "colab": {
          "base_uri": "https://localhost:8080/",
          "height": 300
        }
      },
      "source": [
        "game.describe()"
      ],
      "execution_count": 195,
      "outputs": [
        {
          "output_type": "execute_result",
          "data": {
            "text/html": [
              "<div>\n",
              "<style scoped>\n",
              "    .dataframe tbody tr th:only-of-type {\n",
              "        vertical-align: middle;\n",
              "    }\n",
              "\n",
              "    .dataframe tbody tr th {\n",
              "        vertical-align: top;\n",
              "    }\n",
              "\n",
              "    .dataframe thead th {\n",
              "        text-align: right;\n",
              "    }\n",
              "</style>\n",
              "<table border=\"1\" class=\"dataframe\">\n",
              "  <thead>\n",
              "    <tr style=\"text-align: right;\">\n",
              "      <th></th>\n",
              "      <th>GameId</th>\n",
              "      <th>IsTouchdown</th>\n",
              "      <th>IsTwoPointConversionSuccessful</th>\n",
              "      <th>IsNoPlay</th>\n",
              "    </tr>\n",
              "  </thead>\n",
              "  <tbody>\n",
              "    <tr>\n",
              "      <th>count</th>\n",
              "      <td>2.188300e+04</td>\n",
              "      <td>21883.000000</td>\n",
              "      <td>21883.000000</td>\n",
              "      <td>21883.000000</td>\n",
              "    </tr>\n",
              "    <tr>\n",
              "      <th>mean</th>\n",
              "      <td>2.021098e+09</td>\n",
              "      <td>0.032628</td>\n",
              "      <td>0.001919</td>\n",
              "      <td>0.053238</td>\n",
              "    </tr>\n",
              "    <tr>\n",
              "      <th>std</th>\n",
              "      <td>4.958073e+03</td>\n",
              "      <td>0.177665</td>\n",
              "      <td>0.043769</td>\n",
              "      <td>0.224512</td>\n",
              "    </tr>\n",
              "    <tr>\n",
              "      <th>min</th>\n",
              "      <td>2.021091e+09</td>\n",
              "      <td>0.000000</td>\n",
              "      <td>0.000000</td>\n",
              "      <td>0.000000</td>\n",
              "    </tr>\n",
              "    <tr>\n",
              "      <th>25%</th>\n",
              "      <td>2.021092e+09</td>\n",
              "      <td>0.000000</td>\n",
              "      <td>0.000000</td>\n",
              "      <td>0.000000</td>\n",
              "    </tr>\n",
              "    <tr>\n",
              "      <th>50%</th>\n",
              "      <td>2.021100e+09</td>\n",
              "      <td>0.000000</td>\n",
              "      <td>0.000000</td>\n",
              "      <td>0.000000</td>\n",
              "    </tr>\n",
              "    <tr>\n",
              "      <th>75%</th>\n",
              "      <td>2.021102e+09</td>\n",
              "      <td>0.000000</td>\n",
              "      <td>0.000000</td>\n",
              "      <td>0.000000</td>\n",
              "    </tr>\n",
              "    <tr>\n",
              "      <th>max</th>\n",
              "      <td>2.021110e+09</td>\n",
              "      <td>1.000000</td>\n",
              "      <td>1.000000</td>\n",
              "      <td>1.000000</td>\n",
              "    </tr>\n",
              "  </tbody>\n",
              "</table>\n",
              "</div>"
            ],
            "text/plain": [
              "             GameId   IsTouchdown  IsTwoPointConversionSuccessful      IsNoPlay\n",
              "count  2.188300e+04  21883.000000                    21883.000000  21883.000000\n",
              "mean   2.021098e+09      0.032628                        0.001919      0.053238\n",
              "std    4.958073e+03      0.177665                        0.043769      0.224512\n",
              "min    2.021091e+09      0.000000                        0.000000      0.000000\n",
              "25%    2.021092e+09      0.000000                        0.000000      0.000000\n",
              "50%    2.021100e+09      0.000000                        0.000000      0.000000\n",
              "75%    2.021102e+09      0.000000                        0.000000      0.000000\n",
              "max    2.021110e+09      1.000000                        1.000000      1.000000"
            ]
          },
          "metadata": {},
          "execution_count": 195
        }
      ]
    },
    {
      "cell_type": "code",
      "metadata": {
        "id": "-VMTw8JjUj0c",
        "outputId": "dd181921-1837-49ad-e4e7-5ee9f79b06cd",
        "colab": {
          "base_uri": "https://localhost:8080/",
          "height": 701
        }
      },
      "source": [
        "game.fillna(0)"
      ],
      "execution_count": 196,
      "outputs": [
        {
          "output_type": "execute_result",
          "data": {
            "text/html": [
              "<div>\n",
              "<style scoped>\n",
              "    .dataframe tbody tr th:only-of-type {\n",
              "        vertical-align: middle;\n",
              "    }\n",
              "\n",
              "    .dataframe tbody tr th {\n",
              "        vertical-align: top;\n",
              "    }\n",
              "\n",
              "    .dataframe thead th {\n",
              "        text-align: right;\n",
              "    }\n",
              "</style>\n",
              "<table border=\"1\" class=\"dataframe\">\n",
              "  <thead>\n",
              "    <tr style=\"text-align: right;\">\n",
              "      <th></th>\n",
              "      <th>GameId</th>\n",
              "      <th>GameDate</th>\n",
              "      <th>OffenseTeam</th>\n",
              "      <th>DefenseTeam</th>\n",
              "      <th>Description</th>\n",
              "      <th>PlayType</th>\n",
              "      <th>IsTouchdown</th>\n",
              "      <th>IsTwoPointConversionSuccessful</th>\n",
              "      <th>IsNoPlay</th>\n",
              "    </tr>\n",
              "  </thead>\n",
              "  <tbody>\n",
              "    <tr>\n",
              "      <th>0</th>\n",
              "      <td>2021103112</td>\n",
              "      <td>2021-10-31</td>\n",
              "      <td>MIN</td>\n",
              "      <td>DAL</td>\n",
              "      <td>(6:36) 1-G.JOSEPH 40 YARD FIELD GOAL IS GOOD, ...</td>\n",
              "      <td>FIELD GOAL</td>\n",
              "      <td>0</td>\n",
              "      <td>0</td>\n",
              "      <td>0</td>\n",
              "    </tr>\n",
              "    <tr>\n",
              "      <th>1</th>\n",
              "      <td>2021103112</td>\n",
              "      <td>2021-10-31</td>\n",
              "      <td>MIN</td>\n",
              "      <td>DAL</td>\n",
              "      <td>(7:18) (SHOTGUN) 8-K.COUSINS PASS SHORT RIGHT ...</td>\n",
              "      <td>PASS</td>\n",
              "      <td>0</td>\n",
              "      <td>0</td>\n",
              "      <td>0</td>\n",
              "    </tr>\n",
              "    <tr>\n",
              "      <th>2</th>\n",
              "      <td>2021103112</td>\n",
              "      <td>2021-10-31</td>\n",
              "      <td>MIN</td>\n",
              "      <td>DAL</td>\n",
              "      <td>(7:23) 8-K.COUSINS PASS INCOMPLETE DEEP RIGHT ...</td>\n",
              "      <td>PASS</td>\n",
              "      <td>0</td>\n",
              "      <td>0</td>\n",
              "      <td>0</td>\n",
              "    </tr>\n",
              "    <tr>\n",
              "      <th>3</th>\n",
              "      <td>2021103112</td>\n",
              "      <td>2021-10-31</td>\n",
              "      <td>MIN</td>\n",
              "      <td>DAL</td>\n",
              "      <td>(7:59) 33-D.COOK RIGHT TACKLE TO DAL 29 FOR -2...</td>\n",
              "      <td>RUSH</td>\n",
              "      <td>0</td>\n",
              "      <td>0</td>\n",
              "      <td>0</td>\n",
              "    </tr>\n",
              "    <tr>\n",
              "      <th>4</th>\n",
              "      <td>2021103112</td>\n",
              "      <td>2021-10-31</td>\n",
              "      <td>MIN</td>\n",
              "      <td>DAL</td>\n",
              "      <td>(8:29) 8-K.COUSINS PASS SHORT RIGHT TO 89-C.HE...</td>\n",
              "      <td>PASS</td>\n",
              "      <td>0</td>\n",
              "      <td>0</td>\n",
              "      <td>0</td>\n",
              "    </tr>\n",
              "    <tr>\n",
              "      <th>...</th>\n",
              "      <td>...</td>\n",
              "      <td>...</td>\n",
              "      <td>...</td>\n",
              "      <td>...</td>\n",
              "      <td>...</td>\n",
              "      <td>...</td>\n",
              "      <td>...</td>\n",
              "      <td>...</td>\n",
              "      <td>...</td>\n",
              "    </tr>\n",
              "    <tr>\n",
              "      <th>21878</th>\n",
              "      <td>2021091204</td>\n",
              "      <td>2021-09-12</td>\n",
              "      <td>0</td>\n",
              "      <td>0</td>\n",
              "      <td>TIMEOUT #2 BY DET AT 00:58.</td>\n",
              "      <td>TIMEOUT</td>\n",
              "      <td>0</td>\n",
              "      <td>0</td>\n",
              "      <td>0</td>\n",
              "    </tr>\n",
              "    <tr>\n",
              "      <th>21879</th>\n",
              "      <td>2021091202</td>\n",
              "      <td>2021-09-12</td>\n",
              "      <td>0</td>\n",
              "      <td>0</td>\n",
              "      <td>END QUARTER 1</td>\n",
              "      <td>0</td>\n",
              "      <td>0</td>\n",
              "      <td>0</td>\n",
              "      <td>0</td>\n",
              "    </tr>\n",
              "    <tr>\n",
              "      <th>21880</th>\n",
              "      <td>2021090900</td>\n",
              "      <td>2021-09-09</td>\n",
              "      <td>0</td>\n",
              "      <td>0</td>\n",
              "      <td>END QUARTER 3</td>\n",
              "      <td>0</td>\n",
              "      <td>0</td>\n",
              "      <td>0</td>\n",
              "      <td>0</td>\n",
              "    </tr>\n",
              "    <tr>\n",
              "      <th>21881</th>\n",
              "      <td>2021090900</td>\n",
              "      <td>2021-09-09</td>\n",
              "      <td>0</td>\n",
              "      <td>0</td>\n",
              "      <td>END QUARTER 2</td>\n",
              "      <td>0</td>\n",
              "      <td>0</td>\n",
              "      <td>0</td>\n",
              "      <td>0</td>\n",
              "    </tr>\n",
              "    <tr>\n",
              "      <th>21882</th>\n",
              "      <td>2021090900</td>\n",
              "      <td>2021-09-09</td>\n",
              "      <td>DAL</td>\n",
              "      <td>TB</td>\n",
              "      <td>2-G.ZUERLEIN KICKS 65 YARDS FROM DAL 35 TO END...</td>\n",
              "      <td>KICK OFF</td>\n",
              "      <td>0</td>\n",
              "      <td>0</td>\n",
              "      <td>0</td>\n",
              "    </tr>\n",
              "  </tbody>\n",
              "</table>\n",
              "<p>21883 rows × 9 columns</p>\n",
              "</div>"
            ],
            "text/plain": [
              "           GameId    GameDate  ... IsTwoPointConversionSuccessful IsNoPlay\n",
              "0      2021103112  2021-10-31  ...                              0        0\n",
              "1      2021103112  2021-10-31  ...                              0        0\n",
              "2      2021103112  2021-10-31  ...                              0        0\n",
              "3      2021103112  2021-10-31  ...                              0        0\n",
              "4      2021103112  2021-10-31  ...                              0        0\n",
              "...           ...         ...  ...                            ...      ...\n",
              "21878  2021091204  2021-09-12  ...                              0        0\n",
              "21879  2021091202  2021-09-12  ...                              0        0\n",
              "21880  2021090900  2021-09-09  ...                              0        0\n",
              "21881  2021090900  2021-09-09  ...                              0        0\n",
              "21882  2021090900  2021-09-09  ...                              0        0\n",
              "\n",
              "[21883 rows x 9 columns]"
            ]
          },
          "metadata": {},
          "execution_count": 196
        }
      ]
    },
    {
      "cell_type": "code",
      "metadata": {
        "id": "C3eJrOLlJnvZ"
      },
      "source": [
        "                    ##identifica Cada Juego \n",
        " 1   GameDate                        fecha del juego\n",
        " 2   OffenseTeam                     Equipo Local\n",
        " 3   DefenseTeam                     Equipo Visitante\n",
        " 4   Description                     Descricion de las Jugadas\n",
        " 5   PlayType                        Tipo de Jugada\n",
        " 6   IsTouchdown                     Anotación en el fútbol americano \n",
        " 7   IsTwoPointConversionSuccessful  Anotación de 2 puntos\n",
        " 8   IsNoPlay                        Decide si es punto valido o no"
      ],
      "execution_count": null,
      "outputs": []
    },
    {
      "cell_type": "code",
      "metadata": {
        "id": "YtQBo9wh05Zg",
        "outputId": "ce19735c-ed23-4f67-ed10-ae7af83c56ac",
        "colab": {
          "base_uri": "https://localhost:8080/",
          "height": 455
        }
      },
      "source": [
        "game.groupby('GameId').sum()"
      ],
      "execution_count": 192,
      "outputs": [
        {
          "output_type": "execute_result",
          "data": {
            "text/html": [
              "<div>\n",
              "<style scoped>\n",
              "    .dataframe tbody tr th:only-of-type {\n",
              "        vertical-align: middle;\n",
              "    }\n",
              "\n",
              "    .dataframe tbody tr th {\n",
              "        vertical-align: top;\n",
              "    }\n",
              "\n",
              "    .dataframe thead th {\n",
              "        text-align: right;\n",
              "    }\n",
              "</style>\n",
              "<table border=\"1\" class=\"dataframe\">\n",
              "  <thead>\n",
              "    <tr style=\"text-align: right;\">\n",
              "      <th></th>\n",
              "      <th>IsTouchdown</th>\n",
              "      <th>IsTwoPointConversionSuccessful</th>\n",
              "      <th>IsNoPlay</th>\n",
              "    </tr>\n",
              "    <tr>\n",
              "      <th>GameId</th>\n",
              "      <th></th>\n",
              "      <th></th>\n",
              "      <th></th>\n",
              "    </tr>\n",
              "  </thead>\n",
              "  <tbody>\n",
              "    <tr>\n",
              "      <th>2021090900</th>\n",
              "      <td>7</td>\n",
              "      <td>0</td>\n",
              "      <td>15</td>\n",
              "    </tr>\n",
              "    <tr>\n",
              "      <th>2021091200</th>\n",
              "      <td>5</td>\n",
              "      <td>1</td>\n",
              "      <td>21</td>\n",
              "    </tr>\n",
              "    <tr>\n",
              "      <th>2021091201</th>\n",
              "      <td>3</td>\n",
              "      <td>0</td>\n",
              "      <td>12</td>\n",
              "    </tr>\n",
              "    <tr>\n",
              "      <th>2021091202</th>\n",
              "      <td>4</td>\n",
              "      <td>1</td>\n",
              "      <td>11</td>\n",
              "    </tr>\n",
              "    <tr>\n",
              "      <th>2021091203</th>\n",
              "      <td>6</td>\n",
              "      <td>0</td>\n",
              "      <td>14</td>\n",
              "    </tr>\n",
              "    <tr>\n",
              "      <th>...</th>\n",
              "      <td>...</td>\n",
              "      <td>...</td>\n",
              "      <td>...</td>\n",
              "    </tr>\n",
              "    <tr>\n",
              "      <th>2021103109</th>\n",
              "      <td>5</td>\n",
              "      <td>0</td>\n",
              "      <td>12</td>\n",
              "    </tr>\n",
              "    <tr>\n",
              "      <th>2021103110</th>\n",
              "      <td>3</td>\n",
              "      <td>0</td>\n",
              "      <td>7</td>\n",
              "    </tr>\n",
              "    <tr>\n",
              "      <th>2021103111</th>\n",
              "      <td>8</td>\n",
              "      <td>0</td>\n",
              "      <td>10</td>\n",
              "    </tr>\n",
              "    <tr>\n",
              "      <th>2021103112</th>\n",
              "      <td>3</td>\n",
              "      <td>0</td>\n",
              "      <td>14</td>\n",
              "    </tr>\n",
              "    <tr>\n",
              "      <th>2021110100</th>\n",
              "      <td>4</td>\n",
              "      <td>0</td>\n",
              "      <td>10</td>\n",
              "    </tr>\n",
              "  </tbody>\n",
              "</table>\n",
              "<p>122 rows × 3 columns</p>\n",
              "</div>"
            ],
            "text/plain": [
              "            IsTouchdown  IsTwoPointConversionSuccessful  IsNoPlay\n",
              "GameId                                                           \n",
              "2021090900            7                               0        15\n",
              "2021091200            5                               1        21\n",
              "2021091201            3                               0        12\n",
              "2021091202            4                               1        11\n",
              "2021091203            6                               0        14\n",
              "...                 ...                             ...       ...\n",
              "2021103109            5                               0        12\n",
              "2021103110            3                               0         7\n",
              "2021103111            8                               0        10\n",
              "2021103112            3                               0        14\n",
              "2021110100            4                               0        10\n",
              "\n",
              "[122 rows x 3 columns]"
            ]
          },
          "metadata": {},
          "execution_count": 192
        }
      ]
    },
    {
      "cell_type": "code",
      "metadata": {
        "id": "THNkazp5eXLX",
        "outputId": "8ed60bb0-42ea-4ace-a2ad-ca486021147b",
        "colab": {
          "base_uri": "https://localhost:8080/",
          "height": 490
        }
      },
      "source": [
        "sns.countplot(game['PlayType'], palette= 'ocean')\n",
        "plt.xticks(rotation= 90)"
      ],
      "execution_count": 216,
      "outputs": [
        {
          "output_type": "stream",
          "name": "stderr",
          "text": [
            "/usr/local/lib/python3.7/dist-packages/seaborn/_decorators.py:43: FutureWarning: Pass the following variable as a keyword arg: x. From version 0.12, the only valid positional argument will be `data`, and passing other arguments without an explicit keyword will result in an error or misinterpretation.\n",
            "  FutureWarning\n"
          ]
        },
        {
          "output_type": "execute_result",
          "data": {
            "text/plain": [
              "(array([ 0,  1,  2,  3,  4,  5,  6,  7,  8,  9, 10, 11, 12, 13, 14, 15]),\n",
              " <a list of 16 Text major ticklabel objects>)"
            ]
          },
          "metadata": {},
          "execution_count": 216
        },
        {
          "output_type": "display_data",
          "data": {
            "image/png": "[encoded data removed]",
            "text/plain": [
              "<Figure size 432x288 with 1 Axes>"
            ]
          },
          "metadata": {
            "needs_background": "light"
          }
        }
      ]
    },
    {
      "cell_type": "code",
      "metadata": {
        "id": "HGz23DmITSc9",
        "outputId": "3e9ad94b-dd76-4289-919c-26cf2d5c0f45",
        "colab": {
          "base_uri": "https://localhost:8080/",
          "height": 310
        }
      },
      "source": [
        "game.groupby(\"DefenseTeam\")[\"IsNoPlay\"].sum().plot(kind='bar', legend='Reverse')"
      ],
      "execution_count": 249,
      "outputs": [
        {
          "output_type": "execute_result",
          "data": {
            "text/plain": [
              "<matplotlib.axes._subplots.AxesSubplot at 0x7f26e83f3150>"
            ]
          },
          "metadata": {},
          "execution_count": 249
        },
        {
          "output_type": "display_data",
          "data": {
            "image/png": "[encoded data removed]",
            "text/plain": [
              "<Figure size 432x288 with 1 Axes>"
            ]
          },
          "metadata": {
            "needs_background": "light"
          }
        }
      ]
    },
    {
      "cell_type": "code",
      "metadata": {
        "id": "OCq1QrSAcRH_",
        "outputId": "a28449f4-e484-46bd-95e7-5d7c6b5b2ea3",
        "colab": {
          "base_uri": "https://localhost:8080/",
          "height": 310
        }
      },
      "source": [
        "game.groupby(\"DefenseTeam\")[\"IsTouchdown\"].sum().plot(kind='bar', legend='Reverse')"
      ],
      "execution_count": 251,
      "outputs": [
        {
          "output_type": "execute_result",
          "data": {
            "text/plain": [
              "<matplotlib.axes._subplots.AxesSubplot at 0x7f26e82c3d50>"
            ]
          },
          "metadata": {},
          "execution_count": 251
        },
        {
          "output_type": "display_data",
          "data": {
            "image/png": "[encoded data removed]",
            "text/plain": [
              "<Figure size 432x288 with 1 Axes>"
            ]
          },
          "metadata": {
            "needs_background": "light"
          }
        }
      ]
    },
    {
      "cell_type": "code",
      "metadata": {
        "id": "dZsi798ucXcE"
      },
      "source": [
        "game.groupby(\"DefenseTeam\")[\"IsNoPlay\"].sum().plot(kind='bar', legend='Reverse')"
      ],
      "execution_count": null,
      "outputs": []
    },
    {
      "cell_type": "code",
      "metadata": {
        "id": "pAodOpOgi0TV",
        "outputId": "27c12222-c8ce-448a-e9e3-08ab9dc78b8a",
        "colab": {
          "base_uri": "https://localhost:8080/",
          "height": 1000
        }
      },
      "source": [
        "game.groupby('DefenseTeam').sum()\n"
      ],
      "execution_count": 237,
      "outputs": [
        {
          "output_type": "execute_result",
          "data": {
            "text/html": [
              "<div>\n",
              "<style scoped>\n",
              "    .dataframe tbody tr th:only-of-type {\n",
              "        vertical-align: middle;\n",
              "    }\n",
              "\n",
              "    .dataframe tbody tr th {\n",
              "        vertical-align: top;\n",
              "    }\n",
              "\n",
              "    .dataframe thead th {\n",
              "        text-align: right;\n",
              "    }\n",
              "</style>\n",
              "<table border=\"1\" class=\"dataframe\">\n",
              "  <thead>\n",
              "    <tr style=\"text-align: right;\">\n",
              "      <th></th>\n",
              "      <th>GameId</th>\n",
              "      <th>IsTouchdown</th>\n",
              "      <th>IsTwoPointConversionSuccessful</th>\n",
              "      <th>IsNoPlay</th>\n",
              "    </tr>\n",
              "    <tr>\n",
              "      <th>DefenseTeam</th>\n",
              "      <th></th>\n",
              "      <th></th>\n",
              "      <th></th>\n",
              "      <th></th>\n",
              "    </tr>\n",
              "  </thead>\n",
              "  <tbody>\n",
              "    <tr>\n",
              "      <th>ARI</th>\n",
              "      <td>1238932974413</td>\n",
              "      <td>18</td>\n",
              "      <td>0</td>\n",
              "      <td>38</td>\n",
              "    </tr>\n",
              "    <tr>\n",
              "      <th>ATL</th>\n",
              "      <td>1184363097306</td>\n",
              "      <td>22</td>\n",
              "      <td>3</td>\n",
              "      <td>38</td>\n",
              "    </tr>\n",
              "    <tr>\n",
              "      <th>BAL</th>\n",
              "      <td>1131814376805</td>\n",
              "      <td>21</td>\n",
              "      <td>0</td>\n",
              "      <td>35</td>\n",
              "    </tr>\n",
              "    <tr>\n",
              "      <th>BUF</th>\n",
              "      <td>1069160574533</td>\n",
              "      <td>13</td>\n",
              "      <td>1</td>\n",
              "      <td>41</td>\n",
              "    </tr>\n",
              "    <tr>\n",
              "      <th>CAR</th>\n",
              "      <td>1273292039155</td>\n",
              "      <td>21</td>\n",
              "      <td>3</td>\n",
              "      <td>47</td>\n",
              "    </tr>\n",
              "    <tr>\n",
              "      <th>CHI</th>\n",
              "      <td>1255101932150</td>\n",
              "      <td>27</td>\n",
              "      <td>1</td>\n",
              "      <td>30</td>\n",
              "    </tr>\n",
              "    <tr>\n",
              "      <th>CIN</th>\n",
              "      <td>1416789056352</td>\n",
              "      <td>18</td>\n",
              "      <td>2</td>\n",
              "      <td>52</td>\n",
              "    </tr>\n",
              "    <tr>\n",
              "      <th>CLE</th>\n",
              "      <td>1259144231358</td>\n",
              "      <td>25</td>\n",
              "      <td>3</td>\n",
              "      <td>41</td>\n",
              "    </tr>\n",
              "    <tr>\n",
              "      <th>DAL</th>\n",
              "      <td>1127772314537</td>\n",
              "      <td>25</td>\n",
              "      <td>2</td>\n",
              "      <td>44</td>\n",
              "    </tr>\n",
              "    <tr>\n",
              "      <th>DEN</th>\n",
              "      <td>1238933321625</td>\n",
              "      <td>16</td>\n",
              "      <td>0</td>\n",
              "      <td>42</td>\n",
              "    </tr>\n",
              "    <tr>\n",
              "      <th>DET</th>\n",
              "      <td>1275312982753</td>\n",
              "      <td>27</td>\n",
              "      <td>1</td>\n",
              "      <td>29</td>\n",
              "    </tr>\n",
              "    <tr>\n",
              "      <th>GB</th>\n",
              "      <td>1220743130475</td>\n",
              "      <td>24</td>\n",
              "      <td>1</td>\n",
              "      <td>32</td>\n",
              "    </tr>\n",
              "    <tr>\n",
              "      <th>HOU</th>\n",
              "      <td>1335945759403</td>\n",
              "      <td>31</td>\n",
              "      <td>0</td>\n",
              "      <td>30</td>\n",
              "    </tr>\n",
              "    <tr>\n",
              "      <th>IND</th>\n",
              "      <td>1247017630398</td>\n",
              "      <td>23</td>\n",
              "      <td>3</td>\n",
              "      <td>24</td>\n",
              "    </tr>\n",
              "    <tr>\n",
              "      <th>JAX</th>\n",
              "      <td>1194467832314</td>\n",
              "      <td>24</td>\n",
              "      <td>0</td>\n",
              "      <td>37</td>\n",
              "    </tr>\n",
              "    <tr>\n",
              "      <th>KC</th>\n",
              "      <td>1287439915855</td>\n",
              "      <td>30</td>\n",
              "      <td>3</td>\n",
              "      <td>43</td>\n",
              "    </tr>\n",
              "    <tr>\n",
              "      <th>LA</th>\n",
              "      <td>1352114593995</td>\n",
              "      <td>18</td>\n",
              "      <td>3</td>\n",
              "      <td>34</td>\n",
              "    </tr>\n",
              "    <tr>\n",
              "      <th>LAC</th>\n",
              "      <td>1152025690452</td>\n",
              "      <td>19</td>\n",
              "      <td>2</td>\n",
              "      <td>28</td>\n",
              "    </tr>\n",
              "    <tr>\n",
              "      <th>LV</th>\n",
              "      <td>1222763938579</td>\n",
              "      <td>19</td>\n",
              "      <td>2</td>\n",
              "      <td>27</td>\n",
              "    </tr>\n",
              "    <tr>\n",
              "      <th>MIA</th>\n",
              "      <td>1424874056046</td>\n",
              "      <td>28</td>\n",
              "      <td>0</td>\n",
              "      <td>42</td>\n",
              "    </tr>\n",
              "    <tr>\n",
              "      <th>MIN</th>\n",
              "      <td>1184363285856</td>\n",
              "      <td>16</td>\n",
              "      <td>3</td>\n",
              "      <td>31</td>\n",
              "    </tr>\n",
              "    <tr>\n",
              "      <th>NE</th>\n",
              "      <td>1309671681871</td>\n",
              "      <td>20</td>\n",
              "      <td>0</td>\n",
              "      <td>35</td>\n",
              "    </tr>\n",
              "    <tr>\n",
              "      <th>NO</th>\n",
              "      <td>1133835652877</td>\n",
              "      <td>17</td>\n",
              "      <td>1</td>\n",
              "      <td>30</td>\n",
              "    </tr>\n",
              "    <tr>\n",
              "      <th>NYG</th>\n",
              "      <td>1372326306374</td>\n",
              "      <td>23</td>\n",
              "      <td>0</td>\n",
              "      <td>29</td>\n",
              "    </tr>\n",
              "    <tr>\n",
              "      <th>NYJ</th>\n",
              "      <td>1269249412249</td>\n",
              "      <td>22</td>\n",
              "      <td>1</td>\n",
              "      <td>34</td>\n",
              "    </tr>\n",
              "    <tr>\n",
              "      <th>PHI</th>\n",
              "      <td>1366262118584</td>\n",
              "      <td>28</td>\n",
              "      <td>0</td>\n",
              "      <td>43</td>\n",
              "    </tr>\n",
              "    <tr>\n",
              "      <th>PIT</th>\n",
              "      <td>1143941033466</td>\n",
              "      <td>17</td>\n",
              "      <td>0</td>\n",
              "      <td>32</td>\n",
              "    </tr>\n",
              "    <tr>\n",
              "      <th>SEA</th>\n",
              "      <td>1469338132106</td>\n",
              "      <td>22</td>\n",
              "      <td>1</td>\n",
              "      <td>37</td>\n",
              "    </tr>\n",
              "    <tr>\n",
              "      <th>SF</th>\n",
              "      <td>1160109902339</td>\n",
              "      <td>22</td>\n",
              "      <td>3</td>\n",
              "      <td>36</td>\n",
              "    </tr>\n",
              "    <tr>\n",
              "      <th>TB</th>\n",
              "      <td>1309671209899</td>\n",
              "      <td>22</td>\n",
              "      <td>2</td>\n",
              "      <td>43</td>\n",
              "    </tr>\n",
              "    <tr>\n",
              "      <th>TEN</th>\n",
              "      <td>1348072516166</td>\n",
              "      <td>27</td>\n",
              "      <td>1</td>\n",
              "      <td>41</td>\n",
              "    </tr>\n",
              "    <tr>\n",
              "      <th>WAS</th>\n",
              "      <td>1376367413938</td>\n",
              "      <td>29</td>\n",
              "      <td>0</td>\n",
              "      <td>40</td>\n",
              "    </tr>\n",
              "  </tbody>\n",
              "</table>\n",
              "</div>"
            ],
            "text/plain": [
              "                    GameId  ...  IsNoPlay\n",
              "DefenseTeam                 ...          \n",
              "ARI          1238932974413  ...        38\n",
              "ATL          1184363097306  ...        38\n",
              "BAL          1131814376805  ...        35\n",
              "BUF          1069160574533  ...        41\n",
              "CAR          1273292039155  ...        47\n",
              "CHI          1255101932150  ...        30\n",
              "CIN          1416789056352  ...        52\n",
              "CLE          1259144231358  ...        41\n",
              "DAL          1127772314537  ...        44\n",
              "DEN          1238933321625  ...        42\n",
              "DET          1275312982753  ...        29\n",
              "GB           1220743130475  ...        32\n",
              "HOU          1335945759403  ...        30\n",
              "IND          1247017630398  ...        24\n",
              "JAX          1194467832314  ...        37\n",
              "KC           1287439915855  ...        43\n",
              "LA           1352114593995  ...        34\n",
              "LAC          1152025690452  ...        28\n",
              "LV           1222763938579  ...        27\n",
              "MIA          1424874056046  ...        42\n",
              "MIN          1184363285856  ...        31\n",
              "NE           1309671681871  ...        35\n",
              "NO           1133835652877  ...        30\n",
              "NYG          1372326306374  ...        29\n",
              "NYJ          1269249412249  ...        34\n",
              "PHI          1366262118584  ...        43\n",
              "PIT          1143941033466  ...        32\n",
              "SEA          1469338132106  ...        37\n",
              "SF           1160109902339  ...        36\n",
              "TB           1309671209899  ...        43\n",
              "TEN          1348072516166  ...        41\n",
              "WAS          1376367413938  ...        40\n",
              "\n",
              "[32 rows x 4 columns]"
            ]
          },
          "metadata": {},
          "execution_count": 237
        }
      ]
    },
    {
      "cell_type": "code",
      "metadata": {
        "id": "xmvDEzdXhx1U"
      },
      "source": [
        ""
      ],
      "execution_count": null,
      "outputs": []
    },
    {
      "cell_type": "code",
      "metadata": {
        "id": "F2IoOSgl5A5s",
        "outputId": "2408915b-c4bd-4a7e-e8f2-1f51d2c99019",
        "colab": {
          "base_uri": "https://localhost:8080/",
          "height": 244
        }
      },
      "source": [
        "x = pd.concat([(game['IsTwoPointConversionSuccessful']-game['IsTwoPointConversionSuccessful'].mean()) / game['IsTwoPointConversionSuccessful'].std(),\n",
        "               (game['IsNoPlay']-game['IsNoPlay'].mean()) / game['IsNoPlay'].std(),\n",
        "               pd.get_dummies(game['OffenseTeam'], drop_first=True),\n",
        "               pd.get_dummies(game['DefenseTeam'], drop_first=True),\n",
        "               pd.get_dummies(game['PlayType'], drop_first=True)\n",
        "               ], axis =1)\n",
        "x.head()"
      ],
      "execution_count": 138,
      "outputs": [
        {
          "output_type": "execute_result",
          "data": {
            "text/html": [
              "<div>\n",
              "<style scoped>\n",
              "    .dataframe tbody tr th:only-of-type {\n",
              "        vertical-align: middle;\n",
              "    }\n",
              "\n",
              "    .dataframe tbody tr th {\n",
              "        vertical-align: top;\n",
              "    }\n",
              "\n",
              "    .dataframe thead th {\n",
              "        text-align: right;\n",
              "    }\n",
              "</style>\n",
              "<table border=\"1\" class=\"dataframe\">\n",
              "  <thead>\n",
              "    <tr style=\"text-align: right;\">\n",
              "      <th></th>\n",
              "      <th>IsTwoPointConversionSuccessful</th>\n",
              "      <th>IsNoPlay</th>\n",
              "      <th>ATL</th>\n",
              "      <th>BAL</th>\n",
              "      <th>BUF</th>\n",
              "      <th>CAR</th>\n",
              "      <th>CHI</th>\n",
              "      <th>CIN</th>\n",
              "      <th>CLE</th>\n",
              "      <th>DAL</th>\n",
              "      <th>DEN</th>\n",
              "      <th>DET</th>\n",
              "      <th>GB</th>\n",
              "      <th>HOU</th>\n",
              "      <th>IND</th>\n",
              "      <th>JAX</th>\n",
              "      <th>KC</th>\n",
              "      <th>LA</th>\n",
              "      <th>LAC</th>\n",
              "      <th>LV</th>\n",
              "      <th>MIA</th>\n",
              "      <th>MIN</th>\n",
              "      <th>NE</th>\n",
              "      <th>NO</th>\n",
              "      <th>NYG</th>\n",
              "      <th>NYJ</th>\n",
              "      <th>PHI</th>\n",
              "      <th>PIT</th>\n",
              "      <th>SEA</th>\n",
              "      <th>SF</th>\n",
              "      <th>TB</th>\n",
              "      <th>TEN</th>\n",
              "      <th>WAS</th>\n",
              "      <th>EXCEPTION</th>\n",
              "      <th>EXTRA POINT</th>\n",
              "      <th>FIELD GOAL</th>\n",
              "      <th>FUMBLES</th>\n",
              "      <th>KICK OFF</th>\n",
              "      <th>NO PLAY</th>\n",
              "      <th>PASS</th>\n",
              "      <th>PENALTY</th>\n",
              "      <th>PUNT</th>\n",
              "      <th>QB KNEEL</th>\n",
              "      <th>RUSH</th>\n",
              "      <th>SACK</th>\n",
              "      <th>SCRAMBLE</th>\n",
              "      <th>TIMEOUT</th>\n",
              "      <th>TWO-POINT CONVERSION</th>\n",
              "    </tr>\n",
              "  </thead>\n",
              "  <tbody>\n",
              "    <tr>\n",
              "      <th>0</th>\n",
              "      <td>-0.043851</td>\n",
              "      <td>-0.237126</td>\n",
              "      <td>0</td>\n",
              "      <td>0</td>\n",
              "      <td>0</td>\n",
              "      <td>0</td>\n",
              "      <td>0</td>\n",
              "      <td>0</td>\n",
              "      <td>0</td>\n",
              "      <td>1</td>\n",
              "      <td>0</td>\n",
              "      <td>0</td>\n",
              "      <td>0</td>\n",
              "      <td>0</td>\n",
              "      <td>0</td>\n",
              "      <td>0</td>\n",
              "      <td>0</td>\n",
              "      <td>0</td>\n",
              "      <td>0</td>\n",
              "      <td>0</td>\n",
              "      <td>0</td>\n",
              "      <td>0</td>\n",
              "      <td>0</td>\n",
              "      <td>0</td>\n",
              "      <td>0</td>\n",
              "      <td>0</td>\n",
              "      <td>0</td>\n",
              "      <td>0</td>\n",
              "      <td>0</td>\n",
              "      <td>0</td>\n",
              "      <td>0</td>\n",
              "      <td>0</td>\n",
              "      <td>0</td>\n",
              "      <td>0</td>\n",
              "      <td>0</td>\n",
              "      <td>1</td>\n",
              "      <td>0</td>\n",
              "      <td>0</td>\n",
              "      <td>0</td>\n",
              "      <td>0</td>\n",
              "      <td>0</td>\n",
              "      <td>0</td>\n",
              "      <td>0</td>\n",
              "      <td>0</td>\n",
              "      <td>0</td>\n",
              "      <td>0</td>\n",
              "      <td>0</td>\n",
              "      <td>0</td>\n",
              "    </tr>\n",
              "    <tr>\n",
              "      <th>1</th>\n",
              "      <td>-0.043851</td>\n",
              "      <td>-0.237126</td>\n",
              "      <td>0</td>\n",
              "      <td>0</td>\n",
              "      <td>0</td>\n",
              "      <td>0</td>\n",
              "      <td>0</td>\n",
              "      <td>0</td>\n",
              "      <td>0</td>\n",
              "      <td>1</td>\n",
              "      <td>0</td>\n",
              "      <td>0</td>\n",
              "      <td>0</td>\n",
              "      <td>0</td>\n",
              "      <td>0</td>\n",
              "      <td>0</td>\n",
              "      <td>0</td>\n",
              "      <td>0</td>\n",
              "      <td>0</td>\n",
              "      <td>0</td>\n",
              "      <td>0</td>\n",
              "      <td>0</td>\n",
              "      <td>0</td>\n",
              "      <td>0</td>\n",
              "      <td>0</td>\n",
              "      <td>0</td>\n",
              "      <td>0</td>\n",
              "      <td>0</td>\n",
              "      <td>0</td>\n",
              "      <td>0</td>\n",
              "      <td>0</td>\n",
              "      <td>0</td>\n",
              "      <td>0</td>\n",
              "      <td>0</td>\n",
              "      <td>0</td>\n",
              "      <td>0</td>\n",
              "      <td>0</td>\n",
              "      <td>0</td>\n",
              "      <td>0</td>\n",
              "      <td>1</td>\n",
              "      <td>0</td>\n",
              "      <td>0</td>\n",
              "      <td>0</td>\n",
              "      <td>0</td>\n",
              "      <td>0</td>\n",
              "      <td>0</td>\n",
              "      <td>0</td>\n",
              "      <td>0</td>\n",
              "    </tr>\n",
              "    <tr>\n",
              "      <th>2</th>\n",
              "      <td>-0.043851</td>\n",
              "      <td>-0.237126</td>\n",
              "      <td>0</td>\n",
              "      <td>0</td>\n",
              "      <td>0</td>\n",
              "      <td>0</td>\n",
              "      <td>0</td>\n",
              "      <td>0</td>\n",
              "      <td>0</td>\n",
              "      <td>1</td>\n",
              "      <td>0</td>\n",
              "      <td>0</td>\n",
              "      <td>0</td>\n",
              "      <td>0</td>\n",
              "      <td>0</td>\n",
              "      <td>0</td>\n",
              "      <td>0</td>\n",
              "      <td>0</td>\n",
              "      <td>0</td>\n",
              "      <td>0</td>\n",
              "      <td>0</td>\n",
              "      <td>0</td>\n",
              "      <td>0</td>\n",
              "      <td>0</td>\n",
              "      <td>0</td>\n",
              "      <td>0</td>\n",
              "      <td>0</td>\n",
              "      <td>0</td>\n",
              "      <td>0</td>\n",
              "      <td>0</td>\n",
              "      <td>0</td>\n",
              "      <td>0</td>\n",
              "      <td>0</td>\n",
              "      <td>0</td>\n",
              "      <td>0</td>\n",
              "      <td>0</td>\n",
              "      <td>0</td>\n",
              "      <td>0</td>\n",
              "      <td>0</td>\n",
              "      <td>1</td>\n",
              "      <td>0</td>\n",
              "      <td>0</td>\n",
              "      <td>0</td>\n",
              "      <td>0</td>\n",
              "      <td>0</td>\n",
              "      <td>0</td>\n",
              "      <td>0</td>\n",
              "      <td>0</td>\n",
              "    </tr>\n",
              "    <tr>\n",
              "      <th>3</th>\n",
              "      <td>-0.043851</td>\n",
              "      <td>-0.237126</td>\n",
              "      <td>0</td>\n",
              "      <td>0</td>\n",
              "      <td>0</td>\n",
              "      <td>0</td>\n",
              "      <td>0</td>\n",
              "      <td>0</td>\n",
              "      <td>0</td>\n",
              "      <td>1</td>\n",
              "      <td>0</td>\n",
              "      <td>0</td>\n",
              "      <td>0</td>\n",
              "      <td>0</td>\n",
              "      <td>0</td>\n",
              "      <td>0</td>\n",
              "      <td>0</td>\n",
              "      <td>0</td>\n",
              "      <td>0</td>\n",
              "      <td>0</td>\n",
              "      <td>0</td>\n",
              "      <td>0</td>\n",
              "      <td>0</td>\n",
              "      <td>0</td>\n",
              "      <td>0</td>\n",
              "      <td>0</td>\n",
              "      <td>0</td>\n",
              "      <td>0</td>\n",
              "      <td>0</td>\n",
              "      <td>0</td>\n",
              "      <td>0</td>\n",
              "      <td>0</td>\n",
              "      <td>0</td>\n",
              "      <td>0</td>\n",
              "      <td>0</td>\n",
              "      <td>0</td>\n",
              "      <td>0</td>\n",
              "      <td>0</td>\n",
              "      <td>0</td>\n",
              "      <td>0</td>\n",
              "      <td>0</td>\n",
              "      <td>0</td>\n",
              "      <td>0</td>\n",
              "      <td>1</td>\n",
              "      <td>0</td>\n",
              "      <td>0</td>\n",
              "      <td>0</td>\n",
              "      <td>0</td>\n",
              "    </tr>\n",
              "    <tr>\n",
              "      <th>4</th>\n",
              "      <td>-0.043851</td>\n",
              "      <td>-0.237126</td>\n",
              "      <td>0</td>\n",
              "      <td>0</td>\n",
              "      <td>0</td>\n",
              "      <td>0</td>\n",
              "      <td>0</td>\n",
              "      <td>0</td>\n",
              "      <td>0</td>\n",
              "      <td>1</td>\n",
              "      <td>0</td>\n",
              "      <td>0</td>\n",
              "      <td>0</td>\n",
              "      <td>0</td>\n",
              "      <td>0</td>\n",
              "      <td>0</td>\n",
              "      <td>0</td>\n",
              "      <td>0</td>\n",
              "      <td>0</td>\n",
              "      <td>0</td>\n",
              "      <td>0</td>\n",
              "      <td>0</td>\n",
              "      <td>0</td>\n",
              "      <td>0</td>\n",
              "      <td>0</td>\n",
              "      <td>0</td>\n",
              "      <td>0</td>\n",
              "      <td>0</td>\n",
              "      <td>0</td>\n",
              "      <td>0</td>\n",
              "      <td>0</td>\n",
              "      <td>0</td>\n",
              "      <td>0</td>\n",
              "      <td>0</td>\n",
              "      <td>0</td>\n",
              "      <td>0</td>\n",
              "      <td>0</td>\n",
              "      <td>0</td>\n",
              "      <td>0</td>\n",
              "      <td>1</td>\n",
              "      <td>0</td>\n",
              "      <td>0</td>\n",
              "      <td>0</td>\n",
              "      <td>0</td>\n",
              "      <td>0</td>\n",
              "      <td>0</td>\n",
              "      <td>0</td>\n",
              "      <td>0</td>\n",
              "    </tr>\n",
              "  </tbody>\n",
              "</table>\n",
              "</div>"
            ],
            "text/plain": [
              "   IsTwoPointConversionSuccessful  IsNoPlay  ...  TIMEOUT  TWO-POINT CONVERSION\n",
              "0                       -0.043851 -0.237126  ...        0                     0\n",
              "1                       -0.043851 -0.237126  ...        0                     0\n",
              "2                       -0.043851 -0.237126  ...        0                     0\n",
              "3                       -0.043851 -0.237126  ...        0                     0\n",
              "4                       -0.043851 -0.237126  ...        0                     0\n",
              "\n",
              "[5 rows x 48 columns]"
            ]
          },
          "metadata": {},
          "execution_count": 138
        }
      ]
    },
    {
      "cell_type": "code",
      "metadata": {
        "id": "n3DczRO66uQB",
        "outputId": "d0b19c41-ae52-42d7-9a31-fb3a65dff7b2",
        "colab": {
          "base_uri": "https://localhost:8080/",
          "height": 424
        }
      },
      "source": [
        "y = pd.get_dummies(game['IsTouchdown'], drop_first=True)\n",
        "y"
      ],
      "execution_count": 121,
      "outputs": [
        {
          "output_type": "execute_result",
          "data": {
            "text/html": [
              "<div>\n",
              "<style scoped>\n",
              "    .dataframe tbody tr th:only-of-type {\n",
              "        vertical-align: middle;\n",
              "    }\n",
              "\n",
              "    .dataframe tbody tr th {\n",
              "        vertical-align: top;\n",
              "    }\n",
              "\n",
              "    .dataframe thead th {\n",
              "        text-align: right;\n",
              "    }\n",
              "</style>\n",
              "<table border=\"1\" class=\"dataframe\">\n",
              "  <thead>\n",
              "    <tr style=\"text-align: right;\">\n",
              "      <th></th>\n",
              "      <th>1</th>\n",
              "    </tr>\n",
              "  </thead>\n",
              "  <tbody>\n",
              "    <tr>\n",
              "      <th>0</th>\n",
              "      <td>0</td>\n",
              "    </tr>\n",
              "    <tr>\n",
              "      <th>1</th>\n",
              "      <td>0</td>\n",
              "    </tr>\n",
              "    <tr>\n",
              "      <th>2</th>\n",
              "      <td>0</td>\n",
              "    </tr>\n",
              "    <tr>\n",
              "      <th>3</th>\n",
              "      <td>0</td>\n",
              "    </tr>\n",
              "    <tr>\n",
              "      <th>4</th>\n",
              "      <td>0</td>\n",
              "    </tr>\n",
              "    <tr>\n",
              "      <th>...</th>\n",
              "      <td>...</td>\n",
              "    </tr>\n",
              "    <tr>\n",
              "      <th>21878</th>\n",
              "      <td>0</td>\n",
              "    </tr>\n",
              "    <tr>\n",
              "      <th>21879</th>\n",
              "      <td>0</td>\n",
              "    </tr>\n",
              "    <tr>\n",
              "      <th>21880</th>\n",
              "      <td>0</td>\n",
              "    </tr>\n",
              "    <tr>\n",
              "      <th>21881</th>\n",
              "      <td>0</td>\n",
              "    </tr>\n",
              "    <tr>\n",
              "      <th>21882</th>\n",
              "      <td>0</td>\n",
              "    </tr>\n",
              "  </tbody>\n",
              "</table>\n",
              "<p>21883 rows × 1 columns</p>\n",
              "</div>"
            ],
            "text/plain": [
              "       1\n",
              "0      0\n",
              "1      0\n",
              "2      0\n",
              "3      0\n",
              "4      0\n",
              "...   ..\n",
              "21878  0\n",
              "21879  0\n",
              "21880  0\n",
              "21881  0\n",
              "21882  0\n",
              "\n",
              "[21883 rows x 1 columns]"
            ]
          },
          "metadata": {},
          "execution_count": 121
        }
      ]
    },
    {
      "cell_type": "code",
      "metadata": {
        "id": "wjNd3Cxw7E1k"
      },
      "source": [
        "x_train, x_test, y_train, y_test = train_test_split(x,y, test_size=0.2, random_state=1)"
      ],
      "execution_count": 122,
      "outputs": []
    },
    {
      "cell_type": "code",
      "metadata": {
        "id": "82Zp16JK-XQ1",
        "outputId": "bbf60a30-49d9-46fb-9e16-0672696d3755",
        "colab": {
          "base_uri": "https://localhost:8080/"
        }
      },
      "source": [
        "logit = LogisticRegression()\n",
        "logit.fit(x_train, y_train)"
      ],
      "execution_count": 123,
      "outputs": [
        {
          "output_type": "stream",
          "name": "stderr",
          "text": [
            "/usr/local/lib/python3.7/dist-packages/sklearn/utils/validation.py:985: DataConversionWarning: A column-vector y was passed when a 1d array was expected. Please change the shape of y to (n_samples, ), for example using ravel().\n",
            "  y = column_or_1d(y, warn=True)\n"
          ]
        },
        {
          "output_type": "execute_result",
          "data": {
            "text/plain": [
              "LogisticRegression()"
            ]
          },
          "metadata": {},
          "execution_count": 123
        }
      ]
    },
    {
      "cell_type": "code",
      "metadata": {
        "id": "ZloNJkul7YF8",
        "outputId": "4e94412b-a231-439e-b2cd-d35a2d0a01de",
        "colab": {
          "base_uri": "https://localhost:8080/"
        }
      },
      "source": [
        "rf = RandomForestClassifier()\n",
        "rf.fit(x_train, y_train)"
      ],
      "execution_count": 124,
      "outputs": [
        {
          "output_type": "stream",
          "name": "stderr",
          "text": [
            "/usr/local/lib/python3.7/dist-packages/ipykernel_launcher.py:2: DataConversionWarning: A column-vector y was passed when a 1d array was expected. Please change the shape of y to (n_samples,), for example using ravel().\n",
            "  \n"
          ]
        },
        {
          "output_type": "execute_result",
          "data": {
            "text/plain": [
              "RandomForestClassifier()"
            ]
          },
          "metadata": {},
          "execution_count": 124
        }
      ]
    },
    {
      "cell_type": "code",
      "metadata": {
        "id": "zFPlmdSf-fMq",
        "outputId": "5fa8fef1-394a-4808-b2a0-da400575fcbd",
        "colab": {
          "base_uri": "https://localhost:8080/"
        }
      },
      "source": [
        "knn = KNeighborsClassifier()\n",
        "knn.fit(x_train, y_train)"
      ],
      "execution_count": 125,
      "outputs": [
        {
          "output_type": "stream",
          "name": "stderr",
          "text": [
            "/usr/local/lib/python3.7/dist-packages/sklearn/neighbors/_classification.py:198: DataConversionWarning: A column-vector y was passed when a 1d array was expected. Please change the shape of y to (n_samples,), for example using ravel().\n",
            "  return self._fit(X, y)\n"
          ]
        },
        {
          "output_type": "execute_result",
          "data": {
            "text/plain": [
              "KNeighborsClassifier()"
            ]
          },
          "metadata": {},
          "execution_count": 125
        }
      ]
    },
    {
      "cell_type": "code",
      "metadata": {
        "id": "Mq6Vvfsv-hzY",
        "outputId": "715a7d9d-d15c-4ea8-f4fb-07476a91d352",
        "colab": {
          "base_uri": "https://localhost:8080/"
        }
      },
      "source": [
        "lo_pred = logit.predict(x_test)\n",
        "precision_score(y_test, lo_pred)"
      ],
      "execution_count": 126,
      "outputs": [
        {
          "output_type": "stream",
          "name": "stderr",
          "text": [
            "/usr/local/lib/python3.7/dist-packages/sklearn/metrics/_classification.py:1308: UndefinedMetricWarning: Precision is ill-defined and being set to 0.0 due to no predicted samples. Use `zero_division` parameter to control this behavior.\n",
            "  _warn_prf(average, modifier, msg_start, len(result))\n"
          ]
        },
        {
          "output_type": "execute_result",
          "data": {
            "text/plain": [
              "0.0"
            ]
          },
          "metadata": {},
          "execution_count": 126
        }
      ]
    },
    {
      "cell_type": "code",
      "metadata": {
        "id": "PHF6QwRP-wES",
        "outputId": "dbfa5fd4-bfbc-4b48-b51d-5bbc84f0eda4",
        "colab": {
          "base_uri": "https://localhost:8080/"
        }
      },
      "source": [
        "precision_score(y_test, rf.predict(x_test))"
      ],
      "execution_count": 127,
      "outputs": [
        {
          "output_type": "execute_result",
          "data": {
            "text/plain": [
              "0.0"
            ]
          },
          "metadata": {},
          "execution_count": 127
        }
      ]
    },
    {
      "cell_type": "code",
      "metadata": {
        "id": "ue-HxXK4-2Xi",
        "outputId": "66e63ded-6216-4706-888a-25aefc4db318",
        "colab": {
          "base_uri": "https://localhost:8080/"
        }
      },
      "source": [
        "precision_score(y_test, knn.predict(x_test))"
      ],
      "execution_count": 128,
      "outputs": [
        {
          "output_type": "stream",
          "name": "stderr",
          "text": [
            "/usr/local/lib/python3.7/dist-packages/sklearn/metrics/_classification.py:1308: UndefinedMetricWarning: Precision is ill-defined and being set to 0.0 due to no predicted samples. Use `zero_division` parameter to control this behavior.\n",
            "  _warn_prf(average, modifier, msg_start, len(result))\n"
          ]
        },
        {
          "output_type": "execute_result",
          "data": {
            "text/plain": [
              "0.0"
            ]
          },
          "metadata": {},
          "execution_count": 128
        }
      ]
    },
    {
      "cell_type": "code",
      "metadata": {
        "id": "-Rqb_4XMtYih",
        "colab": {
          "base_uri": "https://localhost:8080/",
          "height": 515
        },
        "outputId": "31e3c0bc-7900-4ec9-b7d9-ab129e91ff00"
      },
      "source": [
        "fig, ax=plt.subplots(1,3, figsize=(18,8))\n",
        "sns.boxplot(y='OffenseTeam', x='GameId', data=game, ax=ax[0]).set_yscale('log')\n",
        "sns.boxplot(y='DefenseTeam', x ='GameId', data = game, ax=ax[1])\n",
        "sns.boxplot(y='PlayType', x='GameId', data=game, ax=ax[2])"
      ],
      "execution_count": 223,
      "outputs": [
        {
          "output_type": "execute_result",
          "data": {
            "text/plain": [
              "<matplotlib.axes._subplots.AxesSubplot at 0x7f26e928b6d0>"
            ]
          },
          "metadata": {},
          "execution_count": 223
        },
        {
          "output_type": "display_data",
          "data": {
            "image/png": "[encoded data removed]",
            "text/plain": [
              "<Figure size 1296x576 with 3 Axes>"
            ]
          },
          "metadata": {
            "needs_background": "light"
          }
        }
      ]
    },
    {
      "cell_type": "code",
      "metadata": {
        "id": "q4yVVxHHl4s2",
        "outputId": "253e598e-3c67-407d-a6f6-a541da54ea82",
        "colab": {
          "base_uri": "https://localhost:8080/",
          "height": 387
        }
      },
      "source": [
        "plt.hist(game['GameId'], 10,color='yellow', ec='black' )"
      ],
      "execution_count": 228,
      "outputs": [
        {
          "output_type": "execute_result",
          "data": {
            "text/plain": [
              "(array([8586.,  157.,    0.,    0., 2735., 7520., 2702.,    0.,    0.,\n",
              "         183.]),\n",
              " array([2.02109090e+09, 2.02109282e+09, 2.02109474e+09, 2.02109666e+09,\n",
              "        2.02109858e+09, 2.02110050e+09, 2.02110242e+09, 2.02110434e+09,\n",
              "        2.02110626e+09, 2.02110818e+09, 2.02111010e+09]),\n",
              " <a list of 10 Patch objects>)"
            ]
          },
          "metadata": {},
          "execution_count": 228
        },
        {
          "output_type": "display_data",
          "data": {
            "image/png": "[encoded data removed]",
            "text/plain": [
              "<Figure size 432x288 with 1 Axes>"
            ]
          },
          "metadata": {
            "needs_background": "light"
          }
        }
      ]
    },
    {
      "cell_type": "code",
      "metadata": {
        "colab": {
          "base_uri": "https://localhost:8080/",
          "height": 681
        },
        "id": "M3Cv3QPZzY2R",
        "outputId": "174a6c72-1b9d-47bd-ea95-83e12fbee4f9"
      },
      "source": [
        "game1=game[(game[\"IsTouchdown\"] == 1 ) & (game[\"IsNoPlay\"]== 0)]\n",
        "game1"
      ],
      "execution_count": null,
      "outputs": [
        {
          "output_type": "execute_result",
          "data": {
            "text/html": [
              "<div>\n",
              "<style scoped>\n",
              "    .dataframe tbody tr th:only-of-type {\n",
              "        vertical-align: middle;\n",
              "    }\n",
              "\n",
              "    .dataframe tbody tr th {\n",
              "        vertical-align: top;\n",
              "    }\n",
              "\n",
              "    .dataframe thead th {\n",
              "        text-align: right;\n",
              "    }\n",
              "</style>\n",
              "<table border=\"1\" class=\"dataframe\">\n",
              "  <thead>\n",
              "    <tr style=\"text-align: right;\">\n",
              "      <th></th>\n",
              "      <th>GameId</th>\n",
              "      <th>GameDate</th>\n",
              "      <th>OffenseTeam</th>\n",
              "      <th>DefenseTeam</th>\n",
              "      <th>Description</th>\n",
              "      <th>PlayType</th>\n",
              "      <th>IsTouchdown</th>\n",
              "      <th>IsTwoPointConversionSuccessful</th>\n",
              "      <th>IsNoPlay</th>\n",
              "    </tr>\n",
              "  </thead>\n",
              "  <tbody>\n",
              "    <tr>\n",
              "      <th>27</th>\n",
              "      <td>2021110100</td>\n",
              "      <td>2021-11-01</td>\n",
              "      <td>NYG</td>\n",
              "      <td>KC</td>\n",
              "      <td>(14:57) (SHOTGUN) 8-D.JONES PASS SHORT RIGHT T...</td>\n",
              "      <td>PASS</td>\n",
              "      <td>1</td>\n",
              "      <td>0</td>\n",
              "      <td>0</td>\n",
              "    </tr>\n",
              "    <tr>\n",
              "      <th>55</th>\n",
              "      <td>2021103112</td>\n",
              "      <td>2021-10-31</td>\n",
              "      <td>DAL</td>\n",
              "      <td>MIN</td>\n",
              "      <td>(:55) (SHOTGUN) 10-C.RUSH PASS SHORT LEFT TO 1...</td>\n",
              "      <td>PASS</td>\n",
              "      <td>1</td>\n",
              "      <td>0</td>\n",
              "      <td>0</td>\n",
              "    </tr>\n",
              "    <tr>\n",
              "      <th>95</th>\n",
              "      <td>2021103109</td>\n",
              "      <td>2021-10-31</td>\n",
              "      <td>SEA</td>\n",
              "      <td>JAX</td>\n",
              "      <td>(4:22) 7-G.SMITH UP THE MIDDLE FOR 1 YARD, TOU...</td>\n",
              "      <td>RUSH</td>\n",
              "      <td>1</td>\n",
              "      <td>0</td>\n",
              "      <td>0</td>\n",
              "    </tr>\n",
              "    <tr>\n",
              "      <th>119</th>\n",
              "      <td>2021103108</td>\n",
              "      <td>2021-10-31</td>\n",
              "      <td>LAC</td>\n",
              "      <td>NE</td>\n",
              "      <td>(:47) (SHOTGUN) 10-J.HERBERT PASS DEEP RIGHT T...</td>\n",
              "      <td>PASS</td>\n",
              "      <td>1</td>\n",
              "      <td>0</td>\n",
              "      <td>0</td>\n",
              "    </tr>\n",
              "    <tr>\n",
              "      <th>148</th>\n",
              "      <td>2021103108</td>\n",
              "      <td>2021-10-31</td>\n",
              "      <td>NE</td>\n",
              "      <td>LAC</td>\n",
              "      <td>(10:51) 37-D.HARRIS UP THE MIDDLE FOR 28 YARDS...</td>\n",
              "      <td>RUSH</td>\n",
              "      <td>1</td>\n",
              "      <td>0</td>\n",
              "      <td>0</td>\n",
              "    </tr>\n",
              "    <tr>\n",
              "      <th>...</th>\n",
              "      <td>...</td>\n",
              "      <td>...</td>\n",
              "      <td>...</td>\n",
              "      <td>...</td>\n",
              "      <td>...</td>\n",
              "      <td>...</td>\n",
              "      <td>...</td>\n",
              "      <td>...</td>\n",
              "      <td>...</td>\n",
              "    </tr>\n",
              "    <tr>\n",
              "      <th>21566</th>\n",
              "      <td>2021103112</td>\n",
              "      <td>2021-10-31</td>\n",
              "      <td>DAL</td>\n",
              "      <td>MIN</td>\n",
              "      <td>(14:18) (SHOTGUN) 10-C.RUSH PASS DEEP MIDDLE T...</td>\n",
              "      <td>PASS</td>\n",
              "      <td>1</td>\n",
              "      <td>0</td>\n",
              "      <td>0</td>\n",
              "    </tr>\n",
              "    <tr>\n",
              "      <th>21653</th>\n",
              "      <td>2021101707</td>\n",
              "      <td>2021-10-17</td>\n",
              "      <td>KC</td>\n",
              "      <td>WAS</td>\n",
              "      <td>(14:08) 31-DA.WILLIAMS UP THE MIDDLE FOR 3 YAR...</td>\n",
              "      <td>RUSH</td>\n",
              "      <td>1</td>\n",
              "      <td>0</td>\n",
              "      <td>0</td>\n",
              "    </tr>\n",
              "    <tr>\n",
              "      <th>21671</th>\n",
              "      <td>2021101706</td>\n",
              "      <td>2021-10-17</td>\n",
              "      <td>NYG</td>\n",
              "      <td>LA</td>\n",
              "      <td>(6:27) (NO HUDDLE) 39-E.PENNY UP THE MIDDLE FO...</td>\n",
              "      <td>RUSH</td>\n",
              "      <td>1</td>\n",
              "      <td>0</td>\n",
              "      <td>0</td>\n",
              "    </tr>\n",
              "    <tr>\n",
              "      <th>21715</th>\n",
              "      <td>2021101009</td>\n",
              "      <td>2021-10-10</td>\n",
              "      <td>CLE</td>\n",
              "      <td>LAC</td>\n",
              "      <td>(4:51) 27-K.HUNT RIGHT END FOR 8 YARDS, TOUCHD...</td>\n",
              "      <td>RUSH</td>\n",
              "      <td>1</td>\n",
              "      <td>0</td>\n",
              "      <td>0</td>\n",
              "    </tr>\n",
              "    <tr>\n",
              "      <th>21766</th>\n",
              "      <td>2021100303</td>\n",
              "      <td>2021-10-03</td>\n",
              "      <td>DAL</td>\n",
              "      <td>CAR</td>\n",
              "      <td>(7:31) 21-E.ELLIOTT LEFT GUARD FOR 1 YARD, TOU...</td>\n",
              "      <td>RUSH</td>\n",
              "      <td>1</td>\n",
              "      <td>0</td>\n",
              "      <td>0</td>\n",
              "    </tr>\n",
              "  </tbody>\n",
              "</table>\n",
              "<p>693 rows × 9 columns</p>\n",
              "</div>"
            ],
            "text/plain": [
              "           GameId    GameDate  ... IsTwoPointConversionSuccessful IsNoPlay\n",
              "27     2021110100  2021-11-01  ...                              0        0\n",
              "55     2021103112  2021-10-31  ...                              0        0\n",
              "95     2021103109  2021-10-31  ...                              0        0\n",
              "119    2021103108  2021-10-31  ...                              0        0\n",
              "148    2021103108  2021-10-31  ...                              0        0\n",
              "...           ...         ...  ...                            ...      ...\n",
              "21566  2021103112  2021-10-31  ...                              0        0\n",
              "21653  2021101707  2021-10-17  ...                              0        0\n",
              "21671  2021101706  2021-10-17  ...                              0        0\n",
              "21715  2021101009  2021-10-10  ...                              0        0\n",
              "21766  2021100303  2021-10-03  ...                              0        0\n",
              "\n",
              "[693 rows x 9 columns]"
            ]
          },
          "metadata": {},
          "execution_count": 75
        }
      ]
    },
    {
      "cell_type": "code",
      "metadata": {
        "id": "6FuAJQKGRiOO",
        "colab": {
          "base_uri": "https://localhost:8080/",
          "height": 310
        },
        "outputId": "ac0f7012-e817-4197-abfc-c17ca5d85b84"
      },
      "source": [
        "game1.groupby(\"DefenseTeam\")[\"IsTouchdown\"].count().plot(kind='bar', legend='Reverse')"
      ],
      "execution_count": null,
      "outputs": [
        {
          "output_type": "execute_result",
          "data": {
            "text/plain": [
              "<matplotlib.axes._subplots.AxesSubplot at 0x7fa252116850>"
            ]
          },
          "metadata": {},
          "execution_count": 91
        },
        {
          "output_type": "display_data",
          "data": {
            "image/png": "[encoded data removed]",
            "text/plain": [
              "<Figure size 432x288 with 1 Axes>"
            ]
          },
          "metadata": {
            "needs_background": "light"
          }
        }
      ]
    },
    {
      "cell_type": "code",
      "metadata": {
        "id": "SWL_OA3dSOMk",
        "colab": {
          "base_uri": "https://localhost:8080/",
          "height": 310
        },
        "outputId": "077ca095-5f8a-4179-c3d5-ce5a78738c8f"
      },
      "source": [
        "game1.groupby(\"OffenseTeam\",)[\"IsTouchdown\"].count().plot(kind='bar', legend='Reverse')"
      ],
      "execution_count": null,
      "outputs": [
        {
          "output_type": "execute_result",
          "data": {
            "text/plain": [
              "<matplotlib.axes._subplots.AxesSubplot at 0x7fa252c0f450>"
            ]
          },
          "metadata": {},
          "execution_count": 77
        },
        {
          "output_type": "display_data",
          "data": {
            "image/png": "[encoded data removed]",
            "text/plain": [
              "<Figure size 432x288 with 1 Axes>"
            ]
          },
          "metadata": {
            "needs_background": "light"
          }
        }
      ]
    },
    {
      "cell_type": "code",
      "metadata": {
        "id": "fC_5Ati6yMNz"
      },
      "source": [
        "GameId"
      ],
      "execution_count": null,
      "outputs": []
    },
    {
      "cell_type": "code",
      "metadata": {
        "id": "32PuJIYyDrOg"
      },
      "source": [
        "GameId=df[\"GameId\"].values\n",
        "fieldgoal=game1['PlayType'].values\n",
        "IsTouchdown=game2['IsTouchdown'].values\n",
        "Twopoint=game3['IsTwoPointConversionSuccessful'].values\n",
        "\n"
      ],
      "execution_count": null,
      "outputs": []
    }
  ]
}