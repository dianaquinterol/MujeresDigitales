{
  "nbformat": 4,
  "nbformat_minor": 0,
  "metadata": {
    "colab": {
      "name": "ProyectoNFL.ipynb",
      "provenance": [],
      "include_colab_link": true
    },
    "kernelspec": {
      "name": "python3",
      "display_name": "Python 3"
    },
    "language_info": {
      "name": "python"
    }
  },
  "cells": [
    {
      "cell_type": "markdown",
      "metadata": {
        "id": "view-in-github",
        "colab_type": "text"
      },
      "source": [
        "<a href=\"https://colab.research.google.com/github/dianaquinterol/MujeresDigitales/blob/main/ProyectoNFL.ipynb\" target=\"_parent\"><img src=\"https://colab.research.google.com/assets/colab-badge.svg\" alt=\"Open In Colab\"/></a>"
      ]
    },
    {
      "cell_type": "markdown",
      "metadata": {
        "id": "2NpRkXN73LUA"
      },
      "source": [
        "# Diana Soraya Quintero Lopez"
      ]
    },
    {
      "cell_type": "code",
      "metadata": {
        "id": "TWdfxqWa_qFp"
      },
      "source": [
        "import os\n",
        "import pandas as pd\n",
        "import numpy as np\n",
        "import seaborn as sns\n",
        "import matplotlib.pyplot as plt\n",
        "import statsmodels\n",
        "from scipy import stats\n",
        "import statsmodels.api as sm\n",
        "import statsmodels.formula.api as sfm\n",
        "from matplotlib.widgets import Slider, Button, RadioButtons\n",
        "from scipy import interp\n",
        "from scipy.optimize import fsolve\n",
        "from scipy.stats import chi2_contingency, ttest_ind\n",
        "from sklearn.metrics import roc_curve, auc\n",
        "from sklearn.model_selection import StratifiedKFold\n",
        "from statsmodels.formula.api import ols\n",
        "from sklearn.linear_model import LogisticRegression\n",
        "from sklearn.ensemble import RandomForestClassifier\n",
        "from sklearn.neighbors import KNeighborsClassifier\n",
        "from sklearn.model_selection import train_test_split\n",
        "from sklearn.metrics import precision_score\n",
        "from sklearn.model_selection import RandomizedSearchCV\n",
        "from sklearn.preprocessing import StandardScaler"
      ],
      "execution_count": 63,
      "outputs": []
    },
    {
      "cell_type": "code",
      "metadata": {
        "id": "m90BH171CNQg"
      },
      "source": [
        "df= pd.read_csv(\"pbp-2021.csv\")"
      ],
      "execution_count": 64,
      "outputs": []
    },
    {
      "cell_type": "code",
      "metadata": {
        "colab": {
          "base_uri": "https://localhost:8080/"
        },
        "id": "YJyDiw9MFo7X",
        "outputId": "420ff906-903a-49d8-cd5b-589dab3e5ebb"
      },
      "source": [
        "df.describe"
      ],
      "execution_count": 65,
      "outputs": [
        {
          "output_type": "execute_result",
          "data": {
            "text/plain": [
              "<bound method NDFrame.describe of            GameId    GameDate  Quarter  ...  IsNoPlay  PenaltyType PenaltyYards\n",
              "0      2021103112  2021-10-31        3  ...         0          NaN            0\n",
              "1      2021103112  2021-10-31        3  ...         0          NaN            0\n",
              "2      2021103112  2021-10-31        3  ...         0          NaN            0\n",
              "3      2021103112  2021-10-31        3  ...         0          NaN            0\n",
              "4      2021103112  2021-10-31        3  ...         0          NaN            0\n",
              "...           ...         ...      ...  ...       ...          ...          ...\n",
              "21878  2021091204  2021-09-12        4  ...         0          NaN            0\n",
              "21879  2021091202  2021-09-12        1  ...         0          NaN            0\n",
              "21880  2021090900  2021-09-09        3  ...         0          NaN            0\n",
              "21881  2021090900  2021-09-09        2  ...         0          NaN            0\n",
              "21882  2021090900  2021-09-09        1  ...         0          NaN            0\n",
              "\n",
              "[21883 rows x 45 columns]>"
            ]
          },
          "metadata": {},
          "execution_count": 65
        }
      ]
    },
    {
      "cell_type": "code",
      "metadata": {
        "colab": {
          "base_uri": "https://localhost:8080/"
        },
        "id": "wUykhqmcCvFz",
        "outputId": "0da7550e-bdd2-457e-d0eb-ab74e199d488"
      },
      "source": [
        "df.shape"
      ],
      "execution_count": 66,
      "outputs": [
        {
          "output_type": "execute_result",
          "data": {
            "text/plain": [
              "(21883, 45)"
            ]
          },
          "metadata": {},
          "execution_count": 66
        }
      ]
    },
    {
      "cell_type": "code",
      "metadata": {
        "colab": {
          "base_uri": "https://localhost:8080/"
        },
        "id": "uAwcA-RvC1OZ",
        "outputId": "3ae63e1f-14ad-4aa4-86bf-d664657745cd"
      },
      "source": [
        "df[\"GameId\"].unique().shape"
      ],
      "execution_count": 67,
      "outputs": [
        {
          "output_type": "execute_result",
          "data": {
            "text/plain": [
              "(122,)"
            ]
          },
          "metadata": {},
          "execution_count": 67
        }
      ]
    },
    {
      "cell_type": "code",
      "metadata": {
        "id": "zVhuXTd6ZSyw",
        "outputId": "edb93d46-a027-4608-ba8e-d16e34a619cb",
        "colab": {
          "base_uri": "https://localhost:8080/"
        }
      },
      "source": [
        "df.describe"
      ],
      "execution_count": 68,
      "outputs": [
        {
          "output_type": "execute_result",
          "data": {
            "text/plain": [
              "<bound method NDFrame.describe of            GameId    GameDate  Quarter  ...  IsNoPlay  PenaltyType PenaltyYards\n",
              "0      2021103112  2021-10-31        3  ...         0          NaN            0\n",
              "1      2021103112  2021-10-31        3  ...         0          NaN            0\n",
              "2      2021103112  2021-10-31        3  ...         0          NaN            0\n",
              "3      2021103112  2021-10-31        3  ...         0          NaN            0\n",
              "4      2021103112  2021-10-31        3  ...         0          NaN            0\n",
              "...           ...         ...      ...  ...       ...          ...          ...\n",
              "21878  2021091204  2021-09-12        4  ...         0          NaN            0\n",
              "21879  2021091202  2021-09-12        1  ...         0          NaN            0\n",
              "21880  2021090900  2021-09-09        3  ...         0          NaN            0\n",
              "21881  2021090900  2021-09-09        2  ...         0          NaN            0\n",
              "21882  2021090900  2021-09-09        1  ...         0          NaN            0\n",
              "\n",
              "[21883 rows x 45 columns]>"
            ]
          },
          "metadata": {},
          "execution_count": 68
        }
      ]
    },
    {
      "cell_type": "code",
      "metadata": {
        "colab": {
          "base_uri": "https://localhost:8080/"
        },
        "id": "sHU9jo4otSdn",
        "outputId": "9bf8695b-2fe3-47ca-e34b-2f2062c86891"
      },
      "source": [
        "print(df.info())"
      ],
      "execution_count": 69,
      "outputs": [
        {
          "output_type": "stream",
          "name": "stdout",
          "text": [
            "<class 'pandas.core.frame.DataFrame'>\n",
            "RangeIndex: 21883 entries, 0 to 21882\n",
            "Data columns (total 45 columns):\n",
            " #   Column                          Non-Null Count  Dtype  \n",
            "---  ------                          --------------  -----  \n",
            " 0   GameId                          21883 non-null  int64  \n",
            " 1   GameDate                        21883 non-null  object \n",
            " 2   Quarter                         21883 non-null  int64  \n",
            " 3   Minute                          21883 non-null  int64  \n",
            " 4   Second                          21883 non-null  int64  \n",
            " 5   OffenseTeam                     19965 non-null  object \n",
            " 6   DefenseTeam                     19965 non-null  object \n",
            " 7   Down                            21883 non-null  int64  \n",
            " 8   ToGo                            21883 non-null  int64  \n",
            " 9   YardLine                        21883 non-null  int64  \n",
            " 10  Unnamed: 10                     0 non-null      float64\n",
            " 11  SeriesFirstDown                 21883 non-null  int64  \n",
            " 12  Unnamed: 12                     0 non-null      float64\n",
            " 13  NextScore                       21883 non-null  int64  \n",
            " 14  Description                     21883 non-null  object \n",
            " 15  TeamWin                         21883 non-null  int64  \n",
            " 16  Unnamed: 16                     0 non-null      float64\n",
            " 17  Unnamed: 17                     0 non-null      float64\n",
            " 18  SeasonYear                      21883 non-null  int64  \n",
            " 19  Yards                           21883 non-null  int64  \n",
            " 20  Formation                       21383 non-null  object \n",
            " 21  PlayType                        20871 non-null  object \n",
            " 22  IsRush                          21883 non-null  int64  \n",
            " 23  IsPass                          21883 non-null  int64  \n",
            " 24  IsIncomplete                    21883 non-null  int64  \n",
            " 25  IsTouchdown                     21883 non-null  int64  \n",
            " 26  PassType                        9078 non-null   object \n",
            " 27  IsSack                          21883 non-null  int64  \n",
            " 28  IsChallenge                     21883 non-null  int64  \n",
            " 29  IsChallengeReversed             21883 non-null  int64  \n",
            " 30  Challenger                      0 non-null      float64\n",
            " 31  IsMeasurement                   21883 non-null  int64  \n",
            " 32  IsInterception                  21883 non-null  int64  \n",
            " 33  IsFumble                        21883 non-null  int64  \n",
            " 34  IsPenalty                       21883 non-null  int64  \n",
            " 35  IsTwoPointConversion            21883 non-null  int64  \n",
            " 36  IsTwoPointConversionSuccessful  21883 non-null  int64  \n",
            " 37  RushDirection                   5832 non-null   object \n",
            " 38  YardLineFixed                   21883 non-null  int64  \n",
            " 39  YardLineDirection               21883 non-null  object \n",
            " 40  IsPenaltyAccepted               21883 non-null  int64  \n",
            " 41  PenaltyTeam                     1729 non-null   object \n",
            " 42  IsNoPlay                        21883 non-null  int64  \n",
            " 43  PenaltyType                     1729 non-null   object \n",
            " 44  PenaltyYards                    21883 non-null  int64  \n",
            "dtypes: float64(5), int64(29), object(11)\n",
            "memory usage: 7.5+ MB\n",
            "None\n"
          ]
        }
      ]
    },
    {
      "cell_type": "code",
      "metadata": {
        "id": "THltSHnyEIaF",
        "colab": {
          "base_uri": "https://localhost:8080/"
        },
        "outputId": "243edc81-91db-42aa-d70b-b23d27ea03f6"
      },
      "source": [
        "df[\"OffenseTeam\"].unique()"
      ],
      "execution_count": 70,
      "outputs": [
        {
          "output_type": "execute_result",
          "data": {
            "text/plain": [
              "array(['MIN', 'DAL', nan, 'KC', 'NYG', 'JAX', 'SEA', 'NE', 'LAC', 'NO',\n",
              "       'CIN', 'NYJ', 'WAS', 'DEN', 'TB', 'LA', 'HOU', 'PIT', 'CLE', 'IND',\n",
              "       'TEN', 'DET', 'PHI', 'MIA', 'SF', 'BUF', 'CHI', 'GB', 'ARI', 'LV',\n",
              "       'CAR', 'ATL', 'BAL'], dtype=object)"
            ]
          },
          "metadata": {},
          "execution_count": 70
        }
      ]
    },
    {
      "cell_type": "code",
      "metadata": {
        "id": "UO1StdfPDKGW",
        "colab": {
          "base_uri": "https://localhost:8080/"
        },
        "outputId": "a8bd3d6f-6e29-40d2-8cc7-24740228bb05"
      },
      "source": [
        "df[\"DefenseTeam\"].unique()"
      ],
      "execution_count": 71,
      "outputs": [
        {
          "output_type": "execute_result",
          "data": {
            "text/plain": [
              "array(['DAL', 'MIN', nan, 'NYG', 'KC', 'SEA', 'JAX', 'LAC', 'NE', 'TB',\n",
              "       'NYJ', 'CIN', 'DEN', 'WAS', 'NO', 'HOU', 'LA', 'CLE', 'PIT', 'TEN',\n",
              "       'IND', 'PHI', 'DET', 'BUF', 'CHI', 'MIA', 'SF', 'ARI', 'GB', 'LV',\n",
              "       'ATL', 'CAR', 'BAL'], dtype=object)"
            ]
          },
          "metadata": {},
          "execution_count": 71
        }
      ]
    },
    {
      "cell_type": "code",
      "metadata": {
        "colab": {
          "base_uri": "https://localhost:8080/",
          "height": 698
        },
        "id": "F6AmrRU-R8Dy",
        "outputId": "8395c01f-9659-4923-f966-6de768dcef1f"
      },
      "source": [
        "game=df.iloc[ :, [0,1,5,6,14,21,25,36,42]]\n",
        "game"
      ],
      "execution_count": 72,
      "outputs": [
        {
          "output_type": "execute_result",
          "data": {
            "text/html": [
              "<div>\n",
              "<style scoped>\n",
              "    .dataframe tbody tr th:only-of-type {\n",
              "        vertical-align: middle;\n",
              "    }\n",
              "\n",
              "    .dataframe tbody tr th {\n",
              "        vertical-align: top;\n",
              "    }\n",
              "\n",
              "    .dataframe thead th {\n",
              "        text-align: right;\n",
              "    }\n",
              "</style>\n",
              "<table border=\"1\" class=\"dataframe\">\n",
              "  <thead>\n",
              "    <tr style=\"text-align: right;\">\n",
              "      <th></th>\n",
              "      <th>GameId</th>\n",
              "      <th>GameDate</th>\n",
              "      <th>OffenseTeam</th>\n",
              "      <th>DefenseTeam</th>\n",
              "      <th>Description</th>\n",
              "      <th>PlayType</th>\n",
              "      <th>IsTouchdown</th>\n",
              "      <th>IsTwoPointConversionSuccessful</th>\n",
              "      <th>IsNoPlay</th>\n",
              "    </tr>\n",
              "  </thead>\n",
              "  <tbody>\n",
              "    <tr>\n",
              "      <th>0</th>\n",
              "      <td>2021103112</td>\n",
              "      <td>2021-10-31</td>\n",
              "      <td>MIN</td>\n",
              "      <td>DAL</td>\n",
              "      <td>(6:36) 1-G.JOSEPH 40 YARD FIELD GOAL IS GOOD, ...</td>\n",
              "      <td>FIELD GOAL</td>\n",
              "      <td>0</td>\n",
              "      <td>0</td>\n",
              "      <td>0</td>\n",
              "    </tr>\n",
              "    <tr>\n",
              "      <th>1</th>\n",
              "      <td>2021103112</td>\n",
              "      <td>2021-10-31</td>\n",
              "      <td>MIN</td>\n",
              "      <td>DAL</td>\n",
              "      <td>(7:18) (SHOTGUN) 8-K.COUSINS PASS SHORT RIGHT ...</td>\n",
              "      <td>PASS</td>\n",
              "      <td>0</td>\n",
              "      <td>0</td>\n",
              "      <td>0</td>\n",
              "    </tr>\n",
              "    <tr>\n",
              "      <th>2</th>\n",
              "      <td>2021103112</td>\n",
              "      <td>2021-10-31</td>\n",
              "      <td>MIN</td>\n",
              "      <td>DAL</td>\n",
              "      <td>(7:23) 8-K.COUSINS PASS INCOMPLETE DEEP RIGHT ...</td>\n",
              "      <td>PASS</td>\n",
              "      <td>0</td>\n",
              "      <td>0</td>\n",
              "      <td>0</td>\n",
              "    </tr>\n",
              "    <tr>\n",
              "      <th>3</th>\n",
              "      <td>2021103112</td>\n",
              "      <td>2021-10-31</td>\n",
              "      <td>MIN</td>\n",
              "      <td>DAL</td>\n",
              "      <td>(7:59) 33-D.COOK RIGHT TACKLE TO DAL 29 FOR -2...</td>\n",
              "      <td>RUSH</td>\n",
              "      <td>0</td>\n",
              "      <td>0</td>\n",
              "      <td>0</td>\n",
              "    </tr>\n",
              "    <tr>\n",
              "      <th>4</th>\n",
              "      <td>2021103112</td>\n",
              "      <td>2021-10-31</td>\n",
              "      <td>MIN</td>\n",
              "      <td>DAL</td>\n",
              "      <td>(8:29) 8-K.COUSINS PASS SHORT RIGHT TO 89-C.HE...</td>\n",
              "      <td>PASS</td>\n",
              "      <td>0</td>\n",
              "      <td>0</td>\n",
              "      <td>0</td>\n",
              "    </tr>\n",
              "    <tr>\n",
              "      <th>...</th>\n",
              "      <td>...</td>\n",
              "      <td>...</td>\n",
              "      <td>...</td>\n",
              "      <td>...</td>\n",
              "      <td>...</td>\n",
              "      <td>...</td>\n",
              "      <td>...</td>\n",
              "      <td>...</td>\n",
              "      <td>...</td>\n",
              "    </tr>\n",
              "    <tr>\n",
              "      <th>21878</th>\n",
              "      <td>2021091204</td>\n",
              "      <td>2021-09-12</td>\n",
              "      <td>NaN</td>\n",
              "      <td>NaN</td>\n",
              "      <td>TIMEOUT #2 BY DET AT 00:58.</td>\n",
              "      <td>TIMEOUT</td>\n",
              "      <td>0</td>\n",
              "      <td>0</td>\n",
              "      <td>0</td>\n",
              "    </tr>\n",
              "    <tr>\n",
              "      <th>21879</th>\n",
              "      <td>2021091202</td>\n",
              "      <td>2021-09-12</td>\n",
              "      <td>NaN</td>\n",
              "      <td>NaN</td>\n",
              "      <td>END QUARTER 1</td>\n",
              "      <td>NaN</td>\n",
              "      <td>0</td>\n",
              "      <td>0</td>\n",
              "      <td>0</td>\n",
              "    </tr>\n",
              "    <tr>\n",
              "      <th>21880</th>\n",
              "      <td>2021090900</td>\n",
              "      <td>2021-09-09</td>\n",
              "      <td>NaN</td>\n",
              "      <td>NaN</td>\n",
              "      <td>END QUARTER 3</td>\n",
              "      <td>NaN</td>\n",
              "      <td>0</td>\n",
              "      <td>0</td>\n",
              "      <td>0</td>\n",
              "    </tr>\n",
              "    <tr>\n",
              "      <th>21881</th>\n",
              "      <td>2021090900</td>\n",
              "      <td>2021-09-09</td>\n",
              "      <td>NaN</td>\n",
              "      <td>NaN</td>\n",
              "      <td>END QUARTER 2</td>\n",
              "      <td>NaN</td>\n",
              "      <td>0</td>\n",
              "      <td>0</td>\n",
              "      <td>0</td>\n",
              "    </tr>\n",
              "    <tr>\n",
              "      <th>21882</th>\n",
              "      <td>2021090900</td>\n",
              "      <td>2021-09-09</td>\n",
              "      <td>DAL</td>\n",
              "      <td>TB</td>\n",
              "      <td>2-G.ZUERLEIN KICKS 65 YARDS FROM DAL 35 TO END...</td>\n",
              "      <td>KICK OFF</td>\n",
              "      <td>0</td>\n",
              "      <td>0</td>\n",
              "      <td>0</td>\n",
              "    </tr>\n",
              "  </tbody>\n",
              "</table>\n",
              "<p>21883 rows × 9 columns</p>\n",
              "</div>"
            ],
            "text/plain": [
              "           GameId    GameDate  ... IsTwoPointConversionSuccessful IsNoPlay\n",
              "0      2021103112  2021-10-31  ...                              0        0\n",
              "1      2021103112  2021-10-31  ...                              0        0\n",
              "2      2021103112  2021-10-31  ...                              0        0\n",
              "3      2021103112  2021-10-31  ...                              0        0\n",
              "4      2021103112  2021-10-31  ...                              0        0\n",
              "...           ...         ...  ...                            ...      ...\n",
              "21878  2021091204  2021-09-12  ...                              0        0\n",
              "21879  2021091202  2021-09-12  ...                              0        0\n",
              "21880  2021090900  2021-09-09  ...                              0        0\n",
              "21881  2021090900  2021-09-09  ...                              0        0\n",
              "21882  2021090900  2021-09-09  ...                              0        0\n",
              "\n",
              "[21883 rows x 9 columns]"
            ]
          },
          "metadata": {},
          "execution_count": 72
        }
      ]
    },
    {
      "cell_type": "code",
      "metadata": {
        "id": "wFeRE-wQBJCl",
        "outputId": "7d6ebbb3-6607-430e-8350-d64145b4d831",
        "colab": {
          "base_uri": "https://localhost:8080/",
          "height": 698
        }
      },
      "source": [
        "game.replace('nan','0')"
      ],
      "execution_count": 73,
      "outputs": [
        {
          "output_type": "execute_result",
          "data": {
            "text/html": [
              "<div>\n",
              "<style scoped>\n",
              "    .dataframe tbody tr th:only-of-type {\n",
              "        vertical-align: middle;\n",
              "    }\n",
              "\n",
              "    .dataframe tbody tr th {\n",
              "        vertical-align: top;\n",
              "    }\n",
              "\n",
              "    .dataframe thead th {\n",
              "        text-align: right;\n",
              "    }\n",
              "</style>\n",
              "<table border=\"1\" class=\"dataframe\">\n",
              "  <thead>\n",
              "    <tr style=\"text-align: right;\">\n",
              "      <th></th>\n",
              "      <th>GameId</th>\n",
              "      <th>GameDate</th>\n",
              "      <th>OffenseTeam</th>\n",
              "      <th>DefenseTeam</th>\n",
              "      <th>Description</th>\n",
              "      <th>PlayType</th>\n",
              "      <th>IsTouchdown</th>\n",
              "      <th>IsTwoPointConversionSuccessful</th>\n",
              "      <th>IsNoPlay</th>\n",
              "    </tr>\n",
              "  </thead>\n",
              "  <tbody>\n",
              "    <tr>\n",
              "      <th>0</th>\n",
              "      <td>2021103112</td>\n",
              "      <td>2021-10-31</td>\n",
              "      <td>MIN</td>\n",
              "      <td>DAL</td>\n",
              "      <td>(6:36) 1-G.JOSEPH 40 YARD FIELD GOAL IS GOOD, ...</td>\n",
              "      <td>FIELD GOAL</td>\n",
              "      <td>0</td>\n",
              "      <td>0</td>\n",
              "      <td>0</td>\n",
              "    </tr>\n",
              "    <tr>\n",
              "      <th>1</th>\n",
              "      <td>2021103112</td>\n",
              "      <td>2021-10-31</td>\n",
              "      <td>MIN</td>\n",
              "      <td>DAL</td>\n",
              "      <td>(7:18) (SHOTGUN) 8-K.COUSINS PASS SHORT RIGHT ...</td>\n",
              "      <td>PASS</td>\n",
              "      <td>0</td>\n",
              "      <td>0</td>\n",
              "      <td>0</td>\n",
              "    </tr>\n",
              "    <tr>\n",
              "      <th>2</th>\n",
              "      <td>2021103112</td>\n",
              "      <td>2021-10-31</td>\n",
              "      <td>MIN</td>\n",
              "      <td>DAL</td>\n",
              "      <td>(7:23) 8-K.COUSINS PASS INCOMPLETE DEEP RIGHT ...</td>\n",
              "      <td>PASS</td>\n",
              "      <td>0</td>\n",
              "      <td>0</td>\n",
              "      <td>0</td>\n",
              "    </tr>\n",
              "    <tr>\n",
              "      <th>3</th>\n",
              "      <td>2021103112</td>\n",
              "      <td>2021-10-31</td>\n",
              "      <td>MIN</td>\n",
              "      <td>DAL</td>\n",
              "      <td>(7:59) 33-D.COOK RIGHT TACKLE TO DAL 29 FOR -2...</td>\n",
              "      <td>RUSH</td>\n",
              "      <td>0</td>\n",
              "      <td>0</td>\n",
              "      <td>0</td>\n",
              "    </tr>\n",
              "    <tr>\n",
              "      <th>4</th>\n",
              "      <td>2021103112</td>\n",
              "      <td>2021-10-31</td>\n",
              "      <td>MIN</td>\n",
              "      <td>DAL</td>\n",
              "      <td>(8:29) 8-K.COUSINS PASS SHORT RIGHT TO 89-C.HE...</td>\n",
              "      <td>PASS</td>\n",
              "      <td>0</td>\n",
              "      <td>0</td>\n",
              "      <td>0</td>\n",
              "    </tr>\n",
              "    <tr>\n",
              "      <th>...</th>\n",
              "      <td>...</td>\n",
              "      <td>...</td>\n",
              "      <td>...</td>\n",
              "      <td>...</td>\n",
              "      <td>...</td>\n",
              "      <td>...</td>\n",
              "      <td>...</td>\n",
              "      <td>...</td>\n",
              "      <td>...</td>\n",
              "    </tr>\n",
              "    <tr>\n",
              "      <th>21878</th>\n",
              "      <td>2021091204</td>\n",
              "      <td>2021-09-12</td>\n",
              "      <td>NaN</td>\n",
              "      <td>NaN</td>\n",
              "      <td>TIMEOUT #2 BY DET AT 00:58.</td>\n",
              "      <td>TIMEOUT</td>\n",
              "      <td>0</td>\n",
              "      <td>0</td>\n",
              "      <td>0</td>\n",
              "    </tr>\n",
              "    <tr>\n",
              "      <th>21879</th>\n",
              "      <td>2021091202</td>\n",
              "      <td>2021-09-12</td>\n",
              "      <td>NaN</td>\n",
              "      <td>NaN</td>\n",
              "      <td>END QUARTER 1</td>\n",
              "      <td>NaN</td>\n",
              "      <td>0</td>\n",
              "      <td>0</td>\n",
              "      <td>0</td>\n",
              "    </tr>\n",
              "    <tr>\n",
              "      <th>21880</th>\n",
              "      <td>2021090900</td>\n",
              "      <td>2021-09-09</td>\n",
              "      <td>NaN</td>\n",
              "      <td>NaN</td>\n",
              "      <td>END QUARTER 3</td>\n",
              "      <td>NaN</td>\n",
              "      <td>0</td>\n",
              "      <td>0</td>\n",
              "      <td>0</td>\n",
              "    </tr>\n",
              "    <tr>\n",
              "      <th>21881</th>\n",
              "      <td>2021090900</td>\n",
              "      <td>2021-09-09</td>\n",
              "      <td>NaN</td>\n",
              "      <td>NaN</td>\n",
              "      <td>END QUARTER 2</td>\n",
              "      <td>NaN</td>\n",
              "      <td>0</td>\n",
              "      <td>0</td>\n",
              "      <td>0</td>\n",
              "    </tr>\n",
              "    <tr>\n",
              "      <th>21882</th>\n",
              "      <td>2021090900</td>\n",
              "      <td>2021-09-09</td>\n",
              "      <td>DAL</td>\n",
              "      <td>TB</td>\n",
              "      <td>2-G.ZUERLEIN KICKS 65 YARDS FROM DAL 35 TO END...</td>\n",
              "      <td>KICK OFF</td>\n",
              "      <td>0</td>\n",
              "      <td>0</td>\n",
              "      <td>0</td>\n",
              "    </tr>\n",
              "  </tbody>\n",
              "</table>\n",
              "<p>21883 rows × 9 columns</p>\n",
              "</div>"
            ],
            "text/plain": [
              "           GameId    GameDate  ... IsTwoPointConversionSuccessful IsNoPlay\n",
              "0      2021103112  2021-10-31  ...                              0        0\n",
              "1      2021103112  2021-10-31  ...                              0        0\n",
              "2      2021103112  2021-10-31  ...                              0        0\n",
              "3      2021103112  2021-10-31  ...                              0        0\n",
              "4      2021103112  2021-10-31  ...                              0        0\n",
              "...           ...         ...  ...                            ...      ...\n",
              "21878  2021091204  2021-09-12  ...                              0        0\n",
              "21879  2021091202  2021-09-12  ...                              0        0\n",
              "21880  2021090900  2021-09-09  ...                              0        0\n",
              "21881  2021090900  2021-09-09  ...                              0        0\n",
              "21882  2021090900  2021-09-09  ...                              0        0\n",
              "\n",
              "[21883 rows x 9 columns]"
            ]
          },
          "metadata": {},
          "execution_count": 73
        }
      ]
    },
    {
      "cell_type": "code",
      "metadata": {
        "id": "-Rqb_4XMtYih",
        "colab": {
          "base_uri": "https://localhost:8080/",
          "height": 515
        },
        "outputId": "c3b3cb83-0ce6-4d6b-c250-4acbd3121516"
      },
      "source": [
        "fig, ax=plt.subplots(1,3, figsize=(18,8))\n",
        "sns.boxplot(y='OffenseTeam', x='GameId', data=game, ax=ax[0]).set_yscale('log')\n",
        "sns.boxplot(y='DefenseTeam', x ='GameId', data = game, ax=ax[1])\n",
        "sns.boxplot(y='PlayType', x='GameId', data=game, ax=ax[2])"
      ],
      "execution_count": 74,
      "outputs": [
        {
          "output_type": "execute_result",
          "data": {
            "text/plain": [
              "<matplotlib.axes._subplots.AxesSubplot at 0x7fa253502a10>"
            ]
          },
          "metadata": {},
          "execution_count": 74
        },
        {
          "output_type": "display_data",
          "data": {
            "image/png": "[encoded data removed]",
            "text/plain": [
              "<Figure size 1296x576 with 3 Axes>"
            ]
          },
          "metadata": {
            "needs_background": "light"
          }
        }
      ]
    },
    {
      "cell_type": "code",
      "metadata": {
        "colab": {
          "base_uri": "https://localhost:8080/",
          "height": 681
        },
        "id": "M3Cv3QPZzY2R",
        "outputId": "174a6c72-1b9d-47bd-ea95-83e12fbee4f9"
      },
      "source": [
        "game1=game[(game[\"IsTouchdown\"] == 1 ) & (game[\"IsNoPlay\"]== 0)]\n",
        "game1"
      ],
      "execution_count": 75,
      "outputs": [
        {
          "output_type": "execute_result",
          "data": {
            "text/html": [
              "<div>\n",
              "<style scoped>\n",
              "    .dataframe tbody tr th:only-of-type {\n",
              "        vertical-align: middle;\n",
              "    }\n",
              "\n",
              "    .dataframe tbody tr th {\n",
              "        vertical-align: top;\n",
              "    }\n",
              "\n",
              "    .dataframe thead th {\n",
              "        text-align: right;\n",
              "    }\n",
              "</style>\n",
              "<table border=\"1\" class=\"dataframe\">\n",
              "  <thead>\n",
              "    <tr style=\"text-align: right;\">\n",
              "      <th></th>\n",
              "      <th>GameId</th>\n",
              "      <th>GameDate</th>\n",
              "      <th>OffenseTeam</th>\n",
              "      <th>DefenseTeam</th>\n",
              "      <th>Description</th>\n",
              "      <th>PlayType</th>\n",
              "      <th>IsTouchdown</th>\n",
              "      <th>IsTwoPointConversionSuccessful</th>\n",
              "      <th>IsNoPlay</th>\n",
              "    </tr>\n",
              "  </thead>\n",
              "  <tbody>\n",
              "    <tr>\n",
              "      <th>27</th>\n",
              "      <td>2021110100</td>\n",
              "      <td>2021-11-01</td>\n",
              "      <td>NYG</td>\n",
              "      <td>KC</td>\n",
              "      <td>(14:57) (SHOTGUN) 8-D.JONES PASS SHORT RIGHT T...</td>\n",
              "      <td>PASS</td>\n",
              "      <td>1</td>\n",
              "      <td>0</td>\n",
              "      <td>0</td>\n",
              "    </tr>\n",
              "    <tr>\n",
              "      <th>55</th>\n",
              "      <td>2021103112</td>\n",
              "      <td>2021-10-31</td>\n",
              "      <td>DAL</td>\n",
              "      <td>MIN</td>\n",
              "      <td>(:55) (SHOTGUN) 10-C.RUSH PASS SHORT LEFT TO 1...</td>\n",
              "      <td>PASS</td>\n",
              "      <td>1</td>\n",
              "      <td>0</td>\n",
              "      <td>0</td>\n",
              "    </tr>\n",
              "    <tr>\n",
              "      <th>95</th>\n",
              "      <td>2021103109</td>\n",
              "      <td>2021-10-31</td>\n",
              "      <td>SEA</td>\n",
              "      <td>JAX</td>\n",
              "      <td>(4:22) 7-G.SMITH UP THE MIDDLE FOR 1 YARD, TOU...</td>\n",
              "      <td>RUSH</td>\n",
              "      <td>1</td>\n",
              "      <td>0</td>\n",
              "      <td>0</td>\n",
              "    </tr>\n",
              "    <tr>\n",
              "      <th>119</th>\n",
              "      <td>2021103108</td>\n",
              "      <td>2021-10-31</td>\n",
              "      <td>LAC</td>\n",
              "      <td>NE</td>\n",
              "      <td>(:47) (SHOTGUN) 10-J.HERBERT PASS DEEP RIGHT T...</td>\n",
              "      <td>PASS</td>\n",
              "      <td>1</td>\n",
              "      <td>0</td>\n",
              "      <td>0</td>\n",
              "    </tr>\n",
              "    <tr>\n",
              "      <th>148</th>\n",
              "      <td>2021103108</td>\n",
              "      <td>2021-10-31</td>\n",
              "      <td>NE</td>\n",
              "      <td>LAC</td>\n",
              "      <td>(10:51) 37-D.HARRIS UP THE MIDDLE FOR 28 YARDS...</td>\n",
              "      <td>RUSH</td>\n",
              "      <td>1</td>\n",
              "      <td>0</td>\n",
              "      <td>0</td>\n",
              "    </tr>\n",
              "    <tr>\n",
              "      <th>...</th>\n",
              "      <td>...</td>\n",
              "      <td>...</td>\n",
              "      <td>...</td>\n",
              "      <td>...</td>\n",
              "      <td>...</td>\n",
              "      <td>...</td>\n",
              "      <td>...</td>\n",
              "      <td>...</td>\n",
              "      <td>...</td>\n",
              "    </tr>\n",
              "    <tr>\n",
              "      <th>21566</th>\n",
              "      <td>2021103112</td>\n",
              "      <td>2021-10-31</td>\n",
              "      <td>DAL</td>\n",
              "      <td>MIN</td>\n",
              "      <td>(14:18) (SHOTGUN) 10-C.RUSH PASS DEEP MIDDLE T...</td>\n",
              "      <td>PASS</td>\n",
              "      <td>1</td>\n",
              "      <td>0</td>\n",
              "      <td>0</td>\n",
              "    </tr>\n",
              "    <tr>\n",
              "      <th>21653</th>\n",
              "      <td>2021101707</td>\n",
              "      <td>2021-10-17</td>\n",
              "      <td>KC</td>\n",
              "      <td>WAS</td>\n",
              "      <td>(14:08) 31-DA.WILLIAMS UP THE MIDDLE FOR 3 YAR...</td>\n",
              "      <td>RUSH</td>\n",
              "      <td>1</td>\n",
              "      <td>0</td>\n",
              "      <td>0</td>\n",
              "    </tr>\n",
              "    <tr>\n",
              "      <th>21671</th>\n",
              "      <td>2021101706</td>\n",
              "      <td>2021-10-17</td>\n",
              "      <td>NYG</td>\n",
              "      <td>LA</td>\n",
              "      <td>(6:27) (NO HUDDLE) 39-E.PENNY UP THE MIDDLE FO...</td>\n",
              "      <td>RUSH</td>\n",
              "      <td>1</td>\n",
              "      <td>0</td>\n",
              "      <td>0</td>\n",
              "    </tr>\n",
              "    <tr>\n",
              "      <th>21715</th>\n",
              "      <td>2021101009</td>\n",
              "      <td>2021-10-10</td>\n",
              "      <td>CLE</td>\n",
              "      <td>LAC</td>\n",
              "      <td>(4:51) 27-K.HUNT RIGHT END FOR 8 YARDS, TOUCHD...</td>\n",
              "      <td>RUSH</td>\n",
              "      <td>1</td>\n",
              "      <td>0</td>\n",
              "      <td>0</td>\n",
              "    </tr>\n",
              "    <tr>\n",
              "      <th>21766</th>\n",
              "      <td>2021100303</td>\n",
              "      <td>2021-10-03</td>\n",
              "      <td>DAL</td>\n",
              "      <td>CAR</td>\n",
              "      <td>(7:31) 21-E.ELLIOTT LEFT GUARD FOR 1 YARD, TOU...</td>\n",
              "      <td>RUSH</td>\n",
              "      <td>1</td>\n",
              "      <td>0</td>\n",
              "      <td>0</td>\n",
              "    </tr>\n",
              "  </tbody>\n",
              "</table>\n",
              "<p>693 rows × 9 columns</p>\n",
              "</div>"
            ],
            "text/plain": [
              "           GameId    GameDate  ... IsTwoPointConversionSuccessful IsNoPlay\n",
              "27     2021110100  2021-11-01  ...                              0        0\n",
              "55     2021103112  2021-10-31  ...                              0        0\n",
              "95     2021103109  2021-10-31  ...                              0        0\n",
              "119    2021103108  2021-10-31  ...                              0        0\n",
              "148    2021103108  2021-10-31  ...                              0        0\n",
              "...           ...         ...  ...                            ...      ...\n",
              "21566  2021103112  2021-10-31  ...                              0        0\n",
              "21653  2021101707  2021-10-17  ...                              0        0\n",
              "21671  2021101706  2021-10-17  ...                              0        0\n",
              "21715  2021101009  2021-10-10  ...                              0        0\n",
              "21766  2021100303  2021-10-03  ...                              0        0\n",
              "\n",
              "[693 rows x 9 columns]"
            ]
          },
          "metadata": {},
          "execution_count": 75
        }
      ]
    },
    {
      "cell_type": "code",
      "metadata": {
        "id": "6FuAJQKGRiOO",
        "outputId": "ac0f7012-e817-4197-abfc-c17ca5d85b84",
        "colab": {
          "base_uri": "https://localhost:8080/",
          "height": 310
        }
      },
      "source": [
        "game1.groupby(\"DefenseTeam\")[\"IsTouchdown\"].count().plot(kind='bar', legend='Reverse')"
      ],
      "execution_count": 91,
      "outputs": [
        {
          "output_type": "execute_result",
          "data": {
            "text/plain": [
              "<matplotlib.axes._subplots.AxesSubplot at 0x7fa252116850>"
            ]
          },
          "metadata": {},
          "execution_count": 91
        },
        {
          "output_type": "display_data",
          "data": {
            "image/png": "[encoded data removed]",
            "text/plain": [
              "<Figure size 432x288 with 1 Axes>"
            ]
          },
          "metadata": {
            "needs_background": "light"
          }
        }
      ]
    },
    {
      "cell_type": "code",
      "metadata": {
        "id": "SWL_OA3dSOMk",
        "outputId": "077ca095-5f8a-4179-c3d5-ce5a78738c8f",
        "colab": {
          "base_uri": "https://localhost:8080/",
          "height": 310
        }
      },
      "source": [
        "game1.groupby(\"OffenseTeam\",)[\"IsTouchdown\"].count().plot(kind='bar', legend='Reverse')"
      ],
      "execution_count": 77,
      "outputs": [
        {
          "output_type": "execute_result",
          "data": {
            "text/plain": [
              "<matplotlib.axes._subplots.AxesSubplot at 0x7fa252c0f450>"
            ]
          },
          "metadata": {},
          "execution_count": 77
        },
        {
          "output_type": "display_data",
          "data": {
            "image/png": "[encoded data removed]",
            "text/plain": [
              "<Figure size 432x288 with 1 Axes>"
            ]
          },
          "metadata": {
            "needs_background": "light"
          }
        }
      ]
    },
    {
      "cell_type": "code",
      "metadata": {
        "id": "fC_5Ati6yMNz"
      },
      "source": [
        "GameId"
      ],
      "execution_count": null,
      "outputs": []
    },
    {
      "cell_type": "code",
      "metadata": {
        "id": "32PuJIYyDrOg"
      },
      "source": [
        "GameId=df[\"GameId\"].values\n",
        "fieldgoal=game1['PlayType'].values\n",
        "IsTouchdown=game2['IsTouchdown'].values\n",
        "Twopoint=game3['IsTwoPointConversionSuccessful'].values\n",
        "\n"
      ],
      "execution_count": 112,
      "outputs": []
    }
  ]
}