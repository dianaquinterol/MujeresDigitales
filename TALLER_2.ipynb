{
  "nbformat": 4,
  "nbformat_minor": 0,
  "metadata": {
    "colab": {
      "name": "TALLER 2.ipynb",
      "provenance": [],
      "collapsed_sections": [],
      "authorship_tag": "ABX9TyP1qRQ6vYfv+C8X6+wjwHfn",
      "include_colab_link": true
    },
    "kernelspec": {
      "name": "python3",
      "display_name": "Python 3"
    },
    "language_info": {
      "name": "python"
    }
  },
  "cells": [
    {
      "cell_type": "markdown",
      "metadata": {
        "id": "view-in-github",
        "colab_type": "text"
      },
      "source": [
        "<a href=\"https://colab.research.google.com/github/dianaquinterol/MujeresDigitales/blob/main/TALLER_2.ipynb\" target=\"_parent\"><img src=\"https://colab.research.google.com/assets/colab-badge.svg\" alt=\"Open In Colab\"/></a>"
      ]
    },
    {
      "cell_type": "markdown",
      "metadata": {
        "id": "__LmNVJcAkzD"
      },
      "source": [
        "TALLER 2\n",
        "Se solicita realizar un programa que permita identificar el nivel de cumplimiento del area de ventas de la empresa AVA. Entre los principales requerimientos se encuentan los siguientes:\n",
        "\n",
        "Permita ingresar la cantidad de vendedores del area de ventas.\n",
        "\n",
        "Permita ingresar la puntuación para cada uno de ellos (esacala de 1 a 10).\n",
        "\n",
        "El programa debe permitir identificar el vendedor con peor rendimiento y mejor rendimiento.\n",
        "Obtener también el promedio general del nivel de cumplimiento del área de ventas.\n",
        "Nota:Si hay empate en la puntuación para definir el primer y último puesto, se define por orden alfabetico."
      ]
    },
    {
      "cell_type": "code",
      "metadata": {
        "colab": {
          "base_uri": "https://localhost:8080/"
        },
        "id": "v_7oNpXQAyJQ",
        "outputId": "a74fbd47-a439-452e-e979-795e069bae94"
      },
      "source": [
        "\n",
        "z=0\n",
        "z=int(input(\"Ingrese la cantidad de vendedores del area de ventas: \"))\n",
        "\n",
        "def ventas():\n",
        "  vendedor=[]\n",
        "  for x in range(z):\n",
        "    nombreV=input(\"Ingresa el nombre del vendedor:\")\n",
        "    cantidadP=int(input(\"Ingrese la cantidad de puntos:\"))\n",
        "    vendedor.append((nombreV,cantidadP))\n",
        "  return vendedor\n",
        "\n",
        "def view(vendedor):\n",
        "  print(\"vendedores\")\n",
        "  for x in range(len(vendedor)):\n",
        "    print(vendedor[x][0],vendedor[x][1])\n",
        "\n",
        "def mejor(vendedor):\n",
        "  vendedor.sort()\n",
        "  idx, max_value= max(vendedor, key=lambda item: item[1])\n",
        "  print('El mejor vendedor es ',idx)\n",
        "  \n",
        "def peor(vendedor):\n",
        "  vendedor.sort()\n",
        "  idx, min_value= min(vendedor, key=lambda item: item[1])\n",
        "  print('El peor vendedor es ', idx)\n",
        "\n",
        "def promedio(vendedor):\n",
        "  prom = sum(map(lambda x: int(x[1]), vendedor))\n",
        "  prom=prom/z\n",
        "  print('El promedio de ventas es', prom, \":\")\n",
        "\n",
        "vendedor = ventas()\n",
        "view(vendedor)\n",
        "mejor(vendedor)\n",
        "peor(vendedor)\n",
        "promedio(vendedor)\n"
      ],
      "execution_count": 60,
      "outputs": [
        {
          "output_type": "stream",
          "text": [
            "Ingrese la cantidad de vendedores del area de ventas: 3\n",
            "Ingresa el nombre del vendedor:DIANA\n",
            "Ingrese la cantidad de puntos:5\n",
            "Ingresa el nombre del vendedor:JOSE\n",
            "Ingrese la cantidad de puntos:5\n",
            "Ingresa el nombre del vendedor:GABY\n",
            "Ingrese la cantidad de puntos:9\n",
            "vendedores\n",
            "DIANA 5\n",
            "JOSE 5\n",
            "GABY 9\n",
            "El mejor vendedor es  GABY\n",
            "El peor vendedor es  DIANA\n",
            "El promedio de ventas es 6.333333333333333 :\n"
          ],
          "name": "stdout"
        }
      ]
    },
    {
      "cell_type": "code",
      "metadata": {
        "id": "VHyxHImPhtUu"
      },
      "source": [
        "def mejor(vendedor):\n",
        "  v=0\n",
        "  for x in range(1,len(vendedor)):\n",
        "    if vendedor[x][1]>vendedor[p][1]:\n",
        "      v=x\n",
        "  print(vendedor)"
      ],
      "execution_count": 43,
      "outputs": []
    }
  ]
}