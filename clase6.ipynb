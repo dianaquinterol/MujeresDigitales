{
  "nbformat": 4,
  "nbformat_minor": 0,
  "metadata": {
    "colab": {
      "name": "clase6.ipynb",
      "provenance": [],
      "authorship_tag": "ABX9TyN21ov5AhzfuJwZMVUFUEjj",
      "include_colab_link": true
    },
    "kernelspec": {
      "name": "python3",
      "display_name": "Python 3"
    },
    "language_info": {
      "name": "python"
    }
  },
  "cells": [
    {
      "cell_type": "markdown",
      "metadata": {
        "id": "view-in-github",
        "colab_type": "text"
      },
      "source": [
        "<a href=\"https://colab.research.google.com/github/dianaquinterol/MujeresDigitales/blob/main/clase6.ipynb\" target=\"_parent\"><img src=\"https://colab.research.google.com/assets/colab-badge.svg\" alt=\"Open In Colab\"/></a>"
      ]
    },
    {
      "cell_type": "markdown",
      "metadata": {
        "id": "ldn4n3lGs-sd"
      },
      "source": [
        "# zip"
      ]
    },
    {
      "cell_type": "code",
      "metadata": {
        "colab": {
          "base_uri": "https://localhost:8080/"
        },
        "id": "VEcOzMv-rO1x",
        "outputId": "e85d08fa-d6ae-4eb6-ffcc-08381f0da717"
      },
      "source": [
        "listas1 = [\"nombre\", \"apellido\", \"ciudad\"]\n",
        "lista2 =[\"ana\", \"rodrigues\", \"popayan\"]\n",
        "dic ={i:j for i,j in zip(listas1, lista2)}\n",
        "print(dic)"
      ],
      "execution_count": 3,
      "outputs": [
        {
          "output_type": "stream",
          "text": [
            "{'nombre': 'ana', 'apellido': 'rodrigues', 'ciudad': 'popayan'}\n"
          ],
          "name": "stdout"
        }
      ]
    },
    {
      "cell_type": "markdown",
      "metadata": {
        "id": "I0hiQsCDsmbB"
      },
      "source": [
        "estructuras de control,\n",
        "# switch, breack, continue, complemento de iteracion"
      ]
    },
    {
      "cell_type": "code",
      "metadata": {
        "colab": {
          "base_uri": "https://localhost:8080/"
        },
        "id": "p_xzQt0-suCO",
        "outputId": "10b417b4-1181-4ede-c8b6-1b101280cc47"
      },
      "source": [
        "x = \"Andrea\"\n",
        "for i in x:\n",
        "  if i==\"e\":\n",
        "    print(\"se obtuvo la letra e\")\n",
        "    break\n",
        "print(i)"
      ],
      "execution_count": 9,
      "outputs": [
        {
          "output_type": "stream",
          "text": [
            "se obtuvo la letra e\n",
            "e\n"
          ],
          "name": "stdout"
        }
      ]
    },
    {
      "cell_type": "code",
      "metadata": {
        "colab": {
          "base_uri": "https://localhost:8080/"
        },
        "id": "pAvOeh0buq1m",
        "outputId": "dfa5d1d4-8daa-4474-9ded-bdc9dc1f107c"
      },
      "source": [
        "x = 15\n",
        "while True:\n",
        "  x -=1\n",
        "  print(x)\n",
        "  if x==0:\n",
        "    break\n",
        "  print(\"se finaliza ciclo\")\n"
      ],
      "execution_count": 12,
      "outputs": [
        {
          "output_type": "stream",
          "text": [
            "14\n",
            "se finaliza ciclo\n",
            "13\n",
            "se finaliza ciclo\n",
            "12\n",
            "se finaliza ciclo\n",
            "11\n",
            "se finaliza ciclo\n",
            "10\n",
            "se finaliza ciclo\n",
            "9\n",
            "se finaliza ciclo\n",
            "8\n",
            "se finaliza ciclo\n",
            "7\n",
            "se finaliza ciclo\n",
            "6\n",
            "se finaliza ciclo\n",
            "5\n",
            "se finaliza ciclo\n",
            "4\n",
            "se finaliza ciclo\n",
            "3\n",
            "se finaliza ciclo\n",
            "2\n",
            "se finaliza ciclo\n",
            "1\n",
            "se finaliza ciclo\n",
            "0\n"
          ],
          "name": "stdout"
        }
      ]
    },
    {
      "cell_type": "code",
      "metadata": {
        "colab": {
          "base_uri": "https://localhost:8080/"
        },
        "id": "knq3qXmYxQhz",
        "outputId": "d10603b1-e797-4079-a73a-616ac019caf4"
      },
      "source": [
        "for i in range(1, 8):\n",
        "  for j in range(1,8):\n",
        "    break\n",
        "  print(i,j)"
      ],
      "execution_count": 13,
      "outputs": [
        {
          "output_type": "stream",
          "text": [
            "1 1\n",
            "2 1\n",
            "3 1\n",
            "4 1\n",
            "5 1\n",
            "6 1\n",
            "7 1\n"
          ],
          "name": "stdout"
        }
      ]
    },
    {
      "cell_type": "code",
      "metadata": {
        "colab": {
          "base_uri": "https://localhost:8080/"
        },
        "id": "umOHhTITxvt8",
        "outputId": "759fee74-e6fe-4a21-8387-3649238ab705"
      },
      "source": [
        "x = \"ANDREA\"\n",
        "for i in x:\n",
        "  if i == \"R\":\n",
        "    continue\n",
        "  print(i)"
      ],
      "execution_count": 15,
      "outputs": [
        {
          "output_type": "stream",
          "text": [
            "A\n",
            "N\n",
            "D\n",
            "E\n",
            "A\n"
          ],
          "name": "stdout"
        }
      ]
    },
    {
      "cell_type": "code",
      "metadata": {
        "colab": {
          "base_uri": "https://localhost:8080/"
        },
        "id": "V0tahLHfyYtZ",
        "outputId": "c37244b4-6d3f-49df-eb00-03d94f1c6e30"
      },
      "source": [
        "x = 15\n",
        "while x >0:\n",
        "  x -=1\n",
        "  if x == 3:\n",
        "    continue\n",
        "  print(x)"
      ],
      "execution_count": 16,
      "outputs": [
        {
          "output_type": "stream",
          "text": [
            "14\n",
            "13\n",
            "12\n",
            "11\n",
            "10\n",
            "9\n",
            "8\n",
            "7\n",
            "6\n",
            "5\n",
            "4\n",
            "2\n",
            "1\n",
            "0\n"
          ],
          "name": "stdout"
        }
      ]
    },
    {
      "cell_type": "code",
      "metadata": {
        "colab": {
          "base_uri": "https://localhost:8080/"
        },
        "id": "LdVAhxw-y6bG",
        "outputId": "64cd46d3-4e67-4871-ddd7-5d20effc53c5"
      },
      "source": [
        "w=[\"sa\",\"se\", \"si\", \"so\",\"su\"]\n",
        "indice=1\n",
        "for i in w:\n",
        "  print(indice,i)\n",
        "  indice+=1"
      ],
      "execution_count": 19,
      "outputs": [
        {
          "output_type": "stream",
          "text": [
            "1 sa\n",
            "2 se\n",
            "3 si\n",
            "4 so\n",
            "5 su\n"
          ],
          "name": "stdout"
        }
      ]
    },
    {
      "cell_type": "code",
      "metadata": {
        "colab": {
          "base_uri": "https://localhost:8080/"
        },
        "id": "nXYiyfs11D4X",
        "outputId": "6616712c-de03-48f7-b1aa-2edf0b35e331"
      },
      "source": [
        "w=[\"sa\",\"se\", \"si\", \"so\",\"su\"]\n",
        "for indice, i in enumerate(w):\n",
        "  print(indice,i)\n",
        "x = list(enumerate(w))\n",
        "print(x)"
      ],
      "execution_count": 20,
      "outputs": [
        {
          "output_type": "stream",
          "text": [
            "0 sa\n",
            "1 se\n",
            "2 si\n",
            "3 so\n",
            "4 su\n",
            "[(0, 'sa'), (1, 'se'), (2, 'si'), (3, 'so'), (4, 'su')]\n"
          ],
          "name": "stdout"
        }
      ]
    },
    {
      "cell_type": "code",
      "metadata": {
        "colab": {
          "base_uri": "https://localhost:8080/"
        },
        "id": "xLK0aMJA0M1W",
        "outputId": "a41e3e54-f0e3-40c2-f765-16b6cb16afc7"
      },
      "source": [
        "w=[\"sa\",\"se\", \"si\", \"so\",\"su\"]\n",
        "for indice, i in enumerate(w):\n",
        "  print(indice,i)"
      ],
      "execution_count": 18,
      "outputs": [
        {
          "output_type": "stream",
          "text": [
            "0 sa\n",
            "1 se\n",
            "2 si\n",
            "3 so\n",
            "4 su\n"
          ],
          "name": "stdout"
        }
      ]
    },
    {
      "cell_type": "code",
      "metadata": {
        "colab": {
          "base_uri": "https://localhost:8080/"
        },
        "id": "7bPl4b8Z1ZgU",
        "outputId": "3ed6ea36-e236-4638-9732-79081f9b7c63"
      },
      "source": [
        "a=[1,2,3]\n",
        "b=[\"a\",\"b\",\"c\"]\n",
        "x= (\"q\",\"w\",\"e\")\n",
        "z= (10,20,30)\n",
        "c=zip(a,b)\n",
        "print(list(c))\n",
        "\n",
        "for i,j,k,l in zip(a,b,x,z):\n",
        "  print(i,j,k,l)"
      ],
      "execution_count": 26,
      "outputs": [
        {
          "output_type": "stream",
          "text": [
            "[(1, 'a'), (2, 'b'), (3, 'c')]\n",
            "1 a q 10\n",
            "2 b w 20\n",
            "3 c e 30\n"
          ],
          "name": "stdout"
        }
      ]
    },
    {
      "cell_type": "code",
      "metadata": {
        "colab": {
          "base_uri": "https://localhost:8080/"
        },
        "id": "Tu3BjyA138Ia",
        "outputId": "54d48891-6e54-4ba0-c36e-42576d493b6d"
      },
      "source": [
        "a=[1,2,3]\n",
        "b=[\"a\",\"b\"]\n",
        "for sa,se in zip(a,b):\n",
        "  print(sa,se)"
      ],
      "execution_count": 27,
      "outputs": [
        {
          "output_type": "stream",
          "text": [
            "1 a\n",
            "2 b\n"
          ],
          "name": "stdout"
        }
      ]
    },
    {
      "cell_type": "code",
      "metadata": {
        "colab": {
          "base_uri": "https://localhost:8080/"
        },
        "id": "R04PhrlK22V1",
        "outputId": "65669ecd-781f-4628-9b38-524864838714"
      },
      "source": [
        "c=[(1,'a'),(2,'b'),(3,'c')]\n",
        "a,b=zip(*c)\n",
        "print(a)\n",
        "print(b)\n"
      ],
      "execution_count": 30,
      "outputs": [
        {
          "output_type": "stream",
          "text": [
            "(1, 2, 3)\n",
            "('a', 'b', 'c')\n"
          ],
          "name": "stdout"
        }
      ]
    },
    {
      "cell_type": "markdown",
      "metadata": {
        "id": "3w3yzSs_5wqm"
      },
      "source": [
        "# FUNCIONES"
      ]
    },
    {
      "cell_type": "code",
      "metadata": {
        "colab": {
          "base_uri": "https://localhost:8080/"
        },
        "id": "tuLIBiSX51K7",
        "outputId": "7340b677-879c-4ad9-d9ee-89fbb162b3a4"
      },
      "source": [
        "def f(a):\n",
        "  return 2*a\n",
        "y=f(3)\n",
        "print(y)"
      ],
      "execution_count": 33,
      "outputs": [
        {
          "output_type": "stream",
          "text": [
            "6\n"
          ],
          "name": "stdout"
        }
      ]
    },
    {
      "cell_type": "code",
      "metadata": {
        "colab": {
          "base_uri": "https://localhost:8080/"
        },
        "id": "qHe-ZdeW7H3c",
        "outputId": "88c7455a-2848-43c8-abb2-37d9dd783421"
      },
      "source": [
        "def s():#declaracion de función\n",
        "  print(\"hi luisa\")\n",
        "s()#al cerrar la definición de función me va aparecer la ejecucion del codigo"
      ],
      "execution_count": 35,
      "outputs": [
        {
          "output_type": "stream",
          "text": [
            "hi luisa\n"
          ],
          "name": "stdout"
        }
      ]
    },
    {
      "cell_type": "code",
      "metadata": {
        "colab": {
          "base_uri": "https://localhost:8080/"
        },
        "id": "FOMeSCEz8zy4",
        "outputId": "5d8df26d-be94-4625-fe62-78f2c9e45391"
      },
      "source": [
        "def s(apellido):\n",
        "  print(\"HI luisa\", apellido)\n",
        "s(\"varon\")"
      ],
      "execution_count": 37,
      "outputs": [
        {
          "output_type": "stream",
          "text": [
            "HI luisa varon\n"
          ],
          "name": "stdout"
        }
      ]
    },
    {
      "cell_type": "code",
      "metadata": {
        "colab": {
          "base_uri": "https://localhost:8080/"
        },
        "id": "eThtPfC_9xja",
        "outputId": "aeb55520-82b7-4722-c57f-b49da8f5d318"
      },
      "source": [
        "def suma(a,b):\n",
        "  return a+b\n",
        "suma(3,5)"
      ],
      "execution_count": 39,
      "outputs": [
        {
          "output_type": "execute_result",
          "data": {
            "text/plain": [
              "8"
            ]
          },
          "metadata": {
            "tags": []
          },
          "execution_count": 39
        }
      ]
    },
    {
      "cell_type": "code",
      "metadata": {
        "colab": {
          "base_uri": "https://localhost:8080/"
        },
        "id": "YW2OhSjO-cY0",
        "outputId": "0b4a10fb-8c98-463c-e732-6076eed686e3"
      },
      "source": [
        "suma(a=4, b=20)#llamamos la funcion creada\n"
      ],
      "execution_count": 40,
      "outputs": [
        {
          "output_type": "execute_result",
          "data": {
            "text/plain": [
              "24"
            ]
          },
          "metadata": {
            "tags": []
          },
          "execution_count": 40
        }
      ]
    },
    {
      "cell_type": "code",
      "metadata": {
        "colab": {
          "base_uri": "https://localhost:8080/"
        },
        "id": "P_6Ghfu8_FM2",
        "outputId": "9025a46b-baeb-4c1f-80e3-206f78fd5874"
      },
      "source": [
        "def suma(number):\n",
        "  total=0\n",
        "  for i in number:\n",
        "    total +=i\n",
        "  return total\n",
        "suma([1,3,5,4])"
      ],
      "execution_count": 52,
      "outputs": [
        {
          "output_type": "execute_result",
          "data": {
            "text/plain": [
              "13"
            ]
          },
          "metadata": {
            "tags": []
          },
          "execution_count": 52
        }
      ]
    },
    {
      "cell_type": "code",
      "metadata": {
        "colab": {
          "base_uri": "https://localhost:8080/"
        },
        "id": "LRVcAfFrDjre",
        "outputId": "0115854d-3557-43d5-babf-c2e1a0b27aca"
      },
      "source": [
        "def suma(*number):\n",
        "  print(type(number))\n",
        "  total=0\n",
        "  for i in number:\n",
        "    total+=1\n",
        "  return total\n",
        "suma(1,3,5,4)"
      ],
      "execution_count": 54,
      "outputs": [
        {
          "output_type": "stream",
          "text": [
            "<class 'tuple'>\n"
          ],
          "name": "stdout"
        },
        {
          "output_type": "execute_result",
          "data": {
            "text/plain": [
              "4"
            ]
          },
          "metadata": {
            "tags": []
          },
          "execution_count": 54
        }
      ]
    }
  ]
}