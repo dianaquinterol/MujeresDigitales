{
  "nbformat": 4,
  "nbformat_minor": 0,
  "metadata": {
    "colab": {
      "name": "CLASE6.ipynb",
      "provenance": [],
      "authorship_tag": "ABX9TyPfJTxWz9qU1GLSsI49KFVI",
      "include_colab_link": true
    },
    "kernelspec": {
      "name": "python3",
      "display_name": "Python 3"
    },
    "language_info": {
      "name": "python"
    }
  },
  "cells": [
    {
      "cell_type": "markdown",
      "metadata": {
        "id": "view-in-github",
        "colab_type": "text"
      },
      "source": [
        "<a href=\"https://colab.research.google.com/github/dianaquinterol/MujeresDigitales/blob/main/CLASE6.ipynb\" target=\"_parent\"><img src=\"https://colab.research.google.com/assets/colab-badge.svg\" alt=\"Open In Colab\"/></a>"
      ]
    },
    {
      "cell_type": "code",
      "metadata": {
        "colab": {
          "base_uri": "https://localhost:8080/"
        },
        "id": "2r8wolPe0rFM",
        "outputId": "f742d5a3-df41-45b6-fec4-6290d0f9cdd9"
      },
      "source": [
        "nombre = input(\"nombre del consumidor\")\n",
        "listacomp= \"\"\n",
        "print(nombre, \"escribe los siguientes viveres para su compra en el supermercado\")\n",
        "listacomp = listacomp+ \"1 paca de papel higienico\"\n",
        "print(\"----compras que tengo que hacer----\")\n",
        "listacomp=listacomp+\", 2 shampoo pantene 2 and 1\"\n",
        "listacomp = listacomp + \", 2 pacas de pañales pequeñin etapa 3\"\n",
        "print(listacomp)"
      ],
      "execution_count": null,
      "outputs": [
        {
          "output_type": "stream",
          "text": [
            "nombre del consumidorlusia\n",
            "lusia escribe los siguientes viveres para su compra en el supermercado\n",
            "----compras que tengo que hacer----\n",
            "1 paca de papel higienico, 2 shampoo pantene 2 and 1, 2 pacas de pañales pequeñin etapa 3\n"
          ],
          "name": "stdout"
        }
      ]
    },
    {
      "cell_type": "code",
      "metadata": {
        "id": "-5zpl0m81NB-"
      },
      "source": [
        "ppp = 14000 #precio de paca de papel higienico\n",
        "cpph = 2 #cantidad de paquete de papel higienico\n",
        "pshampoo = 10000 #precio de shapmpo pantene 2 and 1\n",
        "cshampoo = 4 #unidades de shampoo\n",
        "ppbebe = 17000 #precio de pacas de pañales pequeñin\n",
        "cpbebe = 3 #cantidad de pacas de pañales pequeñinn\n",
        "\n",
        "subtotal = 0\n",
        "print(\"calculando el total de la compra...\")\n",
        "total_pph= ppph*cpph\n",
        "print(\"el valor total de papel higienico es : $ \", total_pph)\n",
        "subtotal= subtotal + total_pph\n",
        "print(\"el subtotal es : $\", subtotal)"
      ],
      "execution_count": null,
      "outputs": []
    },
    {
      "cell_type": "code",
      "metadata": {
        "colab": {
          "base_uri": "https://localhost:8080/"
        },
        "id": "LjRG3hFS1Nx6",
        "outputId": "ee0cc902-5961-42c9-f69e-633b1cbe5d6e"
      },
      "source": [
        "contp= 0\n",
        "print(\"Se realizara la compra de pañales etapa 3...Se ha iniciado la compra y asignacion en el carrito.En total hay : \", contp, \"pañales\")\n",
        "contp = contp +1\n",
        "print(\"ahora hay: \", contp, \"pañal\")\n",
        "contp = contp +1\n",
        "print(\"ahora hay: \", contp, \"pañal\")\n",
        "contp = contp +1\n",
        "print(\"ahora hay: \", contp, \"pañal\")\n",
        "contp = contp +1\n",
        "print(\"ahora hay: \", contp, \"pañal\")\n"
      ],
      "execution_count": null,
      "outputs": [
        {
          "output_type": "stream",
          "text": [
            "Se realizara la compra de pañales etapa 3...Se ha iniciado la compra y asignacion en el carrito.En total hay :  0 pañales\n",
            "ahora hay:  1 pañal\n",
            "ahora hay:  2 pañal\n",
            "ahora hay:  3 pañal\n",
            "ahora hay:  4 pañal\n"
          ],
          "name": "stdout"
        }
      ]
    },
    {
      "cell_type": "markdown",
      "metadata": {
        "id": "dSKjyCdj1WRd"
      },
      "source": [
        "# WHILE"
      ]
    },
    {
      "cell_type": "code",
      "metadata": {
        "colab": {
          "base_uri": "https://localhost:8080/"
        },
        "id": "KxzPR7AY1YsD",
        "outputId": "545f8047-c5c2-4f14-ea54-e434d64b2073"
      },
      "source": [
        "lapiz = 5\n",
        "contlapiz = 0\n",
        "print(\"se ha iniciado la compra. en total hay: \", contlapiz, lapiz)\n",
        "\n",
        "while (contlapiz< lapiz):\n",
        "  contlapiz = contlapiz+1\n",
        "  print(\"se ha iniciado la campra de lapices. ahora hay \", str(contlapiz)+ \" lapiz\")"
      ],
      "execution_count": null,
      "outputs": [
        {
          "output_type": "stream",
          "text": [
            "se ha iniciado la compra. en total hay:  0 5\n",
            "se ha iniciado la campra de lapices. ahora hay  1 lapiz\n",
            "se ha iniciado la campra de lapices. ahora hay  2 lapiz\n",
            "se ha iniciado la campra de lapices. ahora hay  3 lapiz\n",
            "se ha iniciado la campra de lapices. ahora hay  4 lapiz\n",
            "se ha iniciado la campra de lapices. ahora hay  5 lapiz\n"
          ],
          "name": "stdout"
        }
      ]
    },
    {
      "cell_type": "markdown",
      "metadata": {
        "id": "s7WbD28c1dA7"
      },
      "source": [
        "# FOR"
      ]
    },
    {
      "cell_type": "code",
      "metadata": {
        "id": "rXUM3pUy1f8-"
      },
      "source": [
        "print(\"se ha iniciado la compra en total hay: 0 lapices\")\n",
        "for i in range(1,6):\n",
        "  print(\"se ha realizado la compra de lapices. ahora hay \", i ,\"lapices\")"
      ],
      "execution_count": null,
      "outputs": []
    }
  ]
}