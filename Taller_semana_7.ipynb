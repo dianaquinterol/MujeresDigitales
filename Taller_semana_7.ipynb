{
  "nbformat": 4,
  "nbformat_minor": 0,
  "metadata": {
    "colab": {
      "name": "Taller semana 7.ipynb",
      "provenance": [],
      "collapsed_sections": [],
      "include_colab_link": true
    },
    "kernelspec": {
      "display_name": "Python 3",
      "language": "python",
      "name": "python3"
    },
    "language_info": {
      "codemirror_mode": {
        "name": "ipython",
        "version": 3
      },
      "file_extension": ".py",
      "mimetype": "text/x-python",
      "name": "python",
      "nbconvert_exporter": "python",
      "pygments_lexer": "ipython3",
      "version": "3.8.11"
    }
  },
  "cells": [
    {
      "cell_type": "markdown",
      "metadata": {
        "id": "view-in-github",
        "colab_type": "text"
      },
      "source": [
        "<a href=\"https://colab.research.google.com/github/dianaquinterol/MujeresDigitales/blob/main/Taller_semana_7.ipynb\" target=\"_parent\"><img src=\"https://colab.research.google.com/assets/colab-badge.svg\" alt=\"Open In Colab\"/></a>"
      ]
    },
    {
      "cell_type": "markdown",
      "metadata": {
        "id": "59xsghf1ToUj"
      },
      "source": [
        "## Introducción"
      ]
    },
    {
      "cell_type": "markdown",
      "metadata": {
        "id": "MjSAZ7RYToUk"
      },
      "source": [
        "**Contexto comercial.** Usted es un analista en una entidad bancaria, y se le proporciona un conjunto de datos de los clientes. Su jefe le pide que analice la información para determinar si existen similaridades entre grupos de clientes para lanzar una campaña de mercadeo.\n",
        "\n",
        "**Problema comercial.** Su tarea es **crear un modelo de clusterización para determinar si existen grupos de clientes similares**.\n",
        "\n",
        "**Contexto analítico.** Como científico de datos, se le pide realizar una clusterización de los clientes para identificar "
      ]
    },
    {
      "cell_type": "code",
      "metadata": {
        "id": "vepww2jmToUl"
      },
      "source": [
        "import matplotlib.pyplot as plt\n",
        "import numpy as np\n",
        "import pandas as pd\n",
        "import scipy\n",
        "import seaborn as sns\n",
        "import sklearn # Paquete base de ML\n",
        "\n",
        "from scipy.stats import norm\n",
        "from sklearn.cluster import KMeans\n",
        "from sklearn.preprocessing import MinMaxScaler, MaxAbsScaler, RobustScaler, StandardScaler\n",
        "\n",
        "%matplotlib inline"
      ],
      "execution_count": null,
      "outputs": []
    },
    {
      "cell_type": "code",
      "metadata": {
        "id": "Mxxw_M8KToUm"
      },
      "source": [
        "df = pd.read_csv(\"Lending_club_cleaned_2.csv\")"
      ],
      "execution_count": null,
      "outputs": []
    },
    {
      "cell_type": "code",
      "metadata": {
        "colab": {
          "base_uri": "https://localhost:8080/",
          "height": 204
        },
        "id": "UFagmY8CToUn",
        "scrolled": true,
        "outputId": "9a853f89-01d6-469e-d4bc-7136b98a2374"
      },
      "source": [
        "df.head()"
      ],
      "execution_count": null,
      "outputs": [
        {
          "output_type": "execute_result",
          "data": {
            "text/html": [
              "<div>\n",
              "<style scoped>\n",
              "    .dataframe tbody tr th:only-of-type {\n",
              "        vertical-align: middle;\n",
              "    }\n",
              "\n",
              "    .dataframe tbody tr th {\n",
              "        vertical-align: top;\n",
              "    }\n",
              "\n",
              "    .dataframe thead th {\n",
              "        text-align: right;\n",
              "    }\n",
              "</style>\n",
              "<table border=\"1\" class=\"dataframe\">\n",
              "  <thead>\n",
              "    <tr style=\"text-align: right;\">\n",
              "      <th></th>\n",
              "      <th>loan_status</th>\n",
              "      <th>annual_inc</th>\n",
              "      <th>verification_status</th>\n",
              "      <th>emp_length</th>\n",
              "      <th>home_ownership</th>\n",
              "      <th>int_rate</th>\n",
              "      <th>loan_amnt</th>\n",
              "      <th>purpose</th>\n",
              "      <th>term</th>\n",
              "      <th>grade</th>\n",
              "    </tr>\n",
              "  </thead>\n",
              "  <tbody>\n",
              "    <tr>\n",
              "      <th>0</th>\n",
              "      <td>Fully Paid</td>\n",
              "      <td>24000.0</td>\n",
              "      <td>Verified</td>\n",
              "      <td>10+ years</td>\n",
              "      <td>RENT</td>\n",
              "      <td>10.65%</td>\n",
              "      <td>5000</td>\n",
              "      <td>credit_card</td>\n",
              "      <td>36 months</td>\n",
              "      <td>B</td>\n",
              "    </tr>\n",
              "    <tr>\n",
              "      <th>1</th>\n",
              "      <td>Charged Off</td>\n",
              "      <td>30000.0</td>\n",
              "      <td>Source Verified</td>\n",
              "      <td>&lt; 1 year</td>\n",
              "      <td>RENT</td>\n",
              "      <td>15.27%</td>\n",
              "      <td>2500</td>\n",
              "      <td>car</td>\n",
              "      <td>60 months</td>\n",
              "      <td>C</td>\n",
              "    </tr>\n",
              "    <tr>\n",
              "      <th>2</th>\n",
              "      <td>Fully Paid</td>\n",
              "      <td>12252.0</td>\n",
              "      <td>Not Verified</td>\n",
              "      <td>10+ years</td>\n",
              "      <td>RENT</td>\n",
              "      <td>15.96%</td>\n",
              "      <td>2400</td>\n",
              "      <td>small_business</td>\n",
              "      <td>36 months</td>\n",
              "      <td>C</td>\n",
              "    </tr>\n",
              "    <tr>\n",
              "      <th>3</th>\n",
              "      <td>Fully Paid</td>\n",
              "      <td>49200.0</td>\n",
              "      <td>Source Verified</td>\n",
              "      <td>10+ years</td>\n",
              "      <td>RENT</td>\n",
              "      <td>13.49%</td>\n",
              "      <td>10000</td>\n",
              "      <td>other</td>\n",
              "      <td>36 months</td>\n",
              "      <td>C</td>\n",
              "    </tr>\n",
              "    <tr>\n",
              "      <th>4</th>\n",
              "      <td>Fully Paid</td>\n",
              "      <td>80000.0</td>\n",
              "      <td>Source Verified</td>\n",
              "      <td>1 year</td>\n",
              "      <td>RENT</td>\n",
              "      <td>12.69%</td>\n",
              "      <td>3000</td>\n",
              "      <td>other</td>\n",
              "      <td>60 months</td>\n",
              "      <td>B</td>\n",
              "    </tr>\n",
              "  </tbody>\n",
              "</table>\n",
              "</div>"
            ],
            "text/plain": [
              "   loan_status  annual_inc  ...        term grade\n",
              "0   Fully Paid     24000.0  ...   36 months     B\n",
              "1  Charged Off     30000.0  ...   60 months     C\n",
              "2   Fully Paid     12252.0  ...   36 months     C\n",
              "3   Fully Paid     49200.0  ...   36 months     C\n",
              "4   Fully Paid     80000.0  ...   60 months     B\n",
              "\n",
              "[5 rows x 10 columns]"
            ]
          },
          "metadata": {},
          "execution_count": 15
        }
      ]
    },
    {
      "cell_type": "markdown",
      "metadata": {
        "id": "vap79PSqToUo"
      },
      "source": [
        "## Ejercicio 1:\n",
        "\n",
        "Realice una normalización de los datos numéricos es decir que los valores oscilen entre 0 y 1 en las columnas  annual_inc y loan_amnt.\n",
        "Consejo: antes de realizar la normalización asegúrese de que el tipo de dichas columnas si sea numérico."
      ]
    },
    {
      "cell_type": "code",
      "metadata": {
        "id": "8afQzPuNWEa9"
      },
      "source": [
        "def normalize(df):\n",
        "  resultado = df.copy()\n",
        "  for future_name in df.columns:\n",
        "    max_val = df[future_name].max()\n",
        "    min_val = df[future_name].min()\n",
        "    resultado[future_name] = (df[future_name] - min_val) / (max_val - min_val)\n",
        "  return resultado"
      ],
      "execution_count": null,
      "outputs": []
    },
    {
      "cell_type": "code",
      "metadata": {
        "colab": {
          "base_uri": "https://localhost:8080/",
          "height": 419
        },
        "id": "vQokH7roKqDO",
        "outputId": "c8890b0a-73b9-4bb1-96e7-07d740c30264"
      },
      "source": [
        "df_normalizado = normalize(df[['loan_amnt','annual_inc']])\n",
        "df_normalizado"
      ],
      "execution_count": null,
      "outputs": [
        {
          "output_type": "execute_result",
          "data": {
            "text/html": [
              "<div>\n",
              "<style scoped>\n",
              "    .dataframe tbody tr th:only-of-type {\n",
              "        vertical-align: middle;\n",
              "    }\n",
              "\n",
              "    .dataframe tbody tr th {\n",
              "        vertical-align: top;\n",
              "    }\n",
              "\n",
              "    .dataframe thead th {\n",
              "        text-align: right;\n",
              "    }\n",
              "</style>\n",
              "<table border=\"1\" class=\"dataframe\">\n",
              "  <thead>\n",
              "    <tr style=\"text-align: right;\">\n",
              "      <th></th>\n",
              "      <th>loan_amnt</th>\n",
              "      <th>annual_inc</th>\n",
              "    </tr>\n",
              "  </thead>\n",
              "  <tbody>\n",
              "    <tr>\n",
              "      <th>0</th>\n",
              "      <td>0.130435</td>\n",
              "      <td>0.003336</td>\n",
              "    </tr>\n",
              "    <tr>\n",
              "      <th>1</th>\n",
              "      <td>0.057971</td>\n",
              "      <td>0.004336</td>\n",
              "    </tr>\n",
              "    <tr>\n",
              "      <th>2</th>\n",
              "      <td>0.055072</td>\n",
              "      <td>0.001376</td>\n",
              "    </tr>\n",
              "    <tr>\n",
              "      <th>3</th>\n",
              "      <td>0.275362</td>\n",
              "      <td>0.007538</td>\n",
              "    </tr>\n",
              "    <tr>\n",
              "      <th>4</th>\n",
              "      <td>0.072464</td>\n",
              "      <td>0.012675</td>\n",
              "    </tr>\n",
              "    <tr>\n",
              "      <th>...</th>\n",
              "      <td>...</td>\n",
              "      <td>...</td>\n",
              "    </tr>\n",
              "    <tr>\n",
              "      <th>38700</th>\n",
              "      <td>0.057971</td>\n",
              "      <td>0.017678</td>\n",
              "    </tr>\n",
              "    <tr>\n",
              "      <th>38701</th>\n",
              "      <td>0.231884</td>\n",
              "      <td>0.002335</td>\n",
              "    </tr>\n",
              "    <tr>\n",
              "      <th>38702</th>\n",
              "      <td>0.130435</td>\n",
              "      <td>0.016011</td>\n",
              "    </tr>\n",
              "    <tr>\n",
              "      <th>38703</th>\n",
              "      <td>0.130435</td>\n",
              "      <td>0.032688</td>\n",
              "    </tr>\n",
              "    <tr>\n",
              "      <th>38704</th>\n",
              "      <td>0.202899</td>\n",
              "      <td>0.003002</td>\n",
              "    </tr>\n",
              "  </tbody>\n",
              "</table>\n",
              "<p>38705 rows × 2 columns</p>\n",
              "</div>"
            ],
            "text/plain": [
              "       loan_amnt  annual_inc\n",
              "0       0.130435    0.003336\n",
              "1       0.057971    0.004336\n",
              "2       0.055072    0.001376\n",
              "3       0.275362    0.007538\n",
              "4       0.072464    0.012675\n",
              "...          ...         ...\n",
              "38700   0.057971    0.017678\n",
              "38701   0.231884    0.002335\n",
              "38702   0.130435    0.016011\n",
              "38703   0.130435    0.032688\n",
              "38704   0.202899    0.003002\n",
              "\n",
              "[38705 rows x 2 columns]"
            ]
          },
          "metadata": {},
          "execution_count": 18
        }
      ]
    },
    {
      "cell_type": "markdown",
      "metadata": {
        "id": "2FKr2E8vYFPB"
      },
      "source": [
        "## Ejercicio 2:\n",
        "\n",
        "Emplee el algoritmo de k-means para agrupar a los clientes usando un número de clusters de 4."
      ]
    },
    {
      "cell_type": "code",
      "metadata": {
        "id": "PgS3de94cfEE",
        "colab": {
          "base_uri": "https://localhost:8080/"
        },
        "outputId": "7207d9c1-cfa8-48f4-a561-03c94cca4f5a"
      },
      "source": [
        "k = 4\n",
        "kmeans = KMeans(n_clusters=k, init='k-means++')\n",
        "kmeans.fit(df_normalizado)\n",
        "\n",
        "labels = kmeans.predict(df_normalizado)\n",
        "centroids = kmeans.cluster_centers_\n",
        "centroids\n"
      ],
      "execution_count": null,
      "outputs": [
        {
          "output_type": "execute_result",
          "data": {
            "text/plain": [
              "array([[0.27980335, 0.0104421 ],\n",
              "       [0.78197901, 0.01788992],\n",
              "       [0.11657391, 0.00849035],\n",
              "       [0.48122444, 0.01265608]])"
            ]
          },
          "metadata": {},
          "execution_count": 21
        }
      ]
    },
    {
      "cell_type": "markdown",
      "metadata": {
        "id": "pCX-EaYuYdpQ"
      },
      "source": [
        "## Ejercicio 3 (Opcional):\n",
        "\n",
        "Realice un gráfico de dispersión (scatter) para vizualizar los cluster que descubrió en el punto anterior (ejercicio 2). Usando colores diferentes para identificar los 4 cluster."
      ]
    },
    {
      "cell_type": "code",
      "metadata": {
        "id": "t5F2k3bWcgJe",
        "colab": {
          "base_uri": "https://localhost:8080/",
          "height": 412
        },
        "outputId": "877a5fbb-a80d-4aa0-fe75-b9ffd2125326"
      },
      "source": [
        "plt.figure(figsize=(6,6))\n",
        "color_map = {1:'r', 2:'g', 3:'b', 4:'c', 5:'y',6:'w'}\n",
        "colors = [color_map[x+1] for x in labels]\n",
        "\n",
        "plt.scatter(df_normalizado['loan_amnt'], df_normalizado['annual_inc'], color= colors, alpha=0.4, edgecolors='k')\n",
        "for idx,centroid in enumerate(centroids):\n",
        "  plt.scatter(*centroid, marker='*', edgecolors='k', s=100)\n",
        "plt.xlim(-0.25, 1.25)\n",
        "plt.xlabel('loan_amnt', fontsize = 12)\n",
        "plt.xticks(fontsize= 12)\n",
        "plt.ylabel('annual_inc', fontsize= 12)\n",
        "plt.yticks(fontsize= 12)\n",
        "plt.title('k-means Clustering after convergence', fontsize= 16)\n",
        "plt.show()"
      ],
      "execution_count": null,
      "outputs": [
        {
          "output_type": "display_data",
          "data": {
            "image/png": "[encoded data removed]",
            "text/plain": [
              "<Figure size 432x432 with 1 Axes>"
            ]
          },
          "metadata": {
            "needs_background": "light"
          }
        }
      ]
    },
    {
      "cell_type": "markdown",
      "metadata": {
        "id": "JnRm_JD9bC_A"
      },
      "source": [
        "## Ejercicio 4 (Opcional):\n",
        "\n",
        "Use el método del codo para verificar cual es el número de clusters óptimo. Revise desde 1 clúster hasta 11 para realizar esta validación."
      ]
    },
    {
      "cell_type": "code",
      "metadata": {
        "id": "U4jbP5FKchwg",
        "colab": {
          "base_uri": "https://localhost:8080/",
          "height": 412
        },
        "outputId": "4eb59fef-128a-446d-e3fa-e9b8fe4b24ba"
      },
      "source": [
        "sumapuntos = []\n",
        "K = range(1,11)\n",
        "for k in K:\n",
        "  km = KMeans(n_clusters=k)\n",
        "  km = km.fit(df_normalizado[['loan_amnt','annual_inc']])\n",
        "  sumapuntos.append(km.inertia_)\n",
        "plt.figure(figsize=(8,6))\n",
        "plt.plot(K, sumapuntos, 'rx-.')\n",
        "plt.xlabel('Number of Cluster, k', fontsize=12)\n",
        "plt.xticks(range(1,11), fontsize = 12)\n",
        "plt.ylabel('sum of Squared Distances', fontsize = 12)\n",
        "plt.xticks(fontsize = 12)\n",
        "plt.title('Elbow Method for Determining k', fontsize= 16)\n",
        "plt.show()"
      ],
      "execution_count": null,
      "outputs": [
        {
          "output_type": "display_data",
          "data": {
            "image/png": "[encoded data removed]",
            "text/plain": [
              "<Figure size 576x432 with 1 Axes>"
            ]
          },
          "metadata": {
            "needs_background": "light"
          }
        }
      ]
    }
  ]
}