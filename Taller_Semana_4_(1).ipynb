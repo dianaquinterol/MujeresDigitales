{
  "nbformat": 4,
  "nbformat_minor": 0,
  "metadata": {
    "kernelspec": {
      "display_name": "Python 3",
      "language": "python",
      "name": "python3"
    },
    "language_info": {
      "codemirror_mode": {
        "name": "ipython",
        "version": 3
      },
      "file_extension": ".py",
      "mimetype": "text/x-python",
      "name": "python",
      "nbconvert_exporter": "python",
      "pygments_lexer": "ipython3",
      "version": "3.7.3"
    },
    "colab": {
      "name": "Taller Semana 4 (1).ipynb",
      "provenance": [],
      "include_colab_link": true
    }
  },
  "cells": [
    {
      "cell_type": "markdown",
      "metadata": {
        "id": "view-in-github",
        "colab_type": "text"
      },
      "source": [
        "<a href=\"https://colab.research.google.com/github/dianaquinterol/MujeresDigitales/blob/main/Taller_Semana_4_(1).ipynb\" target=\"_parent\"><img src=\"https://colab.research.google.com/assets/colab-badge.svg\" alt=\"Open In Colab\"/></a>"
      ]
    },
    {
      "cell_type": "markdown",
      "metadata": {
        "id": "DX6ZmLWV3Qpa"
      },
      "source": [
        "# **Diana Soraya Quintero Lopez**"
      ]
    },
    {
      "cell_type": "markdown",
      "metadata": {
        "id": "SUIcZJyyd6Vw"
      },
      "source": [
        "# Investigando los accidentes de tránsito en Nueva York"
      ]
    },
    {
      "cell_type": "code",
      "metadata": {
        "id": "0qKbKxgBd6Vz"
      },
      "source": [
        "import pandas as pd\n",
        "import matplotlib.pyplot as plt\n",
        "import seaborn as sns"
      ],
      "execution_count": 2,
      "outputs": []
    },
    {
      "cell_type": "markdown",
      "metadata": {
        "id": "CciJWSAqd6V0"
      },
      "source": [
        "## Introducción\n",
        "\n",
        "**Contexto empresarial.** La ciudad de Nueva York ha experimentado un aumento en el número de accidentes en las vías de la ciudad. Quieren saber si el número de accidentes ha aumentado en las últimas semanas. Para todos los accidentes reportados, han recopilado detalles para cada accidente y han estado manteniendo registros durante el último año y medio (desde enero de 2018 hasta agosto de 2019).\n",
        "\n",
        "La ciudad te ha contratado para que construyas visualizaciones que les ayuden a identificar patrones en accidentes, lo que les ayudaría a tomar acciones preventivas para reducir la cantidad de accidentes en el futuro. Tienen ciertos parámetros como comuna, hora del día, motivo del accidente, etc. De los que se preocupan y de los que les gustaría obtener información específica.\n",
        "\n",
        "**Problema empresarial.** Su tarea es formatear los datos proporcionados y proporcionar visualizaciones que respondan a las preguntas específicas que tiene el cliente, que se mencionan a continuación.\n",
        "\n",
        "**Contexto analítico.** Se le proporciona un archivo CSV que contiene detalles sobre cada accidente como fecha, hora, ubicación del accidente, motivo del accidente, tipos de vehículos involucrados, recuento de lesiones y muertes, etc. El delimitador en el archivo CSV dado es; en lugar del predeterminado,. Realizará las siguientes tareas con los datos:\n",
        "\n",
        "*    Leer, transformar y preparar datos para su visualización\n",
        "*    Realizar análisis y construir visualizaciones de los datos para identificar patrones en el conjunto de datos.\n",
        "\n",
        "El cliente tiene un conjunto específico de preguntas a las que le gustaría obtener respuestas. Deberá proporcionar visualizaciones para acompañar estos:\n",
        "\n",
        "1.    ¿Cómo ha fluctuado el número de accidentes durante el último año y medio? ¿Han aumentado con el tiempo?\n",
        "2.   Para un día en particular, ¿durante qué horas es más probable que ocurran accidentes?\n",
        "3.    ¿Hay más accidentes entre semana que los fines de semana?\n",
        "4.    ¿Cuál es la proporción de accidentes por área por comuna? ¿Qué distritos tienen un número desproporcionadamente grande de accidentes para su tamaño?\n",
        "5.    Para cada comuna, ¿durante qué horas es más probable que ocurran accidentes?\n",
        "6.    ¿Cuáles son las 5 principales causas de accidentes en la ciudad?"
      ]
    },
    {
      "cell_type": "code",
      "metadata": {
        "id": "pf5H533Td6V1"
      },
      "source": [
        "# Use la siguiente informacipón de cada comuna (\"borough\") para realizar los análisis\n",
        "\n",
        "borough_data = {'the bronx': {'name': 'the bronx', 'population': 1471160.0, 'area': 42.1},\n",
        " 'brooklyn': {'name': 'brooklyn', 'population': 2648771.0, 'area': 70.82},\n",
        " 'manhattan': {'name': 'manhattan', 'population': 1664727.0, 'area': 22.83},\n",
        " 'queens': {'name': 'queens', 'population': 2358582.0, 'area': 108.53},\n",
        " 'staten island': {'name': 'staten island', 'population': 479458.0, 'area': 58.37}}"
      ],
      "execution_count": 3,
      "outputs": []
    },
    {
      "cell_type": "markdown",
      "metadata": {
        "id": "QP-Y4A-3d6V2"
      },
      "source": [
        "Tenemos las siguientes columnas\n",
        "\n",
        "     Borough: el comuna en el que ocurrió el accidente.\n",
        "     COLLISION_ID: un identificador único para esta colisión\n",
        "     CONTRIBUTING FACTOR VEHICLE (1, 2, 3, 4, 5): Motivos del accidente\n",
        "     CROSS STREET : Calle transversal más cercana al lugar de los accidentes\n",
        "     DATE: Fecha del accidente\n",
        "     TIME: Hora del accidente\n",
        "     DATETIME: la columna que creamos anteriormente con la combinación de fecha y hora\n",
        "     LATITUDE: Latitud del accidente\n",
        "     LONGITUDE: Longitud del accidente\n",
        "     NUMBER OF (CYCLIST, MOTORIST, PEDESTRIANS) INJURED: Lesión por categoría\n",
        "     NUMBER OF (CYCLIST, MOTORIST, PEDESTRIANS) KILLED: Categoría muerte sabia\n",
        "     ON STREET NAME: Calle donde ocurrió el accidente\n",
        "     TOTAL INJURED: Total de heridos por el accidente\n",
        "     TOTAL KILLED: Total de bajas en el accidente\n",
        "     VEHICLE TYPE CODE (1, 2, 3, 4, 5): Tipos de vehículos involucrados en el accidente\n",
        "     ZIP CODE: código postal del lugar del accidente"
      ]
    },
    {
      "cell_type": "markdown",
      "metadata": {
        "id": "KsHqg54gd6V3"
      },
      "source": [
        "Primero cargue los datos del csv a un dataframe.\n",
        "\n",
        "**Nota:** El archivo se encuentra separado por punto y coma ( ; ) en lugar de coma ( , ), así que se debe ingresar el parámetro sep para leer el archivo. Aquí puede encontrar información:\n",
        "\n",
        "https://pandas.pydata.org/pandas-docs/stable/reference/api/pandas.read_csv.html#pandas.read_csv"
      ]
    },
    {
      "cell_type": "code",
      "metadata": {
        "id": "-lIQwE70d6V3",
        "colab": {
          "base_uri": "https://localhost:8080/",
          "height": 281
        },
        "outputId": "57cee3bf-2049-4beb-e140-d9b6f93b4682"
      },
      "source": [
        "# Escriba su código aquí\n",
        "df = pd.read_csv('accidents_sample.csv', sep= ';')\n",
        "df.describe\n",
        "df.head(3)"
      ],
      "execution_count": 5,
      "outputs": [
        {
          "output_type": "execute_result",
          "data": {
            "text/html": [
              "<div>\n",
              "<style scoped>\n",
              "    .dataframe tbody tr th:only-of-type {\n",
              "        vertical-align: middle;\n",
              "    }\n",
              "\n",
              "    .dataframe tbody tr th {\n",
              "        vertical-align: top;\n",
              "    }\n",
              "\n",
              "    .dataframe thead th {\n",
              "        text-align: right;\n",
              "    }\n",
              "</style>\n",
              "<table border=\"1\" class=\"dataframe\">\n",
              "  <thead>\n",
              "    <tr style=\"text-align: right;\">\n",
              "      <th></th>\n",
              "      <th>DATE</th>\n",
              "      <th>TIME</th>\n",
              "      <th>BOROUGH</th>\n",
              "      <th>ZIP CODE</th>\n",
              "      <th>LATITUDE</th>\n",
              "      <th>LONGITUDE</th>\n",
              "      <th>ON STREET NAME</th>\n",
              "      <th>NUMBER OF PEDESTRIANS INJURED</th>\n",
              "      <th>NUMBER OF PEDESTRIANS KILLED</th>\n",
              "      <th>NUMBER OF CYCLIST INJURED</th>\n",
              "      <th>NUMBER OF CYCLIST KILLED</th>\n",
              "      <th>NUMBER OF MOTORIST INJURED</th>\n",
              "      <th>NUMBER OF MOTORIST KILLED</th>\n",
              "      <th>CONTRIBUTING FACTOR VEHICLE 1</th>\n",
              "      <th>CONTRIBUTING FACTOR VEHICLE 2</th>\n",
              "      <th>CONTRIBUTING FACTOR VEHICLE 3</th>\n",
              "      <th>CONTRIBUTING FACTOR VEHICLE 4</th>\n",
              "      <th>CONTRIBUTING FACTOR VEHICLE 5</th>\n",
              "      <th>COLLISION_ID</th>\n",
              "      <th>VEHICLE TYPE CODE 1</th>\n",
              "      <th>VEHICLE TYPE CODE 2</th>\n",
              "      <th>VEHICLE TYPE CODE 3</th>\n",
              "      <th>VEHICLE TYPE CODE 4</th>\n",
              "      <th>VEHICLE TYPE CODE 5</th>\n",
              "    </tr>\n",
              "  </thead>\n",
              "  <tbody>\n",
              "    <tr>\n",
              "      <th>0</th>\n",
              "      <td>05/29/2019</td>\n",
              "      <td>8:19</td>\n",
              "      <td>QUEENS</td>\n",
              "      <td>11368.0</td>\n",
              "      <td>40.751060</td>\n",
              "      <td>-73.86954</td>\n",
              "      <td>NaN</td>\n",
              "      <td>0.0</td>\n",
              "      <td>0.0</td>\n",
              "      <td>0.0</td>\n",
              "      <td>0.0</td>\n",
              "      <td>0.0</td>\n",
              "      <td>0.0</td>\n",
              "      <td>Other Vehicular</td>\n",
              "      <td>Unspecified</td>\n",
              "      <td>NaN</td>\n",
              "      <td>NaN</td>\n",
              "      <td>NaN</td>\n",
              "      <td>4141862.0</td>\n",
              "      <td>Sedan</td>\n",
              "      <td>NaN</td>\n",
              "      <td>NaN</td>\n",
              "      <td>NaN</td>\n",
              "      <td>NaN</td>\n",
              "    </tr>\n",
              "    <tr>\n",
              "      <th>1</th>\n",
              "      <td>05/11/2018</td>\n",
              "      <td>16:30</td>\n",
              "      <td>QUEENS</td>\n",
              "      <td>11357.0</td>\n",
              "      <td>40.788480</td>\n",
              "      <td>-73.81369</td>\n",
              "      <td>NaN</td>\n",
              "      <td>0.0</td>\n",
              "      <td>0.0</td>\n",
              "      <td>0.0</td>\n",
              "      <td>0.0</td>\n",
              "      <td>0.0</td>\n",
              "      <td>0.0</td>\n",
              "      <td>Passing or Lane Usage Improper</td>\n",
              "      <td>Unspecified</td>\n",
              "      <td>NaN</td>\n",
              "      <td>NaN</td>\n",
              "      <td>NaN</td>\n",
              "      <td>3899223.0</td>\n",
              "      <td>Station Wagon/Sport Utility Vehicle</td>\n",
              "      <td>Sedan</td>\n",
              "      <td>NaN</td>\n",
              "      <td>NaN</td>\n",
              "      <td>NaN</td>\n",
              "    </tr>\n",
              "    <tr>\n",
              "      <th>2</th>\n",
              "      <td>07/18/2019</td>\n",
              "      <td>12:51</td>\n",
              "      <td>MANHATTAN</td>\n",
              "      <td>10022.0</td>\n",
              "      <td>40.755985</td>\n",
              "      <td>-73.96771</td>\n",
              "      <td>NaN</td>\n",
              "      <td>0.0</td>\n",
              "      <td>0.0</td>\n",
              "      <td>0.0</td>\n",
              "      <td>0.0</td>\n",
              "      <td>0.0</td>\n",
              "      <td>0.0</td>\n",
              "      <td>Driver Inattention/Distraction</td>\n",
              "      <td>Unspecified</td>\n",
              "      <td>NaN</td>\n",
              "      <td>NaN</td>\n",
              "      <td>NaN</td>\n",
              "      <td>4172694.0</td>\n",
              "      <td>Box Truck</td>\n",
              "      <td>NaN</td>\n",
              "      <td>NaN</td>\n",
              "      <td>NaN</td>\n",
              "      <td>NaN</td>\n",
              "    </tr>\n",
              "  </tbody>\n",
              "</table>\n",
              "</div>"
            ],
            "text/plain": [
              "         DATE   TIME  ... VEHICLE TYPE CODE 4  VEHICLE TYPE CODE 5\n",
              "0  05/29/2019   8:19  ...                 NaN                  NaN\n",
              "1  05/11/2018  16:30  ...                 NaN                  NaN\n",
              "2  07/18/2019  12:51  ...                 NaN                  NaN\n",
              "\n",
              "[3 rows x 24 columns]"
            ]
          },
          "metadata": {},
          "execution_count": 5
        }
      ]
    },
    {
      "cell_type": "markdown",
      "metadata": {
        "id": "icNi1Weed6V4"
      },
      "source": [
        "## Parte 1: Accidentes a lo largo del tiempo\n",
        "\n",
        "Agrupe los datos disponibles mensualmente y genere una gráfica lineal de accidentes a lo largo del tiempo. ¿Ha aumentado el número de accidentes durante el último año y medio?"
      ]
    },
    {
      "cell_type": "markdown",
      "metadata": {
        "id": "EHevWRI050Hy"
      },
      "source": [
        "R/ En relacion al primer al año 2018, y tomando los datos de los ultimos meses, los accidentes no han aumentado, al contrario disminuyeron."
      ]
    },
    {
      "cell_type": "code",
      "metadata": {
        "id": "K876XaNBd6V6",
        "colab": {
          "base_uri": "https://localhost:8080/",
          "height": 324
        },
        "outputId": "231c9eb3-f639-4c01-f5f1-3a1303bba872"
      },
      "source": [
        "from pandas.core.groupby import groupby\n",
        "# Escriba su código aquí\n",
        "df['DATE']=pd.to_datetime(df['DATE'])\n",
        "accidents =df.groupby(df['DATE'].dt.to_period('M')).size()\n",
        "accidents.plot.line(color='blue',title='ACCIDENTES DE TRANSITO')"
      ],
      "execution_count": 38,
      "outputs": [
        {
          "output_type": "execute_result",
          "data": {
            "text/plain": [
              "<matplotlib.axes._subplots.AxesSubplot at 0x7f5b87065f10>"
            ]
          },
          "metadata": {},
          "execution_count": 38
        },
        {
          "output_type": "display_data",
          "data": {
            "image/png": "[encoded data removed]",
            "text/plain": [
              "<Figure size 432x288 with 1 Axes>"
            ]
          },
          "metadata": {
            "needs_background": "light"
          }
        }
      ]
    },
    {
      "cell_type": "code",
      "metadata": {
        "id": "bz6m3r2XCw-e",
        "outputId": "d75ce754-d455-49ea-acca-92dfcd382957",
        "colab": {
          "base_uri": "https://localhost:8080/",
          "height": 296
        }
      },
      "source": [
        "from pandas.core.groupby import groupby\n",
        "# Escriba su código aquí\n",
        "df['date_format']=pd.to_datetime(df['DATE'])\n",
        "df['year-mes']=df['date_format'].dt.to_period('M')\n",
        "group=df.groupby('year-mes').count()\n",
        "sns.barplot(data=group ,x= 'DATE', y=group.index)"
      ],
      "execution_count": 7,
      "outputs": [
        {
          "output_type": "execute_result",
          "data": {
            "text/plain": [
              "<matplotlib.axes._subplots.AxesSubplot at 0x7f5b8be8f350>"
            ]
          },
          "metadata": {},
          "execution_count": 7
        },
        {
          "output_type": "display_data",
          "data": {
            "image/png": "[encoded data removed]",
            "text/plain": [
              "<Figure size 432x288 with 1 Axes>"
            ]
          },
          "metadata": {
            "needs_background": "light"
          }
        }
      ]
    },
    {
      "cell_type": "markdown",
      "metadata": {
        "id": "NqOw_sajd6V7"
      },
      "source": [
        "## Parte 2: Puntos calientes de accidentes en un día\n",
        "\n",
        "¿Cómo varía el número de accidentes a lo largo de un solo día? Cree una nueva columna HORA basada en los datos de la columna DATETIME, luego trace un gráfico de barras de la distribución por hora a lo largo del día."
      ]
    },
    {
      "cell_type": "code",
      "metadata": {
        "id": "IC6Do3s3d6V8",
        "colab": {
          "base_uri": "https://localhost:8080/",
          "height": 296
        },
        "outputId": "3fc18f2b-dbed-410d-f2f1-7cddc69cfeb4"
      },
      "source": [
        "# Escriba su código aquí\n",
        "df['TIME']=pd.to_datetime(df['TIME'])\n",
        "df['HOUR'] = df['TIME'].dt.hour\n",
        "group=df.groupby('HOUR').count()\n",
        "sns.barplot(data=group ,y= 'DATE', x=group.index)"
      ],
      "execution_count": 9,
      "outputs": [
        {
          "output_type": "execute_result",
          "data": {
            "text/plain": [
              "<matplotlib.axes._subplots.AxesSubplot at 0x7f5b8bed2fd0>"
            ]
          },
          "metadata": {},
          "execution_count": 9
        },
        {
          "output_type": "display_data",
          "data": {
            "image/png": "[encoded data removed]",
            "text/plain": [
              "<Figure size 432x288 with 1 Axes>"
            ]
          },
          "metadata": {
            "needs_background": "light"
          }
        }
      ]
    },
    {
      "cell_type": "markdown",
      "metadata": {
        "id": "DbVnzWWGd6V8"
      },
      "source": [
        "## Parte 3: Accidentes por día laborable\n",
        "\n",
        "¿Cómo varía el número de accidentes en una sola semana? Trace un gráfico de barras basado en el recuento de accidentes por día de la semana."
      ]
    },
    {
      "cell_type": "code",
      "metadata": {
        "id": "xTQK9v4vEYrS",
        "outputId": "ffbe2e72-877f-4b3b-fcf4-040e274c8bdf",
        "colab": {
          "base_uri": "https://localhost:8080/",
          "height": 296
        }
      },
      "source": [
        "df['DATE']=pd.to_datetime(df['DATE'])\n",
        "df['DAY'] = df['DATE'].dt.day_name()\n",
        "group=df.groupby('DAY').count()\n",
        "sns.barplot(data=group ,y= 'DATE', x=group.index)"
      ],
      "execution_count": 42,
      "outputs": [
        {
          "output_type": "execute_result",
          "data": {
            "text/plain": [
              "<matplotlib.axes._subplots.AxesSubplot at 0x7f5b85703610>"
            ]
          },
          "metadata": {},
          "execution_count": 42
        },
        {
          "output_type": "display_data",
          "data": {
            "image/png": "[encoded data removed]",
            "text/plain": [
              "<Figure size 432x288 with 1 Axes>"
            ]
          },
          "metadata": {
            "needs_background": "light"
          }
        }
      ]
    },
    {
      "cell_type": "markdown",
      "metadata": {
        "id": "7fNI3lqed6V9"
      },
      "source": [
        "## Parte 4: Análisis de comuna\n",
        "\n",
        "Trace un gráfico de barras del número total de accidentes en cada comuna, así como uno de los accidentes por kilómetro cuadrado por comuna. ¿Qué puedes concluir?"
      ]
    },
    {
      "cell_type": "code",
      "metadata": {
        "id": "ZDt6VtoTd6V9",
        "colab": {
          "base_uri": "https://localhost:8080/",
          "height": 483
        },
        "outputId": "5db64438-4418-49d4-a552-3386cdd86b51"
      },
      "source": [
        "# Escriba su código aquí\n",
        "df[['DATE','BOROUGH']]\n",
        "areas={'BRONX': 42.1, 'BROOKLYN': 70.82,'MANHATTAN':22.83,'QUEENS':108.53, 'STATEN ISLAND':58.37}\n",
        "group=df.groupby('BOROUGH').count()\n",
        "sns.barplot(data=group ,y= 'DATE', x=group.index)\n",
        "df['BOROUGH'].map(areas)\n"
      ],
      "execution_count": 133,
      "outputs": [
        {
          "output_type": "execute_result",
          "data": {
            "text/plain": [
              "0        108.53\n",
              "1        108.53\n",
              "2         22.83\n",
              "3         70.82\n",
              "4        108.53\n",
              "          ...  \n",
              "18406    108.53\n",
              "18407     22.83\n",
              "18408     22.83\n",
              "18409     42.10\n",
              "18410     22.83\n",
              "Name: BOROUGH, Length: 18411, dtype: float64"
            ]
          },
          "metadata": {},
          "execution_count": 133
        },
        {
          "output_type": "display_data",
          "data": {
            "image/png": "[encoded data removed]",
            "text/plain": [
              "<Figure size 432x288 with 1 Axes>"
            ]
          },
          "metadata": {
            "needs_background": "light"
          }
        }
      ]
    },
    {
      "cell_type": "markdown",
      "metadata": {
        "id": "T7GhKEKRd6V9"
      },
      "source": [
        "## Parte 5: Análisis por hora del comuna\n",
        "\n",
        "¿Qué horas tienen más accidentes en cada comuna? Trace un gráfico de barras para cada comuna que muestre el número de accidentes por cada hora del día."
      ]
    },
    {
      "cell_type": "code",
      "metadata": {
        "id": "Iy-X55KUcwzZ",
        "outputId": "ec55d5b0-6957-4cf3-e216-9135f0cd3842",
        "colab": {
          "base_uri": "https://localhost:8080/",
          "height": 512
        }
      },
      "source": [
        "df['TIME']=pd.to_datetime(df['TIME'])\n",
        "df['HOUR'] = df['TIME'].dt.hour\n",
        "df1 = pd.DataFrame({'count': df.groupby(['BOROUGH', 'HOUR']).size()})\n",
        "df1 = df1.reset_index()\n",
        "chart = sns.FacetGrid(df1, col='BOROUGH', margin_titles=True, col_wrap=2, aspect=3, row_order=df['BOROUGH'].unique)\n",
        "chart.map(sns.barplot, 'HOUR', 'count',)"
      ],
      "execution_count": 118,
      "outputs": [
        {
          "output_type": "stream",
          "name": "stderr",
          "text": [
            "/usr/local/lib/python3.7/dist-packages/seaborn/axisgrid.py:643: UserWarning: Using the barplot function without specifying `order` is likely to produce an incorrect plot.\n",
            "  warnings.warn(warning)\n"
          ]
        },
        {
          "output_type": "execute_result",
          "data": {
            "text/plain": [
              "<seaborn.axisgrid.FacetGrid at 0x7f5b75a5e2d0>"
            ]
          },
          "metadata": {},
          "execution_count": 118
        },
        {
          "output_type": "display_data",
          "data": {
            "image/png": "[encoded data removed]",
            "text/plain": [
              "<Figure size 864x432 with 5 Axes>"
            ]
          },
          "metadata": {
            "needs_background": "light"
          }
        }
      ]
    },
    {
      "cell_type": "markdown",
      "metadata": {
        "id": "6PPahsuVd6V-"
      },
      "source": [
        "## Parte 6: Causa de accidentes\n",
        "\n",
        "¿Qué factores provocan la mayoría de los accidentes?"
      ]
    },
    {
      "cell_type": "code",
      "metadata": {
        "id": "C2TiU-2gd6V-"
      },
      "source": [
        "# Escriba su código aquí\n"
      ],
      "execution_count": null,
      "outputs": []
    }
  ]
}