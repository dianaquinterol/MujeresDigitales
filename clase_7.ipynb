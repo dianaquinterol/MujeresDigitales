{
  "nbformat": 4,
  "nbformat_minor": 0,
  "metadata": {
    "colab": {
      "name": "clase 7.ipynb",
      "provenance": [],
      "authorship_tag": "ABX9TyNDuxJjdsW9plvW+J6ibo8f",
      "include_colab_link": true
    },
    "kernelspec": {
      "name": "python3",
      "display_name": "Python 3"
    },
    "language_info": {
      "name": "python"
    }
  },
  "cells": [
    {
      "cell_type": "markdown",
      "metadata": {
        "id": "view-in-github",
        "colab_type": "text"
      },
      "source": [
        "<a href=\"https://colab.research.google.com/github/dianaquinterol/MujeresDigitales/blob/main/clase_7.ipynb\" target=\"_parent\"><img src=\"https://colab.research.google.com/assets/colab-badge.svg\" alt=\"Open In Colab\"/></a>"
      ]
    },
    {
      "cell_type": "code",
      "metadata": {
        "colab": {
          "base_uri": "https://localhost:8080/"
        },
        "id": "QXRCa5HiyVt9",
        "outputId": "5c0a03d3-c9ac-4957-f13a-b1964e01072a"
      },
      "source": [
        "#recordemos el ejercicio de la clase pasada:\n",
        "def suma(number):\n",
        "  total=0\n",
        "  for i in number:\n",
        "    total+=i\n",
        "  return total\n",
        "suma([1,3,5,4])"
      ],
      "execution_count": 1,
      "outputs": [
        {
          "output_type": "execute_result",
          "data": {
            "text/plain": [
              "13"
            ]
          },
          "metadata": {
            "tags": []
          },
          "execution_count": 1
        }
      ]
    },
    {
      "cell_type": "code",
      "metadata": {
        "colab": {
          "base_uri": "https://localhost:8080/"
        },
        "id": "dzKlnOjx0bTD",
        "outputId": "8fb0fd74-bbc6-4094-cdac-63c70d6b0740"
      },
      "source": [
        "def suma(*number):\n",
        "  print(type(number))\n",
        "  total=0\n",
        "  for i in number:\n",
        "    total+=i\n",
        "  return total\n",
        "suma(2,3,5,4)"
      ],
      "execution_count": 3,
      "outputs": [
        {
          "output_type": "stream",
          "text": [
            "<class 'tuple'>\n"
          ],
          "name": "stdout"
        },
        {
          "output_type": "execute_result",
          "data": {
            "text/plain": [
              "14"
            ]
          },
          "metadata": {
            "tags": []
          },
          "execution_count": 3
        }
      ]
    },
    {
      "cell_type": "code",
      "metadata": {
        "colab": {
          "base_uri": "https://localhost:8080/"
        },
        "id": "un0KlDhv04Qj",
        "outputId": "be1a2471-dc43-424b-80fa-65c7c482b0a2"
      },
      "source": [
        "suma(2)\n",
        "suma(1,2,5,6,7,9)## al realizar el cambio y/o edicion de la funcion suma que veniamos usando, se puede añadir n elementos para iterar la función definida\n"
      ],
      "execution_count": 6,
      "outputs": [
        {
          "output_type": "stream",
          "text": [
            "<class 'tuple'>\n",
            "<class 'tuple'>\n"
          ],
          "name": "stdout"
        },
        {
          "output_type": "execute_result",
          "data": {
            "text/plain": [
              "30"
            ]
          },
          "metadata": {
            "tags": []
          },
          "execution_count": 6
        }
      ]
    },
    {
      "cell_type": "code",
      "metadata": {
        "colab": {
          "base_uri": "https://localhost:8080/"
        },
        "id": "mowdakAs1yvr",
        "outputId": "d3469ed5-447c-443c-907f-5b9b9bf3373a"
      },
      "source": [
        "def suma(**dado):##doble ** =LISTA\n",
        "  suma=0\n",
        "  for i,j in dado.items():\n",
        "    suma +=j\n",
        "    return suma\n",
        "suma(a=3, b=30, c=7)"
      ],
      "execution_count": 12,
      "outputs": [
        {
          "output_type": "execute_result",
          "data": {
            "text/plain": [
              "3"
            ]
          },
          "metadata": {
            "tags": []
          },
          "execution_count": 12
        }
      ]
    },
    {
      "cell_type": "code",
      "metadata": {
        "colab": {
          "base_uri": "https://localhost:8080/",
          "height": 35
        },
        "id": "XjaO7zC-4C7D",
        "outputId": "e212cec8-b188-4ffd-dab9-77a5b3bf9907"
      },
      "source": [
        "def w():\n",
        "  return\"hi\"\n",
        "w()"
      ],
      "execution_count": 13,
      "outputs": [
        {
          "output_type": "execute_result",
          "data": {
            "application/vnd.google.colaboratory.intrinsic+json": {
              "type": "string"
            },
            "text/plain": [
              "'hi'"
            ]
          },
          "metadata": {
            "tags": []
          },
          "execution_count": 13
        }
      ]
    },
    {
      "cell_type": "code",
      "metadata": {
        "id": "a3y-cVhy5dQ6"
      },
      "source": [
        "def sd(a,b,c):\n",
        "  q=a+b+c\n"
      ],
      "execution_count": null,
      "outputs": []
    },
    {
      "cell_type": "code",
      "metadata": {
        "id": "iG-ZjonZ5iDr"
      },
      "source": [
        "def paula(a,b):\n",
        "  return a+b\n",
        "  "
      ],
      "execution_count": 14,
      "outputs": []
    },
    {
      "cell_type": "code",
      "metadata": {
        "colab": {
          "base_uri": "https://localhost:8080/",
          "height": 129
        },
        "id": "Y0UQ3vpi6nFu",
        "outputId": "a8d29a09-e93d-417e-87df-b7f4a4e03f97"
      },
      "source": [
        "def (paula)\n",
        "\"\"\"para llamar el comentario---------------------------\n",
        "-------------\n",
        "  \"\"\"\n",
        "  return a+b\n",
        "paula(2,3)"
      ],
      "execution_count": 19,
      "outputs": [
        {
          "output_type": "error",
          "ename": "SyntaxError",
          "evalue": "ignored",
          "traceback": [
            "\u001b[0;36m  File \u001b[0;32m\"<ipython-input-19-2785213cd9e9>\"\u001b[0;36m, line \u001b[0;32m1\u001b[0m\n\u001b[0;31m    def (paula)(a+b)\u001b[0m\n\u001b[0m        ^\u001b[0m\n\u001b[0;31mSyntaxError\u001b[0m\u001b[0;31m:\u001b[0m invalid syntax\n"
          ]
        }
      ]
    },
    {
      "cell_type": "code",
      "metadata": {
        "colab": {
          "base_uri": "https://localhost:8080/"
        },
        "id": "MwMZOy8P7Lic",
        "outputId": "8de88675-3cfa-4025-e654-df2d5f0c573f"
      },
      "source": [
        "print(paula.__doc__) #otra forma de llamar el comentario"
      ],
      "execution_count": 16,
      "outputs": [
        {
          "output_type": "stream",
          "text": [
            "None\n"
          ],
          "name": "stdout"
        }
      ]
    },
    {
      "cell_type": "code",
      "metadata": {
        "colab": {
          "base_uri": "https://localhost:8080/"
        },
        "id": "z1sefzgO9Yl6",
        "outputId": "6dcce0ab-c762-4a59-d3e7-5d4e163593b1"
      },
      "source": [
        "##ejemplo de paso por**valor**\n",
        "\n",
        "x=3\n",
        "def funcion(w):\n",
        "  w=0\n",
        "funcion(x)\n",
        "print(x)\n"
      ],
      "execution_count": 23,
      "outputs": [
        {
          "output_type": "stream",
          "text": [
            "3\n"
          ],
          "name": "stdout"
        }
      ]
    },
    {
      "cell_type": "code",
      "metadata": {
        "colab": {
          "base_uri": "https://localhost:8080/"
        },
        "id": "tJ2xJlxJ_EWg",
        "outputId": "ba6cd85d-b18b-4272-fee9-1c20c71c779e"
      },
      "source": [
        "#caso que pasa por referencia\n",
        "x=[3,6,9,12]\n",
        "def sw(tipo):\n",
        "  tipo.append(50)\n",
        "sw(x)\n",
        "print(x)"
      ],
      "execution_count": 24,
      "outputs": [
        {
          "output_type": "stream",
          "text": [
            "[3, 6, 9, 12, 50]\n"
          ],
          "name": "stdout"
        }
      ]
    },
    {
      "cell_type": "markdown",
      "metadata": {
        "id": "MqOHDr7kBOS5"
      },
      "source": [
        "tipos de funciones"
      ]
    },
    {
      "cell_type": "code",
      "metadata": {
        "colab": {
          "base_uri": "https://localhost:8080/"
        },
        "id": "VVIb5EjlBQRL",
        "outputId": "5949092e-e022-4e3c-932e-2bdd5539d211"
      },
      "source": [
        "#funcion lambda\n",
        "#son funciones que normalmente se usan para definir el codigo en una sola linea\n",
        "#lo que normalmente seria la definicion de la funcion de este estilo\n",
        "#def suma(a,b,c,d):\n",
        "#return a+b+c+d\n",
        "#se puede escribir\n",
        "lambda a,b,c,d: a+b+c+d\n",
        "luisa=lambda a,b,c,d: a+b+c+d #asignamos lambda a una variable\n",
        "(lambda a,b,c,d: a+b+c+d)(1,2,3,4)"
      ],
      "execution_count": 28,
      "outputs": [
        {
          "output_type": "execute_result",
          "data": {
            "text/plain": [
              "10"
            ]
          },
          "metadata": {
            "tags": []
          },
          "execution_count": 28
        }
      ]
    },
    {
      "cell_type": "code",
      "metadata": {
        "colab": {
          "base_uri": "https://localhost:8080/"
        },
        "id": "1KvZiit0C9Ph",
        "outputId": "8699ae6b-0534-4dfa-d0a2-f64f7561e248"
      },
      "source": [
        "(lambda*number:sum(number))(1,4,5,5,6,7,8)"
      ],
      "execution_count": 33,
      "outputs": [
        {
          "output_type": "execute_result",
          "data": {
            "text/plain": [
              "36"
            ]
          },
          "metadata": {
            "tags": []
          },
          "execution_count": 33
        }
      ]
    },
    {
      "cell_type": "code",
      "metadata": {
        "colab": {
          "base_uri": "https://localhost:8080/"
        },
        "id": "1srUGu8IEEoc",
        "outputId": "ed4635f1-41b0-402b-819a-1734409b3f7e"
      },
      "source": [
        "(lambda**number:sum(number.values()))(a=1, b=4,c=10)"
      ],
      "execution_count": 35,
      "outputs": [
        {
          "output_type": "execute_result",
          "data": {
            "text/plain": [
              "15"
            ]
          },
          "metadata": {
            "tags": []
          },
          "execution_count": 35
        }
      ]
    },
    {
      "cell_type": "code",
      "metadata": {
        "colab": {
          "base_uri": "https://localhost:8080/"
        },
        "id": "wpOjf0l8Ed4H",
        "outputId": "b2ffbe6e-0406-463f-ce83-612a1af1e088"
      },
      "source": [
        "luisa=lambda a,b,c,d:(a,b,c,d)\n",
        "print(luisa(2,5,7,9))"
      ],
      "execution_count": 36,
      "outputs": [
        {
          "output_type": "stream",
          "text": [
            "(2, 5, 7, 9)\n"
          ],
          "name": "stdout"
        }
      ]
    },
    {
      "cell_type": "code",
      "metadata": {
        "colab": {
          "base_uri": "https://localhost:8080/"
        },
        "id": "iJZrmDjLFI7J",
        "outputId": "304edac8-0cfb-4091-e581-6058edf4118a"
      },
      "source": [
        "luisa=lambda a,b,c,d:a+b+c+d\n",
        "print(luisa(4,6,1,1))"
      ],
      "execution_count": 37,
      "outputs": [
        {
          "output_type": "stream",
          "text": [
            "12\n"
          ],
          "name": "stdout"
        }
      ]
    },
    {
      "cell_type": "markdown",
      "metadata": {
        "id": "5fSb-PIXFXKY"
      },
      "source": [
        "# RECURSIVIDAD"
      ]
    },
    {
      "cell_type": "code",
      "metadata": {
        "colab": {
          "base_uri": "https://localhost:8080/"
        },
        "id": "6uob9QpMFam-",
        "outputId": "b5cb65fb-3149-4ce4-9297-da37ca2dae5b"
      },
      "source": [
        "def factorial(n):\n",
        "  w=1\n",
        "  i=2\n",
        "  while i <=n:\n",
        "    w*=i\n",
        "    i+=1\n",
        "  return w\n",
        "factorial(5)\n"
      ],
      "execution_count": 41,
      "outputs": [
        {
          "output_type": "execute_result",
          "data": {
            "text/plain": [
              "120"
            ]
          },
          "metadata": {
            "tags": []
          },
          "execution_count": 41
        }
      ]
    },
    {
      "cell_type": "code",
      "metadata": {
        "colab": {
          "base_uri": "https://localhost:8080/"
        },
        "id": "5viwe8v-Ihed",
        "outputId": "36d4c801-92d3-4534-cbd6-dfbac09cdf24"
      },
      "source": [
        "def recursivofac(n):\n",
        "  if n==1:\n",
        "    return 1\n",
        "  else:\n",
        "    return n*recursivofac(n-1)\n",
        "recursivofac(5)"
      ],
      "execution_count": 45,
      "outputs": [
        {
          "output_type": "execute_result",
          "data": {
            "text/plain": [
              "120"
            ]
          },
          "metadata": {
            "tags": []
          },
          "execution_count": 45
        }
      ]
    },
    {
      "cell_type": "code",
      "metadata": {
        "colab": {
          "base_uri": "https://localhost:8080/"
        },
        "id": "rcpkG-kvJH9J",
        "outputId": "c30af87c-7a50-4a32-9b10-ab54a887e996"
      },
      "source": [
        "def recursivofac(n):\n",
        "  if n==1:\n",
        "    return 1\n",
        "  else:\n",
        "    return n*recursivofac(n-1)\n",
        "recursivofac(10)"
      ],
      "execution_count": 46,
      "outputs": [
        {
          "output_type": "execute_result",
          "data": {
            "text/plain": [
              "3628800"
            ]
          },
          "metadata": {
            "tags": []
          },
          "execution_count": 46
        }
      ]
    },
    {
      "cell_type": "code",
      "metadata": {
        "colab": {
          "base_uri": "https://localhost:8080/"
        },
        "id": "oFeVR-L0JjEb",
        "outputId": "e8c94d21-3f35-44a3-80e2-f423e80ead6d"
      },
      "source": [
        "def s(): ##el return nos devolveria el numero 4\n",
        "  yield 4 #devuelve un objeto de clase generador\n",
        "s()"
      ],
      "execution_count": 48,
      "outputs": [
        {
          "output_type": "execute_result",
          "data": {
            "text/plain": [
              "<generator object s at 0x7fb9c5816c50>"
            ]
          },
          "metadata": {
            "tags": []
          },
          "execution_count": 48
        }
      ]
    }
  ]
}