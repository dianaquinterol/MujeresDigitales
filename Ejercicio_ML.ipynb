{
  "nbformat": 4,
  "nbformat_minor": 0,
  "metadata": {
    "colab": {
      "provenance": [],
      "authorship_tag": "ABX9TyPqL0XGOPzL4v7b+BKhFktk",
      "include_colab_link": true
    },
    "kernelspec": {
      "name": "python3",
      "display_name": "Python 3"
    },
    "language_info": {
      "name": "python"
    }
  },
  "cells": [
    {
      "cell_type": "markdown",
      "metadata": {
        "id": "view-in-github",
        "colab_type": "text"
      },
      "source": [
        "<a href=\"https://colab.research.google.com/github/dianaquinterol/MujeresDigitales/blob/main/Ejercicio_ML.ipynb\" target=\"_parent\"><img src=\"https://colab.research.google.com/assets/colab-badge.svg\" alt=\"Open In Colab\"/></a>"
      ]
    },
    {
      "cell_type": "markdown",
      "source": [
        "# Integrantes Grupo \n",
        "\n",
        "Diana Soraya Quintero López\n",
        "\n",
        "Alberson Johan Sánchez Garavito\n",
        "\n",
        "Andres Ricardo Fraile Blanco\n",
        "\n"
      ],
      "metadata": {
        "id": "RKABLEm40ZLx"
      }
    },
    {
      "cell_type": "markdown",
      "source": [
        "# Ejemplo 3.\n",
        "\n",
        " Usar nuestros propios datos\n",
        "Imaginamos que hemos ido recopilando nuestros propios datos. En el siguiente ejemplo\n",
        "tenemos un CSV (un archivo separado por comas) con información sobre “ventas”.\n",
        "\n",
        "El campo edad se refiere a la edad del cliente, la columna cantidad se refiere a la cantidad\n",
        "de personas que iban con esa persona, la columna vehiculo indica si llegó o no en un vehículo particular, la columna pago se refiere a su forma de pago (efectivo, tarjeta de\n",
        "credito, débito o vales), y por último la columna monto que indica cuánto compró.\n",
        "\n",
        "Deseamos un modelo al que le indiquemos edad, cantidad de acompañantes, vehículo y\n",
        "forma de pago y el nos prediga cuánto va a comprar esa persona.\n",
        "Librerías a utilizar\n"
      ],
      "metadata": {
        "id": "UtXdoHp4x4JU"
      }
    },
    {
      "cell_type": "markdown",
      "source": [
        "# Librerías a utilizar"
      ],
      "metadata": {
        "id": "20hCm9TIz0TB"
      }
    },
    {
      "cell_type": "code",
      "source": [
        "import pandas as pd\n",
        "import numpy as np\n",
        "from sklearn.linear_model import LinearRegression"
      ],
      "metadata": {
        "id": "LvvgD3ukzN3q"
      },
      "execution_count": 3,
      "outputs": []
    },
    {
      "cell_type": "markdown",
      "source": [
        "# Leer el archivo y establecer las variables objetivo e independientes"
      ],
      "metadata": {
        "id": "BP9fcA2p03Y6"
      }
    },
    {
      "cell_type": "code",
      "source": [
        "ventas = pd.read_csv(\"ventas2.csv\")\n",
        "objetivo = \"monto\"\n",
        "independientes = ventas.drop(columns=[\"monto\"]).columns"
      ],
      "metadata": {
        "id": "-HKYa6dG06Rb"
      },
      "execution_count": 7,
      "outputs": []
    },
    {
      "cell_type": "markdown",
      "source": [
        "# Creamos el modelo y lo ajustamos"
      ],
      "metadata": {
        "id": "qCFSCJ9f19-w"
      }
    },
    {
      "cell_type": "code",
      "source": [
        "modelo = LinearRegression()\n",
        "modelo.fit(X=ventas[independientes], y=ventas[objetivo])"
      ],
      "metadata": {
        "colab": {
          "base_uri": "https://localhost:8080/"
        },
        "id": "UwD-zhp12BvT",
        "outputId": "211eb29e-872a-464c-90fe-bd58fd879f1e"
      },
      "execution_count": 8,
      "outputs": [
        {
          "output_type": "execute_result",
          "data": {
            "text/plain": [
              "LinearRegression()"
            ]
          },
          "metadata": {},
          "execution_count": 8
        }
      ]
    },
    {
      "cell_type": "markdown",
      "source": [
        "# Creamos un conjunto solo con los datos ventas reales y ventas de predicción."
      ],
      "metadata": {
        "id": "PIoB8wXr2HRP"
      }
    },
    {
      "cell_type": "code",
      "source": [
        "2\n",
        "ventas[\"ventas_prediccion\"] = modelo.predict(ventas[independientes])\n",
        "preds = ventas[[\"monto\", \"ventas_prediccion\"]].head(50)"
      ],
      "metadata": {
        "id": "vDtD3EiF2LeJ"
      },
      "execution_count": 9,
      "outputs": []
    },
    {
      "cell_type": "markdown",
      "source": [
        "# Realizamos una predicción\n",
        "Imagine que viene una persona de 41 años, solo, en su propio vehículo y pagando en\n",
        "efectivo. Entonces la lista sería: [41,1,1,1]. Vamos a pasarle ese datos al modelo y que nos\n",
        "prediga cuánto comprará esa persona.\n"
      ],
      "metadata": {
        "id": "HFHByuv12g1w"
      }
    },
    {
      "cell_type": "code",
      "source": [
        "talvez = modelo.predict([[41,1,1,1]])\n",
        "print (\"Tal vez compre: \")\n",
        "print (talvez)"
      ],
      "metadata": {
        "colab": {
          "base_uri": "https://localhost:8080/"
        },
        "id": "oUkAzKre2of3",
        "outputId": "6439db7d-00b6-45f4-8f18-20a4e0b0945f"
      },
      "execution_count": 11,
      "outputs": [
        {
          "output_type": "stream",
          "name": "stdout",
          "text": [
            "Tal vez compre: \n",
            "[1139.31401689]\n"
          ]
        },
        {
          "output_type": "stream",
          "name": "stderr",
          "text": [
            "/usr/local/lib/python3.8/dist-packages/sklearn/base.py:450: UserWarning: X does not have valid feature names, but LinearRegression was fitted with feature names\n",
            "  warnings.warn(\n"
          ]
        }
      ]
    },
    {
      "cell_type": "markdown",
      "source": [
        "Observamos que una persona con esas características compraría: $1,139.31\n",
        "Cabe aclarar que son datos ficticios y que no necesariamente los valores de la variable\n",
        "independiente están correlacionados con la variable objetivo. Solo usamos éstos datos para\n",
        "ejemplificar el proceso."
      ],
      "metadata": {
        "id": "jt-FYUDB23ow"
      }
    },
    {
      "cell_type": "markdown",
      "source": [
        "# Graficación\n",
        "Podemos ver los valores de ventas reales vs los de ventas_predicción, usando un gráfico,\n",
        "mostrando solo las primeras 50.\n"
      ],
      "metadata": {
        "id": "UM9g1JHr3BCw"
      }
    },
    {
      "cell_type": "code",
      "source": [
        "import matplotlib.pyplot as plt\n",
        "preds.plot(kind='bar',figsize=(18,8))\n",
        "plt.grid(linewidth=\"2\")\n",
        "plt.grid(linewidth=\"2\")\n",
        "plt.grid(None)\n",
        "plt.show()"
      ],
      "metadata": {
        "colab": {
          "base_uri": "https://localhost:8080/",
          "height": 486
        },
        "id": "G3SxfmY_3FUA",
        "outputId": "53ad0aee-6fa2-4111-e376-a303600715b9"
      },
      "execution_count": 20,
      "outputs": [
        {
          "output_type": "display_data",
          "data": {
            "text/plain": [
              "<Figure size 1296x576 with 1 Axes>"
            ],
            "image/png": "[encoded data removed]"
          },
          "metadata": {
            "needs_background": "light"
          }
        }
      ]
    }
  ]
}