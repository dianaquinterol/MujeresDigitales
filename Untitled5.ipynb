{
  "nbformat": 4,
  "nbformat_minor": 0,
  "metadata": {
    "colab": {
      "name": "Untitled5.ipynb",
      "provenance": [],
      "include_colab_link": true
    },
    "kernelspec": {
      "name": "python3",
      "display_name": "Python 3"
    },
    "language_info": {
      "name": "python"
    }
  },
  "cells": [
    {
      "cell_type": "markdown",
      "metadata": {
        "id": "view-in-github",
        "colab_type": "text"
      },
      "source": [
        "<a href=\"https://colab.research.google.com/github/dianaquinterol/MujeresDigitales/blob/main/Untitled5.ipynb\" target=\"_parent\"><img src=\"https://colab.research.google.com/assets/colab-badge.svg\" alt=\"Open In Colab\"/></a>"
      ]
    },
    {
      "cell_type": "code",
      "metadata": {
        "colab": {
          "base_uri": "https://localhost:8080/"
        },
        "id": "Etee8kD3EMga",
        "outputId": "eb3c3104-b911-48ae-e321-e198e3599cb2"
      },
      "source": [
        "a= ['a','b','c','d']\n",
        "\n",
        "for i in range(len(a)-1,-1,-1):\n",
        "  print(a[i],end=\",\")"
      ],
      "execution_count": null,
      "outputs": [
        {
          "output_type": "stream",
          "name": "stdout",
          "text": [
            "d,c,b,a,"
          ]
        }
      ]
    },
    {
      "cell_type": "code",
      "metadata": {
        "colab": {
          "base_uri": "https://localhost:8080/"
        },
        "id": "thg1aNjzFGur",
        "outputId": "a7f7de54-061a-4e49-f2a6-594db6d47e5f"
      },
      "source": [
        "b='Hola soy sebastian'\n",
        "for i in range(len(b)-1,-1,-1):\n",
        "  print(b[i],end=\"\")"
      ],
      "execution_count": null,
      "outputs": [
        {
          "output_type": "stream",
          "name": "stdout",
          "text": [
            "naitsabes yos aloH"
          ]
        }
      ]
    },
    {
      "cell_type": "code",
      "metadata": {
        "id": "tfmRh8GuMjJf"
      },
      "source": [
        "def cuadrado(x):\n",
        "  resultado = x **2\n",
        "  return resultado"
      ],
      "execution_count": null,
      "outputs": []
    },
    {
      "cell_type": "code",
      "metadata": {
        "id": "AOaWTiB4O2Ih"
      },
      "source": [
        "def AreaCirculo(r):\n",
        "  pi=3.14\n",
        "  area = pi*r**2\n",
        "  return area\n"
      ],
      "execution_count": null,
      "outputs": []
    },
    {
      "cell_type": "code",
      "metadata": {
        "id": "4BhsHePhTN3G"
      },
      "source": [
        "def raiz(num):\n",
        "  r=num**0.5\n",
        "  return r\n",
        "  print(r)"
      ],
      "execution_count": null,
      "outputs": []
    },
    {
      "cell_type": "code",
      "metadata": {
        "colab": {
          "base_uri": "https://localhost:8080/"
        },
        "id": "Dw2ke8uTUkxz",
        "outputId": "edf4df06-e5ef-4c7a-a271-c0d41e81af88"
      },
      "source": [
        "def hipotenusa(c1,c2):\n",
        "  c1_cuadrado = cuadrado(c1)\n",
        "  c2_cuadrado = cuadrado(c2)\n",
        "  suma=c1_cuadrado+ c2_cuadrado\n",
        "  h=raiz(suma)\n",
        "  return h\n",
        "print(hipotenusa(3,4))\n"
      ],
      "execution_count": null,
      "outputs": [
        {
          "output_type": "stream",
          "name": "stdout",
          "text": [
            "5.0\n"
          ]
        }
      ]
    },
    {
      "cell_type": "code",
      "metadata": {
        "colab": {
          "base_uri": "https://localhost:8080/"
        },
        "id": "4FyjtUGjVF5x",
        "outputId": "529996c3-49ee-4042-ac9d-02d048fe4922"
      },
      "source": [
        "n = int(input(\"digite el un numero para calcular el factorial: \"))\n",
        "def factorial(n):\n",
        "  fact = 1\n",
        "  for i in range(1, num +1):\n",
        "    fact= fact *1\n",
        "    return factorial\n",
        "\n",
        "  "
      ],
      "execution_count": null,
      "outputs": [
        {
          "name": "stdout",
          "output_type": "stream",
          "text": [
            "digite el un numero para calcular el factorial: 7\n"
          ]
        }
      ]
    },
    {
      "cell_type": "code",
      "metadata": {
        "colab": {
          "base_uri": "https://localhost:8080/"
        },
        "id": "VnDIy_c7ZqVo",
        "outputId": "56c5cc82-1dff-4d6b-b138-a60b21937e46"
      },
      "source": [
        "micadena = \"Hola Mundo\"\n",
        "print(micadena[5:10])\n",
        "print(\"esta {4}\".format('es ','una ','cadena ','de ','texto '))"
      ],
      "execution_count": null,
      "outputs": [
        {
          "output_type": "stream",
          "name": "stdout",
          "text": [
            "Mundo\n",
            "esta texto \n"
          ]
        }
      ]
    },
    {
      "cell_type": "code",
      "metadata": {
        "colab": {
          "base_uri": "https://localhost:8080/"
        },
        "id": "aFM8kiz4kb9G",
        "outputId": "b17ffd14-f4e6-4ad4-eb03-28402d44cdb6"
      },
      "source": [
        "resultados = 188/888\n",
        "print(\"Los resultados son {r:1.2f}\".format(r=resultados))"
      ],
      "execution_count": null,
      "outputs": [
        {
          "output_type": "stream",
          "name": "stdout",
          "text": [
            "Los resultados son 0.21\n"
          ]
        }
      ]
    },
    {
      "cell_type": "code",
      "metadata": {
        "colab": {
          "base_uri": "https://localhost:8080/"
        },
        "id": "9O_RN8cRq5rE",
        "outputId": "cf5f11a0-3bcb-4bcd-b09d-5a4c6c5e1827"
      },
      "source": [
        "nombre = \"Diana\"\n",
        "edad = \"42\"\n",
        "print(f\"mi nombre es {nombre} y mi edad es {edad} años\")"
      ],
      "execution_count": null,
      "outputs": [
        {
          "output_type": "stream",
          "name": "stdout",
          "text": [
            "mi nombre es Diana y mi edad es 42 años\n"
          ]
        }
      ]
    },
    {
      "cell_type": "code",
      "metadata": {
        "colab": {
          "base_uri": "https://localhost:8080/"
        },
        "id": "GNWYQ0n4v8fV",
        "outputId": "6c6c547e-4aab-4f7d-fda9-dd7a2e172937"
      },
      "source": [
        "mi_lista = ['uno','dos','tres']\n",
        "otra_lista = ['cuatro','cinco']\n",
        "nueva_lista = mi_lista + otra_lista\n",
        "nueva_lista[1]= 'ocho'\n",
        "nueva_lista.append('nueve')\n",
        "nueva_lista.pop()\n",
        "item_pope = nueva_lista.pop(-1)\n",
        "print(item_pope)"
      ],
      "execution_count": null,
      "outputs": [
        {
          "output_type": "stream",
          "name": "stdout",
          "text": [
            "cinco\n"
          ]
        }
      ]
    },
    {
      "cell_type": "code",
      "metadata": {
        "colab": {
          "base_uri": "https://localhost:8080/"
        },
        "id": "Colvni05CmYx",
        "outputId": "55b3f250-5d14-4591-d71c-aa6607e6a78d"
      },
      "source": [
        "mi_lista = ['a','b','c','d']\n",
        "mi_lista = ['z','j','d','g']\n",
        "mi_lista[0] = 's'\n",
        "mi_lista.reverse()\n",
        "mi_lista.sort()\n",
        "\n",
        "print(mi_lista)"
      ],
      "execution_count": null,
      "outputs": [
        {
          "output_type": "stream",
          "name": "stdout",
          "text": [
            "['d', 'g', 'j', 's']\n"
          ]
        }
      ]
    },
    {
      "cell_type": "code",
      "metadata": {
        "colab": {
          "base_uri": "https://localhost:8080/"
        },
        "id": "x7lUVDIaEAKk",
        "outputId": "ec899868-844c-4d09-a1e2-65eb9b9278e8"
      },
      "source": [
        "mi_diccionario = {'llave1':['valor1','valor10'], 'llave2':'valor2', 'llave3':'valor3'}\n",
        "print(mi_diccionario)\n",
        "mi_diccionario['llave4']='clave4'\n",
        "print(mi_diccionario['llave1'][1])\n",
        "print(mi_diccionario.keys())\n",
        "print(mi_diccionario.values())\n"
      ],
      "execution_count": null,
      "outputs": [
        {
          "output_type": "stream",
          "name": "stdout",
          "text": [
            "{'llave1': ['valor1', 'valor10'], 'llave2': 'valor2', 'llave3': 'valor3'}\n",
            "valor10\n",
            "dict_keys(['llave1', 'llave2', 'llave3', 'llave4'])\n",
            "dict_values([['valor1', 'valor10'], 'valor2', 'valor3', 'clave4'])\n"
          ]
        }
      ]
    },
    {
      "cell_type": "code",
      "metadata": {
        "colab": {
          "base_uri": "https://localhost:8080/"
        },
        "id": "V3x13uJYLdl4",
        "outputId": "531b3b10-7b1a-4eeb-9d41-377ed433cdcd"
      },
      "source": [
        "miset = set()\n",
        "miset.add(1)\n",
        "mi_lista = [1,2,3,1,3,3,3,4]\n",
        "print(set(mi_lista))"
      ],
      "execution_count": null,
      "outputs": [
        {
          "output_type": "stream",
          "name": "stdout",
          "text": [
            "{1, 2, 3, 4}\n"
          ]
        }
      ]
    },
    {
      "cell_type": "code",
      "metadata": {
        "id": "X9F0rwWYNYev"
      },
      "source": [
        "def buscar_en_lista(lista,valor=1):\n",
        "  encontrado = False\n",
        "  for i in lista:\n",
        "    if i == valor:\n",
        "      encontrado = True\n",
        "    else:\n",
        "      return encontrado\n",
        "\n"
      ],
      "execution_count": null,
      "outputs": []
    },
    {
      "cell_type": "code",
      "metadata": {
        "id": "AnxCUuqZttGF"
      },
      "source": [
        "def buscar_posicion(lista,valor=1):\n",
        "  encontrado = False\n",
        "  for ind, i in enumerate(lista):\n",
        "    if i == valor:\n",
        "      encontrado = ind\n",
        "      break\n",
        "  return encontrado"
      ],
      "execution_count": null,
      "outputs": []
    },
    {
      "cell_type": "code",
      "metadata": {
        "id": "o_X2jjmfxHda"
      },
      "source": [
        "def buscar_posicion(lista, valor=2):\n",
        "  encontrado = False\n",
        "  for i in range(len(lista)):\n",
        "    if lista[i] == valor:\n",
        "      encotrado = i\n",
        "      break\n",
        "  return encontradoF"
      ],
      "execution_count": null,
      "outputs": []
    },
    {
      "cell_type": "code",
      "metadata": {
        "colab": {
          "base_uri": "https://localhost:8080/"
        },
        "id": "0jKt8GeJObY1",
        "outputId": "0afd3b7e-fbeb-4f40-a860-21659846c57e"
      },
      "source": [
        "lista_original = ['producto','Descripcion','Cantidad','Precio']\n",
        "#lista_original = \" \".join(lista_original)\n",
        "lista_original = '|'.join(lista_original)\n",
        "print(lista_original)"
      ],
      "execution_count": null,
      "outputs": [
        {
          "output_type": "stream",
          "name": "stdout",
          "text": [
            "producto|Descripcion|Cantidad|Precio\n"
          ]
        }
      ]
    },
    {
      "cell_type": "code",
      "metadata": {
        "colab": {
          "base_uri": "https://localhost:8080/"
        },
        "id": "HAIIduPiQHaL",
        "outputId": "4078e5da-9d0c-445d-b856-e137e27f6a44"
      },
      "source": [
        "lista_original = ['producto','Descripcion','Cantidad','Precio']\n",
        "#lista_original = ' '.join(lista_original)\n",
        "lista_original = '|'.join(lista_original)\n",
        "print('cadena original: '+ lista_original)\n",
        "#lista_final = lista_original.split()\n",
        "lista_final = lista_original.split('|')\n",
        "print('lista final: '+ str(lista_final))"
      ],
      "execution_count": null,
      "outputs": [
        {
          "output_type": "stream",
          "name": "stdout",
          "text": [
            "cadena original: producto|Descripcion|Cantidad|Precio\n",
            "lista final: ['producto', 'Descripcion', 'Cantidad', 'Precio']\n"
          ]
        }
      ]
    },
    {
      "cell_type": "code",
      "metadata": {
        "colab": {
          "base_uri": "https://localhost:8080/"
        },
        "id": "ZSWCrH82WIXn",
        "outputId": "28a35412-6574-42ae-d754-78da5d75b60d"
      },
      "source": [
        "#declaracion de constantes\n",
        "PORT_DB_SERVER = 3307\n",
        "USER_DB_SERVER = 'root'\n",
        "PASS_DB_SERVER = '123456'\n",
        "DB_NAME        = 'nomina'\n",
        "#declaracion de variables\n",
        "list_trama = ['producto','Descripcion','Cantidad','Precio']\n",
        "str_trama = ' '\n",
        "str_trama = str(PORT_DB_SERVER)+USER_DB_SERVER+PASS_DB_SERVER+DB_NAME\n",
        "print('TRAMA : '+ str_trama)\n",
        "print('\\nPuerto : '+ str_trama[:4])\n",
        "print('Usuario: ' + str_trama[4:8])\n",
        "print('Clave  : ' + str_trama[8:14])\n",
        "print('Tabla: ' + str_trama[14:])"
      ],
      "execution_count": null,
      "outputs": [
        {
          "output_type": "stream",
          "name": "stdout",
          "text": [
            "TRAMA : 3307root123456nomina\n",
            "\n",
            "Puerto : 3307\n",
            "Usuario: root\n",
            "Clave  : 123456\n",
            "Tabla: nomina\n"
          ]
        }
      ]
    },
    {
      "cell_type": "code",
      "metadata": {
        "id": "njzOyIdGYyPo",
        "colab": {
          "base_uri": "https://localhost:8080/"
        },
        "outputId": "d930dc7d-5689-44bb-fd3d-6e01aa8b1fc2"
      },
      "source": [
        "print('\\n1 Metodo count ():\\n')\n",
        "cadena=(' hola...hola WCODE')\n",
        "cadena.count('hola') #metodo count\n",
        "print('la palabra ''hola'' aparece %d veces'%(cadena.count('hola')))\n",
        "print('\\n2 Metodo find():\\n')\n",
        "print('indice encontrado: %d' %(cadena.find('WCODE')))\n",
        "print('Indice fallido : %d' %(cadena.find('Mundo')))\n",
        "print('indice encontrado : %d'%(cadena.index('WCODE')))\n",
        "#print('Indice fallido %d' %(cadena.index('HOLA')))\n"
      ],
      "execution_count": null,
      "outputs": [
        {
          "output_type": "stream",
          "name": "stdout",
          "text": [
            "\n",
            "1 Metodo count ():\n",
            "\n",
            "la palabra hola aparece 2 veces\n",
            "\n",
            "2 Metodo find():\n",
            "\n",
            "indice encontrado: 13\n",
            "Indice fallido : -1\n",
            "indice encontrado : 13\n"
          ]
        }
      ]
    },
    {
      "cell_type": "code",
      "metadata": {
        "colab": {
          "base_uri": "https://localhost:8080/"
        },
        "id": "nvFv02Gi08aP",
        "outputId": "38657faa-4c50-45b0-f1ae-9c7f69da7bac"
      },
      "source": [
        "cadena=(' hola...hola WCODE')\n",
        "#cadena.startswith('subcadena') : permite saber si una cadena comienza con una subcadena determinada.\n",
        "#dcadena.endswith('subcadena'): permite saber si una cadena finaliza con una subcadena determinada.\n",
        "cadena.startswith(' h')\n",
        "cadena.endswith('DE')"
      ],
      "execution_count": null,
      "outputs": [
        {
          "output_type": "execute_result",
          "data": {
            "text/plain": [
              "True"
            ]
          },
          "metadata": {},
          "execution_count": 13
        }
      ]
    },
    {
      "cell_type": "code",
      "metadata": {
        "colab": {
          "base_uri": "https://localhost:8080/"
        },
        "id": "cVy8Oz4u9wSn",
        "outputId": "03d025aa-5e6f-496d-a56d-2425567cb47a"
      },
      "source": [
        "cadena = '123456'\n",
        "print('6) Metodo isdigit():\\n')\n",
        "print(\"-La cadena '%9s' es numerica?  | %s\\n\" % (cadena,cadena.isdigit()))\n",
        "print('7) Metodo isalnum():\\n')\n",
        "print(\"-La cadena '%9s' es alfanumerica? | %s\\n\" % (cadena,cadena.isalnum()))\n",
        "print(\"8) Metodo isalpha ():\\n\")\n",
        "print(\"-la cadena '%9s' es alfabetica? | %s\\n\" %(cadena,cadena.isalpha()))\n",
        "print(\"9) Metodo isspace ():\\n\")\n",
        "print(\"-La cadena '%9s' contine espacios? | %s\\n\" %(cadena,cadena.isspace()))"
      ],
      "execution_count": null,
      "outputs": [
        {
          "output_type": "stream",
          "name": "stdout",
          "text": [
            "6) Metodo isdigit():\n",
            "\n",
            "-La cadena '   123456' es numerica?  | True\n",
            "\n",
            "7) Metodo isalnum():\n",
            "\n",
            "-La cadena '   123456' es alfanumerica? | True\n",
            "\n",
            "8) Metodo isalpha ():\n",
            "\n",
            "-la cadena '   123456' es alfabetica? | False\n",
            "\n",
            "9) Metodo isspace ():\n",
            "\n",
            "-La cadena '   123456' contine espacios? | False\n",
            "\n"
          ]
        }
      ]
    },
    {
      "cell_type": "code",
      "metadata": {
        "colab": {
          "base_uri": "https://localhost:8080/"
        },
        "id": "Cv2QMWVuQLhP",
        "outputId": "12b02e75-f82d-487b-e067-fc27f3e2ccff"
      },
      "source": [
        "cadena = \"De 0 a Programador\"\n",
        "print(\"10) Metodo upper():\\n\")\n",
        "print(\"-Cadena Original : %s\" %(cadena))\n",
        "print(\"-Cadena en mayusculas : %s\" %(cadena.upper()))\n",
        "print(\"11) Metodo Lower() : \\n\")\n",
        "print(\"-Cadena Original : %s\" %(cadena))\n",
        "print(\"-Cadena en Minusculas : %s\" %(cadena.lower()))\n",
        "print(\"12) Metodo replace(Cadena, Nuevacadena): \\n\")\n",
        "print(\"-Cadena Original : %s\" %(cadena))\n",
        "print(\"-Cadena reemplazada : %s\\n\" %(cadena.replace(\"Programador\",\"profesional\")))"
      ],
      "execution_count": null,
      "outputs": [
        {
          "output_type": "stream",
          "name": "stdout",
          "text": [
            "10) Metodo upper():\n",
            "\n",
            "-Cadena Original : De 0 a Programador\n",
            "-Cadena en mayusculas : DE 0 A PROGRAMADOR\n",
            "11) Metodo Lower() : \n",
            "\n",
            "-Cadena Original : De 0 a Programador\n",
            "-Cadena en Minusculas : de 0 a programador\n",
            "12) Metodo replace(Cadena, Nuevacadena): \n",
            "\n",
            "-Cadena Original : De 0 a Programador\n",
            "-Cadena reemplazada : De 0 a profesional\n",
            "\n"
          ]
        }
      ]
    },
    {
      "cell_type": "code",
      "metadata": {
        "colab": {
          "base_uri": "https://localhost:8080/"
        },
        "id": "QDyQH3mGXkRN",
        "outputId": "9fb85d86-9d2e-496f-a6ef-08c3bebe0f94"
      },
      "source": [
        "#while\n",
        "tabla = 2\n",
        "numero = 1\n",
        "resultado = 0\n",
        "cadena = \"TABLA DE MULTIPLICAR\"\n",
        "print(\"\\n\" + cadena.center(35, \"*\") + \"\\n\")\n",
        "while numero < 11:\n",
        "  resultado = tabla * numero \n",
        "  print(tabla ,\"x\", numero, \"=\", resultado)\n",
        "  numero += 1"
      ],
      "execution_count": null,
      "outputs": [
        {
          "output_type": "stream",
          "name": "stdout",
          "text": [
            "\n",
            "********TABLA DE MULTIPLICAR*******\n",
            "\n",
            "2 x 1 = 2\n",
            "2 x 2 = 4\n",
            "2 x 3 = 6\n",
            "2 x 4 = 8\n",
            "2 x 5 = 10\n",
            "2 x 6 = 12\n",
            "2 x 7 = 14\n",
            "2 x 8 = 16\n",
            "2 x 9 = 18\n",
            "2 x 10 = 20\n"
          ]
        }
      ]
    },
    {
      "cell_type": "code",
      "metadata": {
        "colab": {
          "base_uri": "https://localhost:8080/"
        },
        "id": "cSLaK_fFlz4D",
        "outputId": "c13d0fd8-ab77-4d8a-d4f0-c7082e357844"
      },
      "source": [
        "#BUCLE INFINITO, while infinito\n",
        "intento = 0\n",
        "clave = \"ABC123\"\n",
        "cadena = \"BUCLE INFINITO\"\n",
        "\n",
        "print(\"\\n\" + cadena.center(35,\"*\") + \"\\n\")\n",
        "while True:\n",
        "  password = input(\"INDIQUE LA CLAVE: \")\n",
        "  intento = intento + 1\n",
        "  if password == clave:\n",
        "    print(\"Clave correcta!\\n\")\n",
        "    intento = 0\n",
        "    break\n",
        "\n",
        "  elif intento == 3:\n",
        "    print(\"USUARIO BLOQUEADO\\n\")\n",
        "    break\n",
        "  else:\n",
        "    print(\"Clave incorrecta intento: \", intento) \n",
        "\n",
        "#while indice < len(mi_lista): for in con while\n",
        "  print(mi_lista[indice])    \n",
        "  indice = indice + 1\n",
        "    "
      ],
      "execution_count": null,
      "outputs": [
        {
          "output_type": "stream",
          "name": "stdout",
          "text": [
            "\n",
            "***********BUCLE INFINITO**********\n",
            "\n",
            "INDIQUE LA CLAVE: abc\n",
            "Clave incorrecta intento:  1\n",
            "INDIQUE LA CLAVE: ABC123\n",
            "Clave correcta!\n",
            "\n"
          ]
        }
      ]
    },
    {
      "cell_type": "code",
      "metadata": {
        "colab": {
          "base_uri": "https://localhost:8080/"
        },
        "id": "ru3XC8xAtliz",
        "outputId": "2a4f4558-77fb-45ed-f5c9-f2026cd9de41"
      },
      "source": [
        "#BUCLE FOR IN\n",
        "mi_lista = [\"Gaby\", \"Antonio\", \"Pedro\", \"Herminio\"]\n",
        "cadena = \"BUCLE FOR IN\"\n",
        "print(\"\\n\" + cadena.center(35, \"*\") + \"\\n\")\n",
        "for nombre in mi_lista:\n",
        "  print(nombre)\n",
        "\n"
      ],
      "execution_count": null,
      "outputs": [
        {
          "output_type": "stream",
          "name": "stdout",
          "text": [
            "\n",
            "************BUCLE FOR IN***********\n",
            "\n",
            "Gaby\n",
            "Antonio\n",
            "Pedro\n",
            "Herminio\n"
          ]
        }
      ]
    },
    {
      "cell_type": "code",
      "metadata": {
        "colab": {
          "base_uri": "https://localhost:8080/"
        },
        "id": "lCJ_iV8Yw9iM",
        "outputId": "86d1a7e0-a669-41b5-a326-896614f33e92"
      },
      "source": [
        "#FOR IN RANGE\n",
        "numero = (int(input(\"introduce el numero a elevar: \")))\n",
        "for potencia in range(0,11):\n",
        "  resultado= numero**potencia\n",
        "  print(numero ,\"elevado a \", potencia, \"es\" ,resultado)"
      ],
      "execution_count": null,
      "outputs": [
        {
          "output_type": "stream",
          "name": "stdout",
          "text": [
            "introduce el numero a elevar: 5\n",
            "5 elevado a  0 es 1\n",
            "5 elevado a  1 es 5\n",
            "5 elevado a  2 es 25\n",
            "5 elevado a  3 es 125\n",
            "5 elevado a  4 es 625\n",
            "5 elevado a  5 es 3125\n",
            "5 elevado a  6 es 15625\n",
            "5 elevado a  7 es 78125\n",
            "5 elevado a  8 es 390625\n",
            "5 elevado a  9 es 1953125\n",
            "5 elevado a  10 es 9765625\n"
          ]
        }
      ]
    },
    {
      "cell_type": "code",
      "metadata": {
        "id": "4bQ3j3Q0yzRF",
        "outputId": "65efc785-4b17-4886-b880-a9f156b400e8",
        "colab": {
          "base_uri": "https://localhost:8080/"
        }
      },
      "source": [
        "for i in range(1,11):\n",
        "  for j in range(1,11):\n",
        "    print(f'{i} x {j} = {i*j}')"
      ],
      "execution_count": 1,
      "outputs": [
        {
          "output_type": "stream",
          "name": "stdout",
          "text": [
            "1 x 1 = 1\n",
            "1 x 2 = 2\n",
            "1 x 3 = 3\n",
            "1 x 4 = 4\n",
            "1 x 5 = 5\n",
            "1 x 6 = 6\n",
            "1 x 7 = 7\n",
            "1 x 8 = 8\n",
            "1 x 9 = 9\n",
            "1 x 10 = 10\n",
            "2 x 1 = 2\n",
            "2 x 2 = 4\n",
            "2 x 3 = 6\n",
            "2 x 4 = 8\n",
            "2 x 5 = 10\n",
            "2 x 6 = 12\n",
            "2 x 7 = 14\n",
            "2 x 8 = 16\n",
            "2 x 9 = 18\n",
            "2 x 10 = 20\n",
            "3 x 1 = 3\n",
            "3 x 2 = 6\n",
            "3 x 3 = 9\n",
            "3 x 4 = 12\n",
            "3 x 5 = 15\n",
            "3 x 6 = 18\n",
            "3 x 7 = 21\n",
            "3 x 8 = 24\n",
            "3 x 9 = 27\n",
            "3 x 10 = 30\n",
            "4 x 1 = 4\n",
            "4 x 2 = 8\n",
            "4 x 3 = 12\n",
            "4 x 4 = 16\n",
            "4 x 5 = 20\n",
            "4 x 6 = 24\n",
            "4 x 7 = 28\n",
            "4 x 8 = 32\n",
            "4 x 9 = 36\n",
            "4 x 10 = 40\n",
            "5 x 1 = 5\n",
            "5 x 2 = 10\n",
            "5 x 3 = 15\n",
            "5 x 4 = 20\n",
            "5 x 5 = 25\n",
            "5 x 6 = 30\n",
            "5 x 7 = 35\n",
            "5 x 8 = 40\n",
            "5 x 9 = 45\n",
            "5 x 10 = 50\n",
            "6 x 1 = 6\n",
            "6 x 2 = 12\n",
            "6 x 3 = 18\n",
            "6 x 4 = 24\n",
            "6 x 5 = 30\n",
            "6 x 6 = 36\n",
            "6 x 7 = 42\n",
            "6 x 8 = 48\n",
            "6 x 9 = 54\n",
            "6 x 10 = 60\n",
            "7 x 1 = 7\n",
            "7 x 2 = 14\n",
            "7 x 3 = 21\n",
            "7 x 4 = 28\n",
            "7 x 5 = 35\n",
            "7 x 6 = 42\n",
            "7 x 7 = 49\n",
            "7 x 8 = 56\n",
            "7 x 9 = 63\n",
            "7 x 10 = 70\n",
            "8 x 1 = 8\n",
            "8 x 2 = 16\n",
            "8 x 3 = 24\n",
            "8 x 4 = 32\n",
            "8 x 5 = 40\n",
            "8 x 6 = 48\n",
            "8 x 7 = 56\n",
            "8 x 8 = 64\n",
            "8 x 9 = 72\n",
            "8 x 10 = 80\n",
            "9 x 1 = 9\n",
            "9 x 2 = 18\n",
            "9 x 3 = 27\n",
            "9 x 4 = 36\n",
            "9 x 5 = 45\n",
            "9 x 6 = 54\n",
            "9 x 7 = 63\n",
            "9 x 8 = 72\n",
            "9 x 9 = 81\n",
            "9 x 10 = 90\n",
            "10 x 1 = 10\n",
            "10 x 2 = 20\n",
            "10 x 3 = 30\n",
            "10 x 4 = 40\n",
            "10 x 5 = 50\n",
            "10 x 6 = 60\n",
            "10 x 7 = 70\n",
            "10 x 8 = 80\n",
            "10 x 9 = 90\n",
            "10 x 10 = 100\n"
          ]
        }
      ]
    },
    {
      "cell_type": "code",
      "metadata": {
        "id": "RJMe1TqUiuSM",
        "outputId": "1e0b56f4-7413-443f-be0e-8194eab6bd31",
        "colab": {
          "base_uri": "https://localhost:8080/"
        }
      },
      "source": [
        "numero = int(input(\"ingrese un numero: \"))\n",
        "if numero < 2 and numero %2== 0:\n",
        "  print(\"el numero no es primo\")\n",
        "else:\n",
        "  print(\"el numero es primo \")"
      ],
      "execution_count": 2,
      "outputs": [
        {
          "output_type": "stream",
          "name": "stdout",
          "text": [
            "ingrese un numero: 4\n",
            "el numero es primo \n"
          ]
        }
      ]
    },
    {
      "cell_type": "code",
      "metadata": {
        "id": "rYQNMAB0i0E1",
        "outputId": "ee799486-b9ad-40c0-85dc-ec67efa6ef3f",
        "colab": {
          "base_uri": "https://localhost:8080/"
        }
      },
      "source": [
        "n = int(input(\"ingrese el numero\"))\n",
        "for i in range(1,n+1):\n",
        "  print(\"*\" * i)"
      ],
      "execution_count": 3,
      "outputs": [
        {
          "output_type": "stream",
          "name": "stdout",
          "text": [
            "ingrese el numero6\n",
            "*\n",
            "**\n",
            "***\n",
            "****\n",
            "*****\n",
            "******\n"
          ]
        }
      ]
    }
  ]
}