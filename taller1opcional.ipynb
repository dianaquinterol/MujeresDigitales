{
  "nbformat": 4,
  "nbformat_minor": 0,
  "metadata": {
    "colab": {
      "name": "taller1opcional.ipynb",
      "provenance": [],
      "authorship_tag": "ABX9TyNk0hZOQV7LptwqMaHYenVN",
      "include_colab_link": true
    },
    "kernelspec": {
      "name": "python3",
      "display_name": "Python 3"
    },
    "language_info": {
      "name": "python"
    }
  },
  "cells": [
    {
      "cell_type": "markdown",
      "metadata": {
        "id": "view-in-github",
        "colab_type": "text"
      },
      "source": [
        "<a href=\"https://colab.research.google.com/github/dianaquinterol/MujeresDigitales/blob/main/taller1opcional.ipynb\" target=\"_parent\"><img src=\"https://colab.research.google.com/assets/colab-badge.svg\" alt=\"Open In Colab\"/></a>"
      ]
    },
    {
      "cell_type": "code",
      "metadata": {
        "colab": {
          "base_uri": "https://localhost:8080/"
        },
        "id": "jDGMxuKjbgd6",
        "outputId": "b99a3f91-a282-4f98-a58d-3eddf850294f"
      },
      "source": [
        "nombre = input(\"ingrese nombre del concursante: \")\n",
        "balota = input(\"ingrese color de balota :\")\n",
        "valorv = int(input(\"ingrese un valor :\"))\n",
        "antiguedad = int(input(\"ingrese la antiguedad: \")) #>10 años = 50% sino 40%\n",
        "referidos = int(input(\"ingrese cuantos usuarios a referido: \")) #>10 usuarios = 30% sino 20%\n",
        "liderazgo = int(input(\"hace parte del programa de liderazgo: 1 para SI o 2 para NO\")) #20% sino 10%\n",
        "puntos = int()\n",
        "\n",
        "premio1 =(\"Viaje todo incluído para dos personas a San Andrés\")\n",
        "premio2 =(\"un pasadía a los termales de San Vicente incluyendo almuerzo\")\n",
        "premio3 =(\"Viaje todo incluido para dos personas a Santa Marta\")\n",
        "premio4 =(\"Pasadía al desierto de Tatacoa (Sin incluír alimentación)\")\n",
        "premio5 =(\"no hay premio\")\n",
        "\n",
        "\n",
        "##punto adicional\n",
        "\n",
        "if (antiguedad>10 and referidos >10 and liderazgo ==1):\n",
        "  valorv *0.5\n",
        "  if (valorv > 600.000):\n",
        "    puntos = 500\n",
        "  else:\n",
        "    puntos = 250\n",
        "\n",
        "if (antiguedad>10 and referidos >10 and liderazgo ==2):\n",
        "  valorv * 0.5\n",
        "  if (puntos > 250):\n",
        "    puntos = 200 * 0.2\n",
        "  else:\n",
        "    pungos = 50 * 0.2\n",
        "\n",
        "if (antiguedad>10 and referidos<10 and liderazgo ==1):\n",
        "  valorv * 0.5\n",
        "  if (puntos > 250):\n",
        "    puntos = 200 * 0.2\n",
        "  else:\n",
        "    pungos = 50 * 0.2\n",
        "\n",
        "if (antiguedad<10 and referidos>10 and liderazgo ==1):\n",
        "  valorv * 0.4\n",
        "  if (puntos > 250):\n",
        "    puntos = 200 * 0.2\n",
        "  else:\n",
        "    pungos = 50 * 0.2\n",
        "\n",
        "if (antiguedad<10 and referidos<10 and liderazgo ==1):\n",
        "  valorv * 0.2\n",
        "  if (puntos > 250):\n",
        "    puntos = 200 * 0.1\n",
        "  else:\n",
        "    pungos = 50 * 0.1\n",
        "\n",
        "if (antiguedad<10 or referidos>10 or liderazgo ==2):\n",
        "  valorv * 0.3\n",
        "  if (puntos > 250):\n",
        "    puntos = 200 * 0.1\n",
        "  else:\n",
        "    pungos = 50 * 0.1\n",
        "\n",
        "if (antiguedad>10 or referidos<10 or liderazgo ==2):\n",
        "  valorv * 0.5\n",
        "  if (puntos > 250):\n",
        "    puntos = 200 * 0.1\n",
        "  else:\n",
        "    pungos = 50 * 0.1\n",
        "\n",
        "if (balota == \"rosada\"):\n",
        "  print(\"La empresa VIVAFLY se complace en anunciar que La participante\", nombre, \"ganó\" , premio1, \" , bono de 150.000 y \", puntos, \"puntos\" )\n",
        "elif (balota == \"verde\"):\n",
        "  print(\"La empresa VIVAFLY se complace en anunciar que La participante\", nombre, \"ganó\" , premio2, \" , un bono de 200.000 y \", puntos, \"puntos\" )\n",
        "elif (balota == \"azul\"):\n",
        "  print(\"La empresa VIVAFLY se complace en anunciar que La participante\", nombre, \"ganó\" , premio3, \", dos boletas de cine 4D para la película en estreno del mes incluyendo un solo combo de palomitas y \",  puntos, \"puntos\" )\n",
        "elif (balota ==\"gris\"):\n",
        "  print(\"La empresa VIVAFLY se complace en anunciar que La participante\", nombre, \"ganó\", premio4, \" , bono de 200.000 y\", puntos, \"puntos\")\n",
        "elif (balota == \"roja\"):\n",
        "  print(premio5, \"pero gana bono de 120.000 y \", puntos, \"puntos\")\n",
        "else:\n",
        "    print(\"la balota no esta concursando\")\n",
        "\n",
        "\n",
        "\n",
        "\n",
        "\n",
        "\n"
      ],
      "execution_count": 26,
      "outputs": [
        {
          "output_type": "stream",
          "text": [
            "ingrese nombre del concursante: gaby\n",
            "ingrese color de balota :roja\n",
            "ingrese un valor :2\n",
            "ingrese la antiguedad: 11\n",
            "ingrese cuantos usuarios a referido: 11\n",
            "hace parte del programa de liderazgo: 1 para SI o 2 para NO1\n",
            "no hay premio pero gana bono de 120.000 y  250 puntos\n"
          ],
          "name": "stdout"
        }
      ]
    },
    {
      "cell_type": "code",
      "metadata": {
        "colab": {
          "base_uri": "https://localhost:8080/"
        },
        "id": "vGECeRpj_MUP",
        "outputId": "17988218-690d-4028-a3d2-6427792de8f4"
      },
      "source": [
        "valorv = int(input(\"ingrese un valor :\"))\n",
        "antiguedad = int(input(\"ingrese la antiguedad: \")) #>10 años = 50% sino 40%\n",
        "referidos = int(input(\"ingrese cuantos usuarios a referido: \")) #>10 usuarios = 30% sino 20%\n",
        "liderazgo = int(input(\"hace parte del programa de liderazgo: 1 para SI o 2 para NO\")) #20% sino 10%\n",
        "puntos = int(0)\n",
        "\n",
        "if (antiguedad>10 and referidos >10 and liderazgo ==2):\n",
        "  valorv * 0.5\n",
        "  if (puntos > 250):\n",
        "    puntos = 200 * 0.2\n",
        "  else:\n",
        "    pungos = 50 * 0.2\n",
        "print(puntos)"
      ],
      "execution_count": 33,
      "outputs": [
        {
          "output_type": "stream",
          "text": [
            "ingrese un valor :19999\n",
            "ingrese la antiguedad: 11\n",
            "ingrese cuantos usuarios a referido: 11\n",
            "hace parte del programa de liderazgo: 1 para SI o 2 para NO2\n",
            "0\n"
          ],
          "name": "stdout"
        }
      ]
    },
    {
      "cell_type": "code",
      "metadata": {
        "colab": {
          "base_uri": "https://localhost:8080/"
        },
        "id": "OP8YkFzk7MyD",
        "outputId": "f62ac282-1227-4fd0-defe-32cbdc844f1e"
      },
      "source": [
        "valorv = int(input(\"ingrese un valor :\"))\n",
        "antiguedad = int(input(\"ingrese la antiguedad: \")) #>10 años = 50% sino 40%\n",
        "referidos = int(input(\"ingrese cuantos usuarios a referido: \")) #>10 usuarios = 30% sino 20%\n",
        "liderazgo = int(input(\"hace parte del programa de liderazgo: 1 para SI o 2 para NO\")) #20% sino 10%\n",
        "puntos = int(0)\n",
        "\n",
        "if (antiguedad>10 or referidos<10 or liderazgo ==2):\n",
        "  valorv * 0.5\n",
        "  if (puntos > 250):\n",
        "    puntos = 200 * 0.1\n",
        "  else:\n",
        "    puntos = 50 * 0.1\n",
        "print(puntos)"
      ],
      "execution_count": 30,
      "outputs": [
        {
          "output_type": "stream",
          "text": [
            "ingrese un valor :3\n",
            "ingrese la antiguedad: 3\n",
            "ingrese cuantos usuarios a referido: 3\n",
            "hace parte del programa de liderazgo: 1 para SI o 2 para NO2\n",
            "5.0\n"
          ],
          "name": "stdout"
        }
      ]
    }
  ]
}