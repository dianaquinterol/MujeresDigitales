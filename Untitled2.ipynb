{
  "nbformat": 4,
  "nbformat_minor": 0,
  "metadata": {
    "colab": {
      "name": "Untitled2.ipynb",
      "provenance": [],
      "authorship_tag": "ABX9TyN41tAbrOk7ADGjwyT17Fg9",
      "include_colab_link": true
    },
    "kernelspec": {
      "name": "python3",
      "display_name": "Python 3"
    },
    "language_info": {
      "name": "python"
    }
  },
  "cells": [
    {
      "cell_type": "markdown",
      "metadata": {
        "id": "view-in-github",
        "colab_type": "text"
      },
      "source": [
        "<a href=\"https://colab.research.google.com/github/dianaquinterol/MujeresDigitales/blob/main/Untitled2.ipynb\" target=\"_parent\"><img src=\"https://colab.research.google.com/assets/colab-badge.svg\" alt=\"Open In Colab\"/></a>"
      ]
    },
    {
      "cell_type": "markdown",
      "metadata": {
        "id": "EJYQxsJ_fWIw"
      },
      "source": [
        "# Tarea 2"
      ]
    },
    {
      "cell_type": "code",
      "metadata": {
        "colab": {
          "base_uri": "https://localhost:8080/"
        },
        "id": "MSNJb4pDfaDD",
        "outputId": "ed59ae6a-4591-4cdc-af93-b32cc8e24816"
      },
      "source": [
        "print(24+87-13)# sumar directamente"
      ],
      "execution_count": 1,
      "outputs": [
        {
          "output_type": "stream",
          "text": [
            "98\n"
          ],
          "name": "stdout"
        }
      ]
    },
    {
      "cell_type": "code",
      "metadata": {
        "colab": {
          "base_uri": "https://localhost:8080/"
        },
        "id": "5vrMrsuzfiOy",
        "outputId": "39b337ff-30ff-45ad-b02a-b5996b9e8570"
      },
      "source": [
        "a =5\n",
        "b = 4\n",
        "c = a + b\n",
        "print(c)\n",
        "\n"
      ],
      "execution_count": 2,
      "outputs": [
        {
          "output_type": "stream",
          "text": [
            "9\n"
          ],
          "name": "stdout"
        }
      ]
    },
    {
      "cell_type": "code",
      "metadata": {
        "colab": {
          "base_uri": "https://localhost:8080/"
        },
        "id": "BeM4FWo7hXJM",
        "outputId": "ba33fe82-15a4-410f-bb91-e1e5a3fb0874"
      },
      "source": [
        "a = (int(input(\"ingrese un numero\")))\n",
        "b = (int(input(\"ingrese otro numero\")))\n",
        "c = ((a+b)+2-8)\n",
        "print(c)"
      ],
      "execution_count": 6,
      "outputs": [
        {
          "output_type": "stream",
          "text": [
            "ingrese un numero5\n",
            "ingrese otro numero5\n",
            "4\n"
          ],
          "name": "stdout"
        }
      ]
    },
    {
      "cell_type": "code",
      "metadata": {
        "colab": {
          "base_uri": "https://localhost:8080/"
        },
        "id": "MZWq4tjuiArb",
        "outputId": "e6f2ae72-f38f-4196-f5c3-d0ca16ec47f0"
      },
      "source": [
        "num1 = (int(input(\"ingrese un numero\")))\n",
        "num2 = (int(input(\"ingrese otro numero\")))\n",
        "resultado = (2-8 *6)\n",
        "print(resultado)"
      ],
      "execution_count": 7,
      "outputs": [
        {
          "output_type": "stream",
          "text": [
            "ingrese un numero5\n",
            "ingrese otro numero5\n",
            "-46\n"
          ],
          "name": "stdout"
        }
      ]
    },
    {
      "cell_type": "code",
      "metadata": {
        "colab": {
          "base_uri": "https://localhost:8080/"
        },
        "id": "ieHVI48GiQHu",
        "outputId": "788e4f9c-35bf-4159-b357-7e6d08863df3"
      },
      "source": [
        "num1 = (int(input(\"ingrese un numero\")))\n",
        "num2 = (int(input(\"ingrese otro numero\")))\n",
        "\n",
        "suma = (num1+num2)\n",
        "resta = (num1-num2)\n",
        "multiplicacion = (num1*num2)\n",
        "division = (num1/num2)\n",
        "print(suma, resta, multiplicacion, division)"
      ],
      "execution_count": 9,
      "outputs": [
        {
          "output_type": "stream",
          "text": [
            "ingrese un numero2\n",
            "ingrese otro numero2\n",
            "4 0 4 1.0\n"
          ],
          "name": "stdout"
        }
      ]
    },
    {
      "cell_type": "code",
      "metadata": {
        "colab": {
          "base_uri": "https://localhost:8080/"
        },
        "id": "aNJBgZZMjQU0",
        "outputId": "76049e83-42d4-4710-82fe-14748fb3b8ef"
      },
      "source": [
        "nombre = (input(\"ingrese su nombre\"))\n",
        "apellido = (input(\"ingrese su apellido\"))\n",
        "edad = (input(\"ingrese su edad\"))\n",
        "print(nombre, apellido, edad, \"años\")"
      ],
      "execution_count": 11,
      "outputs": [
        {
          "output_type": "stream",
          "text": [
            "ingrese su nombreDiana\n",
            "ingrese su apellidoQuintero\n",
            "ingrese su edad41\n",
            "Diana Quintero 41 años\n"
          ],
          "name": "stdout"
        }
      ]
    }
  ]
}