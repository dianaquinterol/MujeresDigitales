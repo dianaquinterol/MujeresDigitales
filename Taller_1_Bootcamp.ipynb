{
  "nbformat": 4,
  "nbformat_minor": 0,
  "metadata": {
    "colab": {
      "name": "Taller 1_Bootcamp.ipynb",
      "provenance": [],
      "include_colab_link": true
    },
    "kernelspec": {
      "name": "python3",
      "display_name": "Python 3"
    },
    "language_info": {
      "name": "python"
    }
  },
  "cells": [
    {
      "cell_type": "markdown",
      "metadata": {
        "id": "view-in-github",
        "colab_type": "text"
      },
      "source": [
        "<a href=\"https://colab.research.google.com/github/dianaquinterol/MujeresDigitales/blob/main/Taller_1_Bootcamp.ipynb\" target=\"_parent\"><img src=\"https://colab.research.google.com/assets/colab-badge.svg\" alt=\"Open In Colab\"/></a>"
      ]
    },
    {
      "cell_type": "code",
      "metadata": {
        "id": "SNrN-Wp_rIOD"
      },
      "source": [
        ""
      ],
      "execution_count": null,
      "outputs": []
    },
    {
      "cell_type": "markdown",
      "metadata": {
        "id": "FaDy_j77H1WR"
      },
      "source": [
        "## **TALLER 1**\n",
        "1."
      ]
    },
    {
      "cell_type": "code",
      "metadata": {
        "id": "VNpH0CYUNbZc",
        "outputId": "ef1aed07-3371-4655-db17-6abc49dd30ec",
        "colab": {
          "base_uri": "https://localhost:8080/"
        }
      },
      "source": [
        "tareas = 4.5\n",
        "talleres = 4\n",
        "asistencia = 5\n",
        "participacion = 4\n",
        "promedio = (( tareas + talleres + asistencia + participacion) / 5 )\n",
        "proyecto = 3.7 - promedio # para saber la nota que debemos sacar en el proyecto, le decimos el promedio que debemos alcanzar, menos el promedio de notas que llevamos\n",
        "\n",
        "print(\" para alcanzar un promedio de 3.7, la nota del proyecto debe ser \" , proyecto)"
      ],
      "execution_count": 15,
      "outputs": [
        {
          "output_type": "stream",
          "text": [
            " para alcanzar un promedio de 3.7, la nota del proyecto debe ser  0.20000000000000018\n"
          ],
          "name": "stdout"
        }
      ]
    },
    {
      "cell_type": "markdown",
      "metadata": {
        "id": "oplsG7DZINd-"
      },
      "source": [
        "# 2."
      ]
    },
    {
      "cell_type": "code",
      "metadata": {
        "id": "vQzGm4-RIUPZ"
      },
      "source": [
        "nombre = input(\"ingrese nombre del concursante: \")\n",
        "balota = input(\"ingrese color de balota :\")\n",
        "\n",
        "\n",
        "if (balota == \"rosada\"):\n",
        "  print(\"La empresa VIVAFLY se complace en anunciar que La participante\", nombre, \"ganó\" ,\"Viaje todo incluído para dos personas a San Andrés y bono de 150.000\")\n",
        "elif (balota == \"verde\"):\n",
        "  print(\"La empresa VIVAFLY se complace en anunciar que La participante\", nombre, \"ganó\" ,\"un pasadía a los termales de San Vicente incluyendo almuerzo y un bono de 200.000\" )\n",
        "elif (balota == \"azul\"):\n",
        "  print(\"La empresa VIVAFLY se complace en anunciar que La participante\", nombre, \"ganó\" ,\"Viaje todo incluido para dos personas a Santa Marta y dos boletas de cine 4D para la película en estreno del mes incluyendo un solo combo de palomitas \")\n",
        "elif (balota ==\"gris\"):\n",
        "  print(\"La empresa VIVAFLY se complace en anunciar que La participante\", nombre, \"ganó\", \"Pasadía al desierto de Tatacoa (Sin incluír alimentación) y bono de 200.000\")\n",
        "elif (balota == \"roja\"):\n",
        "  print(\"no hay premio, pero gana bono de 120.000\")\n",
        "else:\n",
        "    print(\"la balota no esta concursando\")"
      ],
      "execution_count": null,
      "outputs": []
    },
    {
      "cell_type": "markdown",
      "metadata": {
        "id": "uq956kG_rJWs"
      },
      "source": [
        "# **TALLER 1**\n",
        "\n",
        "\n",
        "---\n",
        "# 1. \n",
        "El Bootcamp comenzo el 26 de Julio del 2021, se les explico a las estudiantes que se les evaluaría de la siguiente forma:\n",
        "\n",
        "Tareas= 10%\n",
        "Talleres=25%\n",
        "Asistencia=5%\n",
        "Participación=15%\n",
        "Proyecto=45%\n",
        "\n",
        "teniendo en cuenta las ponderaciones de calificación del bootcamp, las estudiantes deciden desarrollar un programa que les permita saber cuanto tendría que sacar en el proyecto para tener una definitiva de 3.7 minimo en el curso. si las notas que llevan hasta el momento son las siguientes:\n",
        "\n",
        "Tareas=4.5\n",
        "Talleres=4\n",
        "Asistencia=5\n",
        "paticipación=4\n",
        "\n",
        "¿Cuanto tendrían que sacar en el proyecto?\n",
        "\n",
        "# 2. \n",
        "La empresa VIVAFLY tiene como eslogan: \"Satisfacción y plenitud en un solo viaje\". Por lo cual, uno de los medios que utiliza VIVAFLY para mantener la satisfacción al cliente, es realizar rifas a lo largo del año para fomentar mayor unión y entendimiento. \n",
        "Para el mes de septiembre, por motivos de celebración de Amor y Amistad, la empresa decide sortear los siguientes viajes a los 5 clientes con más antigüedad:\n",
        "\n",
        "1. Viaje todo incluído para dos personas a San Andrés(Premio 1)\n",
        "2. un pasadía a los termales de San Vicente incluyendo almuerzo (Premio 2)\n",
        "3. Viaje todo incluido para dos personas a Santa Marta (Premio 3)\n",
        "4. Pasadía al desierto de Tatacoa (Sin incluír alimentación) (Premio 4)\n",
        "\n",
        "La empresa utilizará para el sorteo el método de balotera. A continuación se menciona el color ganador por premio:\n",
        "1. Rosado= Premio 1\n",
        "2. Verde=Premio 2\n",
        "3. Azul=Premio 3\n",
        "4. Gris=Premio 4\n",
        "5. Roja=No hay premio\n",
        "\n",
        "La probabilidad de sacar una balota rosada es del 15%, verde 20%, azul 5%, gris 20% y roja 40%. \n",
        "\n",
        "Adicionalmente, para las personas que SI obtengan premio, recibirán un bono en efectivo del porcentaje que represente la probabilidad de ganar con cada balota sobre un valor de 1.000.000 pesos. Sin embargo, se debe tener en cuenta que, Si al aplicar el porcentaje arroja un valor inferior a 120.000, no se les dará el bono en efectivo sino dos boletas de cine 4D para la película en estreno del mes incluyendo un solo combo de palomitas.Por otro lado, para la persona que saque balota roja obtendrá un premio de 120.000 pesos.\n",
        "\n",
        "\n",
        "**Nota:** El sorteo se realiza con el método de NO reemplazo. Es decir, la probabilidad de sacar cada una de las balotas es la misma para los 5 clientes. Porque a medida que vayan sacando las balotas ganadoras estás se regresan a la balotera y se mantendrá la misma cantidad de balotas.\n",
        "\n",
        "Teniendo en cuenta lo anterior.Se le pide a la analista que genere un código donde se pueda observar las respectivas premiaciones. \n",
        "\n",
        "las entradas deben ser las siguientes:\n",
        "\n",
        "- Nombre de la concursante\n",
        "- Color de balota\n",
        "\n",
        "Salida:\n",
        "\n",
        "- Premio \n",
        "\n",
        "Enunciado de salida:\n",
        "\"La empresa VIVAFLY se complace en anunciar que La participante _________ ganó _____________ en nuestro sorteo de viajes de AMOR y AMISTAD\"\n",
        "\n",
        "Ejemplo:\n",
        "\"La empresa VIVAFLY se complace en anunciar que La participante ANA ganó un pasadía a los termales de San Vicente en nuestro sorteo de viajes de AMOR y AMISTAD\"\n"
      ]
    }
  ]
}